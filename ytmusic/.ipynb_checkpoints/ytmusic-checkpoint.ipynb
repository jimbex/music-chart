{
 "cells": [
  {
   "cell_type": "code",
   "execution_count": 56,
   "id": "native-guidance",
   "metadata": {},
   "outputs": [],
   "source": [
    "with open('week21.txt') as file:\n",
    "    read = file.read()"
   ]
  },
  {
   "cell_type": "code",
   "execution_count": 57,
   "id": "forbidden-river",
   "metadata": {},
   "outputs": [],
   "source": [
    "read = read.split('\\n \\n')"
   ]
  },
  {
   "cell_type": "code",
   "execution_count": 53,
   "id": "eligible-metropolitan",
   "metadata": {},
   "outputs": [],
   "source": [
    "x = 0\n",
    "while x < len(read):\n",
    "    read[x] = read[x].replace('\\n', ' ')\n",
    "    x +=1"
   ]
  },
  {
   "cell_type": "code",
   "execution_count": 54,
   "id": "advised-tolerance",
   "metadata": {},
   "outputs": [],
   "source": [
    "x = 0\n",
    "while x < len(read):\n",
    "    read[x] = read[x].split('\\n')\n",
    "    x += 1"
   ]
  },
  {
   "cell_type": "code",
   "execution_count": 74,
   "id": "disabled-equivalent",
   "metadata": {},
   "outputs": [
    {
     "data": {
      "text/plain": [
       "['\\n\\nRunning (To You)\\nChike\\nRunning (To You)',\n",
       " '3:12\\n\\nButter\\nBTS\\nButter',\n",
       " '2:45\\n\\nRock\\nOlamide\\nRock',\n",
       " '3:06\\n\\nFeeling\\nLadipoe\\n & \\nBuju\\nFeeling',\n",
       " '3:45\\n\\nBounce\\nRuger\\nPANDEMIC',\n",
       " '3:05\\n\\nForever (Remix)\\nGyakie\\n & \\nOmah Lay\\nForever (Remix)',\n",
       " '3:22\\n\\nJehovah Overdo\\nChidinma\\nJehovah Overdo',\n",
       " '4:45\\n\\nLa La (feat. Ckay)\\nDavido\\nA Better Time',\n",
       " '3:08\\n\\nBody (Remix) (feat. ZT (3x3), Fivio Foreign, Buni & ArrDee)\\nRuss\\n & \\nTion Wayne',\n",
       " '4:41\\n\\nGodly\\nOmah Lay\\nWhat Have We Done',\n",
       " '2:56\\n\\nEssence (feat. Tems)\\nWizKid\\nMade In Lagos',\n",
       " '4:09\\n\\nFOR YOU (feat. Davido)\\nTeni\\nFOR YOU',\n",
       " '3:09\\n\\nSai dake\\nHamisu Breaker\\nSai dake',\n",
       " '4:07\\n\\nSUN GOES DOWN\\nLil Nas X\\nSUN GOES DOWN',\n",
       " '2:49\\n\\nBounce\\nRema\\nBounce',\n",
       " '3:08\\n\\nHistory (feat. Fireboy DML)\\nCheque\\nHistory',\n",
       " '2:58\\n\\njennifer\\nGuchi\\njennifer',\n",
       " \"2:57\\n\\nMONTERO: Call Me By Your Name (SATAN'S EXTENDED VERSION)\\nLil Nas X\\nMONTERO: Call Me By Your Name\",\n",
       " '2:51\\n\\nKe Star (Remix) (feat. Virgo Deep)\\nFocalistic\\n & \\nDavido\\nKe Star (Remix)',\n",
       " '5:29\\n\\nKPK (Ko Por Ke)\\nRexxie\\n & \\nMohBad\\nKPK (Ko Por Ke)',\n",
       " '3:12\\n\\nComing\\nNaira Marley\\n & \\nBusiswa\\nComing',\n",
       " '4:08\\n\\nKilometre\\nBurna Boy\\nKilometre',\n",
       " '2:34\\n\\nCash App\\nBella Shmurda\\n, \\nZlatan\\n & \\nLincoln\\nCash App',\n",
       " '3:57\\n\\nHigh Way\\nDJ Kaywise\\n & \\nPhyno\\nHigh Way',\n",
       " '3:13\\n\\nOnyedikagi (feat. Glowrie)\\nMercy Chinwo\\nOnyedikagi',\n",
       " '4:58\\n\\nDimension (feat. Skepta & Rema)\\nJAE5\\nDimension',\n",
       " '3:55\\n\\nIt Is What It Is\\nAdekunle Gold\\nIt Is What It Is',\n",
       " '2:55\\n\\nIn My Maserati\\nOlakira\\nIn My Maserati',\n",
       " '3:22\\n\\nEnjoy\\nTekno\\nOld Romance',\n",
       " '2:17\\n\\nOlorun Agbaye: You Are Mighty (feat. Chandler Moore & OBA)\\nNATHANIEL BASSEY\\nOlorun Agbaye: You Are Mighty',\n",
       " '7:19\\n\\nFocus\\nJoeboy\\nSomewhere Between Beauty & Magic',\n",
       " '2:33\\n\\nFelony\\nCKay\\nFelony',\n",
       " '2:26\\n\\nSTUNNAMAN (feat. Lil Wayne)\\nBirdman\\n & \\nRoddy Ricch\\nSTUNNAMAN',\n",
       " '3:40\\n\\nBling (feat. Amaarae & Buju)\\nBlaqbonez\\nBling',\n",
       " '3:50\\n\\nKoleyewon\\nNaira Marley\\nKoleyewon',\n",
       " '3:40\\n\\nIf You No Love (feat. Mayorkun)\\nChike',\n",
       " '3:41\\n\\nHallelu (feat. Bella Shmurda & Zlatan)\\nMasterkraft\\nHallelu',\n",
       " '3:34\\n\\nSomebody Baby\\nPeruzzi\\n & \\nDavido\\nSomebody Baby',\n",
       " '2:20\\n\\nPronto\\nAjebo Hustlers\\n & \\nOmah Lay\\nPronto',\n",
       " '2:41\\n\\nSouthy Love (feat. Fireboy DML)\\nPeruzzi\\nSouthy Love',\n",
       " '3:30\\n\\nThe Best (feat. Mayorkun)\\nDavido\\nA Better Time',\n",
       " '2:52\\n\\nShow Me\\nJoeboy\\nSomewhere Between Beauty & Magic',\n",
       " '2:49\\n\\nGinger (feat. Burna Boy)\\nWizKid\\nMade In Lagos',\n",
       " '3:17\\n\\nAbule\\nPatoranking\\nThree',\n",
       " '3:20\\n\\nOmo Ologo\\nLil frosh\\n & \\nZinoleesky\\nOmo Ologo',\n",
       " '3:17\\n\\nJowo\\nDavido\\nA Better Time',\n",
       " '2:57\\n\\nBigger Everyday\\nMoses Bliss, Festizie, Membrane, Uwa, Chris Heavens & Temple\\nBigger Everyday',\n",
       " '6:13\\n\\nGANG GANG\\nPolo G\\n & \\nLil Wayne\\nGANG GANG',\n",
       " '2:59\\n\\nJireh (feat. Chandler Moore & Naomi Raine)\\nMaverick City Music\\n & \\nElevation Worship',\n",
       " '9:59\\n\\n23\\nBurna Boy\\nTwice As Tall',\n",
       " '4:06\\n\\na m a r i\\nJ. Cole\\nThe Off-Season',\n",
       " '2:29\\n\\nKilofeshe\\nZinoleesky\\nKilofeshe',\n",
       " '2:45\\n\\nWorld\\nDangbana Republik\\n & \\nBella Shmurda\\nWorld',\n",
       " '2:12\\n\\nPeaches (feat. Daniel Caesar & Giveon)\\nJustin Bieber\\nJustice',\n",
       " '3:19\\n\\nSave Your Tears\\nThe Weeknd\\nAfter Hours',\n",
       " '3:36\\n\\nLET IT GO (feat. Justin Bieber & 21 Savage)\\nDJ Khaled\\nKHALED KHALED',\n",
       " '2:46\\n\\nDama (feat. Hamisu Breaker)\\nNamenj\\nDama',\n",
       " '2:57\\n\\nToo Correct\\nCrayon\\n & \\nRema\\nTwelve A.M',\n",
       " '3:29\\n\\nLoved By You (feat. Burna Boy)\\nJustin Bieber\\nJustice',\n",
       " '2:40\\n\\nGifted\\nNeeQah\\nGifted',\n",
       " '2:59\\n\\nStraightenin\\nMigos\\nStraightenin',\n",
       " '4:16\\n\\nOutside\\nBuju\\nOutside',\n",
       " '3:12\\n\\nBuild a Bitch\\nBella Poarch\\nBuild a Bitch',\n",
       " '2:03\\n\\na p p l y i n g . p r e s s u r e\\nJ. Cole\\nThe Off-Season',\n",
       " '2:58\\n\\nGood Woman\\nFlavour\\nFlavour of Africa',\n",
       " '5:10\\n\\nEarly Momo (feat. Good Girl LA)\\nVector\\nEarly Momo',\n",
       " '3:13\\n\\nCongratulations (feat. Buchi)\\nAda Ehi\\nBorn of God',\n",
       " '4:55\\n\\nAre You Sure (feat. Emo Grae, Naira Marley & Zinoleesky)\\nLyta\\nAre You Sure',\n",
       " '3:12\\n\\nKOLO (feat. Oxlade)\\nIce Prince\\nKOLO',\n",
       " '2:49\\n\\nDoor\\nJoeboy\\nSomewhere Between Beauty & Magic',\n",
       " '2:33\\n\\nLove Like This\\nLil Kesh ft Fireboy Dml\\nEcstacy',\n",
       " '3:14\\n\\nDanca\\nAcebergtm\\nDanca',\n",
       " '3:24\\n\\nRuger\\nRuger\\nRuger',\n",
       " '3:12\\n\\nLeave The Door Open\\nBruno Mars\\n, \\nAnderson .Paak\\n & \\nSilk Sonic\\nLeave The Door Open',\n",
       " '4:03\\n\\nAmeno\\nERA',\n",
       " '4:13\\n\\nUp\\nCardi B\\nUp',\n",
       " '2:37\\n\\nMillion Little Miracles (feat. Joe L Barnes)\\nElevation Worship\\n & \\nMaverick City Music\\nOld Church Basement',\n",
       " '6:46\\n\\nAway\\nAyra Starr\\nAyra Starr',\n",
       " '2:50\\n\\nDon Dada\\nTimaya\\nGratitude',\n",
       " '3:29\\n\\nWait On You (feat. Dante Bowe & Chandler Moore)\\nElevation Worship\\n & \\nMaverick City Music\\nWait On You',\n",
       " '9:25\\n\\nAt My Worst\\nPink Sweat$\\nThe Prelude',\n",
       " '2:51\\n\\n9 5 . s o u t h\\nJ. Cole\\nThe Off-Season',\n",
       " '3:17\\n\\nMERCY CHINWO AND CHIOMA JESUS PERFORMING ONEMMENMA LIVE ON STAGE AT AMANATOR 2021 PRAISE CRUSADE\\nChioma Jesus',\n",
       " '7:41\\n\\nSquander\\nFalz\\n & \\nNiniola\\nSquander',\n",
       " '3:10\\n\\nYadda Kunne Yaji\\nHamisu Breaker\\nYadda Kunne Yaji',\n",
       " '3:19\\n\\nDynamite\\nBTS\\nBE',\n",
       " '3:20\\n\\nOlorun Mi\\nTim Godfrey\\nAlready Won',\n",
       " '6:52\\n\\nGANI A SO\\nZainab Ambato\\nzainab ambato',\n",
       " '4:45\\n\\nKiss Me More (feat. SZA)\\nDoja Cat\\nKiss Me More',\n",
       " '3:29\\n\\nEverything (Amen)\\nTimi Dakolo\\nEverything (Amen)',\n",
       " '3:58\\n\\nSORRY NOT SORRY (Harmonies by The Hive) (feat. Nas, JAY-Z & James Fauntleroy)\\nDJ Khaled\\nKHALED KHALED',\n",
       " '4:19\\n\\nMaybach (feat. Future)\\n42 Dugg\\nFree Dem Boyz',\n",
       " '3:20\\n\\nCialde\\nZero Assoluto\\nCialde',\n",
       " '3:06\\n\\nExotic\\nKorexx\\nMello Vibez Riddim',\n",
       " '3:04\\n\\nSeeing Green\\nNicki Minaj\\n, \\nDrake\\n & \\nLil Wayne\\nBeam Me Up Scotty',\n",
       " '5:40\\n\\nZ Look Jamaican\\nKodak Black\\nHaitian Boy Kodak',\n",
       " '2:37\\n\\nINJURE ME\\nTeni\\nWONDALAND',\n",
       " '2:33\\n\\nAstronaut In The Ocean\\nMasked Wolf\\nAstronaut In The Ocean',\n",
       " \"2:13\\n\\nYou're Welcome\\nDwayne Johnson\\nMoana (Original Motion Picture Soundtrack/Deluxe Edition)\",\n",
       " '2:43\\n\\nNesesari (feat. Philkeyz)\\nKizz Daniel\\nNo Bad Songz',\n",
       " '']"
      ]
     },
     "execution_count": 74,
     "metadata": {},
     "output_type": "execute_result"
    }
   ],
   "source": [
    "read"
   ]
  },
  {
   "cell_type": "code",
   "execution_count": 70,
   "id": "contemporary-finish",
   "metadata": {},
   "outputs": [],
   "source": [
    "song = []\n",
    "import re\n",
    "for x in read:\n",
    "    a = re.findall('\\n\\n.*?\\n', x)\n",
    "    song.append(''.join(a))"
   ]
  },
  {
   "cell_type": "code",
   "execution_count": 87,
   "id": "signed-reply",
   "metadata": {},
   "outputs": [
    {
     "data": {
      "text/plain": [
       "101"
      ]
     },
     "execution_count": 87,
     "metadata": {},
     "output_type": "execute_result"
    }
   ],
   "source": [
    "len(song)"
   ]
  },
  {
   "cell_type": "code",
   "execution_count": 82,
   "id": "variable-maple",
   "metadata": {},
   "outputs": [],
   "source": [
    "artist = []\n",
    "import re\n",
    "for x in read:\n",
    "    a = re.findall('\\n.*\\n', x)\n",
    "    artist.append(' & '.join(a))"
   ]
  },
  {
   "cell_type": "code",
   "execution_count": 86,
   "id": "rolled-avenue",
   "metadata": {},
   "outputs": [
    {
     "data": {
      "text/plain": [
       "100"
      ]
     },
     "execution_count": 86,
     "metadata": {},
     "output_type": "execute_result"
    }
   ],
   "source": [
    "artist.pop(-1)"
   ]
  },
  {
   "cell_type": "code",
   "execution_count": 16,
   "id": "entire-identification",
   "metadata": {},
   "outputs": [],
   "source": [
    "x = 0\n",
    "while x < len(read):\n",
    "    read[x] = read[x].replace('\\n', '')\n",
    "    x += 1"
   ]
  },
  {
   "cell_type": "code",
   "execution_count": 17,
   "id": "hundred-programming",
   "metadata": {},
   "outputs": [],
   "source": [
    "while '' in read:\n",
    "    read.remove('')"
   ]
  },
  {
   "cell_type": "code",
   "execution_count": 19,
   "id": "armed-northern",
   "metadata": {},
   "outputs": [
    {
     "data": {
      "text/plain": [
       "21"
      ]
     },
     "execution_count": 19,
     "metadata": {},
     "output_type": "execute_result"
    }
   ],
   "source": [
    "read.coun\n",
    "    "
   ]
  }
 ],
 "metadata": {
  "kernelspec": {
   "display_name": "Python 3",
   "language": "python",
   "name": "python3"
  },
  "language_info": {
   "codemirror_mode": {
    "name": "ipython",
    "version": 3
   },
   "file_extension": ".py",
   "mimetype": "text/x-python",
   "name": "python",
   "nbconvert_exporter": "python",
   "pygments_lexer": "ipython3",
   "version": "3.9.2"
  }
 },
 "nbformat": 4,
 "nbformat_minor": 5
}
