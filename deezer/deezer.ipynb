{
 "cells": [
  {
   "cell_type": "code",
   "execution_count": 21,
   "id": "boring-recycling",
   "metadata": {},
   "outputs": [],
   "source": [
    "from datetime import datetime\n",
    "m = datetime.today().strftime('%B')\n",
    "d = datetime.today().strftime('%d')\n",
    "d = int(d)"
   ]
  },
  {
   "cell_type": "code",
   "execution_count": 22,
   "id": "perceived-tsunami",
   "metadata": {},
   "outputs": [],
   "source": [
    "with open(f'{m}{d}.txt') as file:\n",
    "    read = file.readlines()"
   ]
  },
  {
   "cell_type": "code",
   "execution_count": 23,
   "id": "intense-missouri",
   "metadata": {},
   "outputs": [],
   "source": [
    "x = 0\n",
    "while x < len(read):\n",
    "    read[x] = read[x].replace('\\n', '')\n",
    "    x += 1"
   ]
  },
  {
   "cell_type": "code",
   "execution_count": 24,
   "id": "acquired-transcript",
   "metadata": {},
   "outputs": [],
   "source": [
    "while '' in read:\n",
    "    read.remove('')"
   ]
  },
  {
   "cell_type": "code",
   "execution_count": 25,
   "id": "productive-christian",
   "metadata": {},
   "outputs": [],
   "source": [
    "for x in read:\n",
    "    if x.isdigit():\n",
    "        continue\n",
    "    if len(x) < 2:\n",
    "        read.remove(x)       "
   ]
  },
  {
   "cell_type": "code",
   "execution_count": 26,
   "id": "vital-pixel",
   "metadata": {},
   "outputs": [],
   "source": [
    "position = []\n",
    "artist = []\n",
    "song = []\n",
    "album = []\n",
    "i = 0\n",
    "for x in read:\n",
    "    i += 1\n",
    "    if i == 1:\n",
    "        position.append(x)\n",
    "    elif i == 2:\n",
    "        song.append(x)\n",
    "    elif i == 3:\n",
    "        artist.append(x)\n",
    "    elif i == 4:\n",
    "        album.append(x)\n",
    "    else:\n",
    "        i = 0"
   ]
  },
  {
   "cell_type": "code",
   "execution_count": 27,
   "id": "traditional-desire",
   "metadata": {},
   "outputs": [],
   "source": [
    "data = {'Position': position ,'song': song, 'artist': artist, 'album': album}"
   ]
  },
  {
   "cell_type": "code",
   "execution_count": 28,
   "id": "about-questionnaire",
   "metadata": {},
   "outputs": [],
   "source": [
    "import pandas as pd\n",
    "\n",
    "df = pd.DataFrame(data)\n",
    "df = df.set_index('Position')"
   ]
  },
  {
   "cell_type": "code",
   "execution_count": 29,
   "id": "pregnant-practice",
   "metadata": {},
   "outputs": [
    {
     "data": {
      "text/html": [
       "<div>\n",
       "<style scoped>\n",
       "    .dataframe tbody tr th:only-of-type {\n",
       "        vertical-align: middle;\n",
       "    }\n",
       "\n",
       "    .dataframe tbody tr th {\n",
       "        vertical-align: top;\n",
       "    }\n",
       "\n",
       "    .dataframe thead th {\n",
       "        text-align: right;\n",
       "    }\n",
       "</style>\n",
       "<table border=\"1\" class=\"dataframe\">\n",
       "  <thead>\n",
       "    <tr style=\"text-align: right;\">\n",
       "      <th></th>\n",
       "      <th>song</th>\n",
       "      <th>artist</th>\n",
       "      <th>album</th>\n",
       "    </tr>\n",
       "    <tr>\n",
       "      <th>Position</th>\n",
       "      <th></th>\n",
       "      <th></th>\n",
       "      <th></th>\n",
       "    </tr>\n",
       "  </thead>\n",
       "  <tbody>\n",
       "    <tr>\n",
       "      <th>1</th>\n",
       "      <td>Understand</td>\n",
       "      <td>Omah lay</td>\n",
       "      <td>Understand</td>\n",
       "    </tr>\n",
       "    <tr>\n",
       "      <th>2</th>\n",
       "      <td>Bounce</td>\n",
       "      <td>Ruger</td>\n",
       "      <td>PANDEMIC</td>\n",
       "    </tr>\n",
       "    <tr>\n",
       "      <th>3</th>\n",
       "      <td>Feeling</td>\n",
       "      <td>LADIPOE, Buju</td>\n",
       "      <td>Feeling</td>\n",
       "    </tr>\n",
       "    <tr>\n",
       "      <th>4</th>\n",
       "      <td>Peru</td>\n",
       "      <td>Fireboy Dml</td>\n",
       "      <td>Peru</td>\n",
       "    </tr>\n",
       "    <tr>\n",
       "      <th>5</th>\n",
       "      <td>Outside</td>\n",
       "      <td>Buju</td>\n",
       "      <td>Outside</td>\n",
       "    </tr>\n",
       "    <tr>\n",
       "      <th>...</th>\n",
       "      <td>...</td>\n",
       "      <td>...</td>\n",
       "      <td>...</td>\n",
       "    </tr>\n",
       "    <tr>\n",
       "      <th>96</th>\n",
       "      <td>Oh No</td>\n",
       "      <td>Alpha P</td>\n",
       "      <td>Oh No</td>\n",
       "    </tr>\n",
       "    <tr>\n",
       "      <th>97</th>\n",
       "      <td>Champion</td>\n",
       "      <td>Dangbana Republik, Bella Shmurda</td>\n",
       "      <td>High Tension 2.0</td>\n",
       "    </tr>\n",
       "    <tr>\n",
       "      <th>98</th>\n",
       "      <td>Straightenin</td>\n",
       "      <td>Migos</td>\n",
       "      <td>Straightenin</td>\n",
       "    </tr>\n",
       "    <tr>\n",
       "      <th>99</th>\n",
       "      <td>Peaches (Masterkraft Remix)</td>\n",
       "      <td>Justin Bieber, Alpha P, Omah lay</td>\n",
       "      <td>Peaches (Masterkraft Remix)</td>\n",
       "    </tr>\n",
       "    <tr>\n",
       "      <th>100</th>\n",
       "      <td>More Time</td>\n",
       "      <td>Pop Smoke</td>\n",
       "      <td>Faith</td>\n",
       "    </tr>\n",
       "  </tbody>\n",
       "</table>\n",
       "<p>100 rows × 3 columns</p>\n",
       "</div>"
      ],
      "text/plain": [
       "                                 song                            artist  \\\n",
       "Position                                                                  \n",
       "1                          Understand                          Omah lay   \n",
       "2                              Bounce                             Ruger   \n",
       "3                             Feeling                     LADIPOE, Buju   \n",
       "4                                Peru                       Fireboy Dml   \n",
       "5                             Outside                              Buju   \n",
       "...                               ...                               ...   \n",
       "96                              Oh No                           Alpha P   \n",
       "97                           Champion  Dangbana Republik, Bella Shmurda   \n",
       "98                       Straightenin                             Migos   \n",
       "99        Peaches (Masterkraft Remix)  Justin Bieber, Alpha P, Omah lay   \n",
       "100                         More Time                         Pop Smoke   \n",
       "\n",
       "                                album  \n",
       "Position                               \n",
       "1                          Understand  \n",
       "2                            PANDEMIC  \n",
       "3                             Feeling  \n",
       "4                                Peru  \n",
       "5                             Outside  \n",
       "...                               ...  \n",
       "96                              Oh No  \n",
       "97                   High Tension 2.0  \n",
       "98                       Straightenin  \n",
       "99        Peaches (Masterkraft Remix)  \n",
       "100                             Faith  \n",
       "\n",
       "[100 rows x 3 columns]"
      ]
     },
     "execution_count": 29,
     "metadata": {},
     "output_type": "execute_result"
    }
   ],
   "source": [
    "df"
   ]
  },
  {
   "cell_type": "code",
   "execution_count": 30,
   "id": "chronic-niger",
   "metadata": {},
   "outputs": [],
   "source": [
    "df.to_csv(f'{m}{d}.csv')"
   ]
  },
  {
   "cell_type": "code",
   "execution_count": 31,
   "id": "changing-punishment",
   "metadata": {},
   "outputs": [],
   "source": [
    "import urllib.request\n",
    "from bs4 import BeautifulSoup as bs\n",
    "songs = []\n",
    "html = str(urllib.request.urlopen('https://www.deezer.com/en/channels/module/24edc1b8-68cd-411f-b6ef-ce4972b9f671').read())\n",
    "soup = bs(html, 'html.parser')"
   ]
  },
  {
   "cell_type": "code",
   "execution_count": 32,
   "id": "micro-liability",
   "metadata": {},
   "outputs": [],
   "source": [
    "mydivs = soup.find_all(\"script\")"
   ]
  },
  {
   "cell_type": "code",
   "execution_count": 33,
   "id": "colonial-consultation",
   "metadata": {},
   "outputs": [],
   "source": [
    "tip = mydivs[5]"
   ]
  },
  {
   "cell_type": "code",
   "execution_count": 34,
   "id": "three-manner",
   "metadata": {},
   "outputs": [],
   "source": [
    "import js2xml as js\n",
    "tip = tip.string\n",
    "lin = js.parse(tip, debug = False)\n",
    "lint = js.pretty_print(lin)"
   ]
  },
  {
   "cell_type": "code",
   "execution_count": null,
   "id": "exciting-calendar",
   "metadata": {},
   "outputs": [],
   "source": [
    "print(ET.tostring(root, encoding='utf8').decode('utf8'))"
   ]
  },
  {
   "cell_type": "code",
   "execution_count": 35,
   "id": "willing-sullivan",
   "metadata": {},
   "outputs": [],
   "source": [
    "bd = bs(lint, 'xml')"
   ]
  },
  {
   "cell_type": "code",
   "execution_count": 36,
   "id": "outdoor-growing",
   "metadata": {},
   "outputs": [],
   "source": [
    "album = []\n",
    "artist = []\n",
    "p = bd.find_all('property')\n",
    "for x in p:\n",
    "    if x.get('name') == 'ALB_TITLE':\n",
    "        album.append(x.find('string').text)\n",
    "    if x.get('name') == 'ART_NAME':\n",
    "        artist.append(x.find('string').text)"
   ]
  },
  {
   "cell_type": "code",
   "execution_count": 37,
   "id": "external-thing",
   "metadata": {},
   "outputs": [],
   "source": [
    "data = {'Position': [x for x in range(1, len(album) + 1)] ,'artist': artist, 'album': album}"
   ]
  },
  {
   "cell_type": "code",
   "execution_count": 38,
   "id": "smart-voltage",
   "metadata": {},
   "outputs": [],
   "source": [
    "import pandas as pd\n",
    "\n",
    "df = pd.DataFrame(data)\n",
    "df = df.set_index('Position')    "
   ]
  },
  {
   "cell_type": "code",
   "execution_count": 39,
   "id": "interesting-singapore",
   "metadata": {},
   "outputs": [
    {
     "data": {
      "text/html": [
       "<div>\n",
       "<style scoped>\n",
       "    .dataframe tbody tr th:only-of-type {\n",
       "        vertical-align: middle;\n",
       "    }\n",
       "\n",
       "    .dataframe tbody tr th {\n",
       "        vertical-align: top;\n",
       "    }\n",
       "\n",
       "    .dataframe thead th {\n",
       "        text-align: right;\n",
       "    }\n",
       "</style>\n",
       "<table border=\"1\" class=\"dataframe\">\n",
       "  <thead>\n",
       "    <tr style=\"text-align: right;\">\n",
       "      <th></th>\n",
       "      <th>artist</th>\n",
       "      <th>album</th>\n",
       "    </tr>\n",
       "    <tr>\n",
       "      <th>Position</th>\n",
       "      <th></th>\n",
       "      <th></th>\n",
       "    </tr>\n",
       "  </thead>\n",
       "  <tbody>\n",
       "    <tr>\n",
       "      <th>1</th>\n",
       "      <td>Dave</td>\n",
       "      <td>We're All Alone In This Together</td>\n",
       "    </tr>\n",
       "    <tr>\n",
       "      <th>2</th>\n",
       "      <td>Pop Smoke</td>\n",
       "      <td>Faith (Deluxe)</td>\n",
       "    </tr>\n",
       "    <tr>\n",
       "      <th>3</th>\n",
       "      <td>Pop Smoke</td>\n",
       "      <td>Faith</td>\n",
       "    </tr>\n",
       "    <tr>\n",
       "      <th>4</th>\n",
       "      <td>Lojay</td>\n",
       "      <td>LV N ATTN</td>\n",
       "    </tr>\n",
       "    <tr>\n",
       "      <th>5</th>\n",
       "      <td>The Cavemen.</td>\n",
       "      <td>ROOTS</td>\n",
       "    </tr>\n",
       "    <tr>\n",
       "      <th>...</th>\n",
       "      <td>...</td>\n",
       "      <td>...</td>\n",
       "    </tr>\n",
       "    <tr>\n",
       "      <th>96</th>\n",
       "      <td>Lady Donli</td>\n",
       "      <td>Enjoy Your Life</td>\n",
       "    </tr>\n",
       "    <tr>\n",
       "      <th>97</th>\n",
       "      <td>Nathaniel Bassey</td>\n",
       "      <td>The King Is Coming</td>\n",
       "    </tr>\n",
       "    <tr>\n",
       "      <th>98</th>\n",
       "      <td>Ariana Grande</td>\n",
       "      <td>Sweetener</td>\n",
       "    </tr>\n",
       "    <tr>\n",
       "      <th>99</th>\n",
       "      <td>Loski</td>\n",
       "      <td>Music, Trial &amp; Trauma: A Drill Story</td>\n",
       "    </tr>\n",
       "    <tr>\n",
       "      <th>100</th>\n",
       "      <td>Lil Dicky</td>\n",
       "      <td>Professional Rapper</td>\n",
       "    </tr>\n",
       "  </tbody>\n",
       "</table>\n",
       "<p>100 rows × 2 columns</p>\n",
       "</div>"
      ],
      "text/plain": [
       "                    artist                                 album\n",
       "Position                                                        \n",
       "1                     Dave      We're All Alone In This Together\n",
       "2                Pop Smoke                        Faith (Deluxe)\n",
       "3                Pop Smoke                                 Faith\n",
       "4                    Lojay                             LV N ATTN\n",
       "5             The Cavemen.                                 ROOTS\n",
       "...                    ...                                   ...\n",
       "96              Lady Donli                       Enjoy Your Life\n",
       "97        Nathaniel Bassey                    The King Is Coming\n",
       "98           Ariana Grande                             Sweetener\n",
       "99                   Loski  Music, Trial & Trauma: A Drill Story\n",
       "100              Lil Dicky                   Professional Rapper\n",
       "\n",
       "[100 rows x 2 columns]"
      ]
     },
     "execution_count": 39,
     "metadata": {},
     "output_type": "execute_result"
    }
   ],
   "source": [
    "df"
   ]
  },
  {
   "cell_type": "code",
   "execution_count": 40,
   "id": "younger-court",
   "metadata": {},
   "outputs": [],
   "source": [
    "df.to_csv(f'album-{m}{d}.csv')"
   ]
  },
  {
   "cell_type": "code",
   "execution_count": null,
   "id": "serious-diabetes",
   "metadata": {},
   "outputs": [],
   "source": [
    "with open('afrohiphop-week28.txt') as file:\n",
    "    read = file.readlines()\n",
    "x = 0\n",
    "while x < len(read):\n",
    "    read[x] = read[x].replace('\\n', '')\n",
    "    x += 1\n",
    "while '' in read:\n",
    "    read.remove('')\n",
    "for x in read:\n",
    "    if x.isdigit():\n",
    "        continue\n",
    "    if len(x) < 2:\n",
    "        read.remove(x)       \n",
    "position = []\n",
    "artist = []\n",
    "song = []\n",
    "album = []\n",
    "i = 0\n",
    "for x in read:\n",
    "    i += 1\n",
    "    if i == 1:\n",
    "        position.append(x)\n",
    "    elif i == 2:\n",
    "        song.append(x)\n",
    "    elif i == 3:\n",
    "        artist.append(x)\n",
    "    elif i == 4:\n",
    "        album.append(x)\n",
    "    else:\n",
    "        i = 0\n",
    "data = {'Position': position ,'song': song, 'artist': artist, 'album': album}\n",
    "import pandas as pd\n",
    "df = pd.DataFrame(data)\n",
    "df = df.set_index('Position')"
   ]
  },
  {
   "cell_type": "code",
   "execution_count": null,
   "id": "wrapped-noise",
   "metadata": {},
   "outputs": [],
   "source": [
    "df.to_csv('afrohiphop-week28.csv')"
   ]
  },
  {
   "cell_type": "code",
   "execution_count": null,
   "id": "trying-complex",
   "metadata": {},
   "outputs": [],
   "source": [
    "with open('afropop-week28.txt') as file:\n",
    "    read = file.readlines()\n",
    "x = 0\n",
    "while x < len(read):\n",
    "    read[x] = read[x].replace('\\n', '')\n",
    "    x += 1\n",
    "while '' in read:\n",
    "    read.remove('')\n",
    "for x in read:\n",
    "    if x.isdigit():\n",
    "        continue\n",
    "    if len(x) < 2:\n",
    "        read.remove(x)       \n",
    "position = []\n",
    "artist = []\n",
    "song = []\n",
    "album = []\n",
    "i = 0\n",
    "for x in read:\n",
    "    i += 1\n",
    "    if i == 1:\n",
    "        position.append(x)\n",
    "    elif i == 2:\n",
    "        song.append(x)\n",
    "    elif i == 3:\n",
    "        artist.append(x)\n",
    "    elif i == 4:\n",
    "        album.append(x)\n",
    "    else:\n",
    "        i = 0\n",
    "data = {'Position': position ,'song': song, 'artist': artist, 'album': album}\n",
    "import pandas as pd\n",
    "df = pd.DataFrame(data)\n",
    "df = df.set_index('Position')"
   ]
  },
  {
   "cell_type": "code",
   "execution_count": null,
   "id": "super-tooth",
   "metadata": {},
   "outputs": [],
   "source": [
    "df.to_csv('afropop-week28')"
   ]
  },
  {
   "cell_type": "code",
   "execution_count": null,
   "id": "authorized-harvey",
   "metadata": {},
   "outputs": [],
   "source": [
    "with open('africa-week28.txt') as file:\n",
    "    read = file.readlines()\n",
    "x = 0\n",
    "while x < len(read):\n",
    "    read[x] = read[x].replace('\\n', '')\n",
    "    x += 1\n",
    "while '' in read:\n",
    "    read.remove('')\n",
    "for x in read:\n",
    "    if x.isdigit():\n",
    "        continue\n",
    "    if len(x) < 2:\n",
    "        read.remove(x)       \n",
    "position = []\n",
    "artist = []\n",
    "song = []\n",
    "album = []\n",
    "i = 0\n",
    "for x in read:\n",
    "    i += 1\n",
    "    if i == 1:\n",
    "        position.append(x)\n",
    "    elif i == 2:\n",
    "        song.append(x)\n",
    "    elif i == 3:\n",
    "        artist.append(x)\n",
    "    elif i == 4:\n",
    "        album.append(x)\n",
    "    else:\n",
    "        i = 0\n",
    "data = {'Position': position ,'song': song, 'artist': artist, 'album': album}\n",
    "import pandas as pd\n",
    "df = pd.DataFrame(data)\n",
    "df = df.set_index('Position')"
   ]
  },
  {
   "cell_type": "code",
   "execution_count": null,
   "id": "amber-patient",
   "metadata": {},
   "outputs": [],
   "source": [
    "df.to_csv('africa-week28')"
   ]
  }
 ],
 "metadata": {
  "kernelspec": {
   "display_name": "Python 3",
   "language": "python",
   "name": "python3"
  },
  "language_info": {
   "codemirror_mode": {
    "name": "ipython",
    "version": 3
   },
   "file_extension": ".py",
   "mimetype": "text/x-python",
   "name": "python",
   "nbconvert_exporter": "python",
   "pygments_lexer": "ipython3",
   "version": "3.9.2"
  }
 },
 "nbformat": 4,
 "nbformat_minor": 5
}
