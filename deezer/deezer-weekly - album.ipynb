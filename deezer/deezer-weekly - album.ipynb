{
 "cells": [
  {
   "cell_type": "code",
   "execution_count": 1,
   "id": "willing-unemployment",
   "metadata": {},
   "outputs": [],
   "source": [
    "from datetime import datetime\n",
    "m = datetime.today().strftime('%B')\n",
    "d = datetime.today().strftime('%d')\n",
    "d = int(d)\n",
    "w = datetime.today().strftime(\"%V\")"
   ]
  },
  {
   "cell_type": "code",
   "execution_count": 2,
   "id": "sophisticated-washington",
   "metadata": {},
   "outputs": [],
   "source": [
    "import pandas as pd\n",
    "df1 = pd.read_csv(f'album-{m}{d - 6}.csv')\n",
    "df2 = pd.read_csv(f'album-{m}{d - 5}.csv')\n",
    "df3 = pd.read_csv(f'album-{m}{d - 4}.csv')\n",
    "df4 = pd.read_csv(f'album-{m}{d - 3}.csv')\n",
    "df5 = pd.read_csv(f'album-{m}{d - 2}.csv')\n",
    "df6 = pd.read_csv(f'album-{m}{d - 1}.csv')\n",
    "df7 = pd.read_csv(f'album-{m}{d}.csv')"
   ]
  },
  {
   "cell_type": "code",
   "execution_count": 3,
   "id": "balanced-fellow",
   "metadata": {},
   "outputs": [],
   "source": [
    "albums = list(df1['album']) + list(df2['album']) + list(df3['album']) + list(df4['album']) + list(df5['album']) + list(df6['album']) + list(df7['album'])\n",
    "albums = set(albums)\n",
    "final = {}"
   ]
  },
  {
   "cell_type": "code",
   "execution_count": 4,
   "id": "revolutionary-armenia",
   "metadata": {},
   "outputs": [],
   "source": [
    "artist1 = list(df1['artist'])\n",
    "artist2 = list(df2['artist'])\n",
    "artist3 = list(df3['artist'])\n",
    "artist4 = list(df4['artist'])\n",
    "artist5 = list(df5['artist'])\n",
    "artist6 = list(df6['artist'])\n",
    "artist7 = list(df7['artist'])"
   ]
  },
  {
   "cell_type": "code",
   "execution_count": 5,
   "id": "naval-performance",
   "metadata": {},
   "outputs": [],
   "source": [
    "album = list(df1['album'])\n",
    "for x in albums:\n",
    "    if x in album:\n",
    "        final[x] = list(df1['Position'][df1['album'] == x])\n",
    "    else:\n",
    "        final[x] = [301]"
   ]
  },
  {
   "cell_type": "code",
   "execution_count": 6,
   "id": "sonic-protein",
   "metadata": {},
   "outputs": [],
   "source": [
    "album1 = list(df2['album'])\n",
    "for x in albums:\n",
    "    if x in album1:\n",
    "        x = x.strip()\n",
    "        final[x].append(album1.index(x) + 1)\n",
    "    else:\n",
    "        final[x].append(301)"
   ]
  },
  {
   "cell_type": "code",
   "execution_count": 7,
   "id": "southern-repository",
   "metadata": {},
   "outputs": [],
   "source": [
    "album2 = list(df3['album'])\n",
    "for x in albums:\n",
    "    if x in album2:\n",
    "        final[x].append(album2.index(x) + 1)\n",
    "    else:\n",
    "        final[x].append(301)"
   ]
  },
  {
   "cell_type": "code",
   "execution_count": 8,
   "id": "extended-lightweight",
   "metadata": {},
   "outputs": [],
   "source": [
    "album3 = list(df4['album'])\n",
    "for x in albums:\n",
    "    if x in album3:\n",
    "        final[x].append(album3.index(x) + 1)\n",
    "    else:\n",
    "        final[x].append(301)"
   ]
  },
  {
   "cell_type": "code",
   "execution_count": 9,
   "id": "varied-notebook",
   "metadata": {},
   "outputs": [],
   "source": [
    "album4 = list(df5['album'])\n",
    "for x in albums:\n",
    "    if x in album4:\n",
    "        final[x].append(album4.index(x) + 1)\n",
    "    else:\n",
    "        final[x].append(301)"
   ]
  },
  {
   "cell_type": "code",
   "execution_count": 10,
   "id": "finished-southeast",
   "metadata": {},
   "outputs": [],
   "source": [
    "album5 = list(df6['album'])\n",
    "for x in albums:\n",
    "    if x in album5:\n",
    "        final[x].append(album5.index(x) + 1)\n",
    "    else:\n",
    "        final[x].append(301)"
   ]
  },
  {
   "cell_type": "code",
   "execution_count": 11,
   "id": "virgin-tracker",
   "metadata": {},
   "outputs": [],
   "source": [
    "album6 = list(df7['album'])\n",
    "for x in albums:\n",
    "    if x in album6:\n",
    "        final[x].append(album6.index(x) + 1)\n",
    "    else:\n",
    "        final[x].append(301)"
   ]
  },
  {
   "cell_type": "code",
   "execution_count": 13,
   "id": "secondary-intention",
   "metadata": {},
   "outputs": [],
   "source": [
    "albums = [x for x in final.keys()]\n",
    "post1 = [x[0] for x in final.values()]\n",
    "post2 = [x[1] for x in final.values()]\n",
    "post3 = [x[2] for x in final.values()]\n",
    "post4 = [x[3] for x in final.values()]\n",
    "post5 = [x[4] for x in final.values()]\n",
    "post6 = [x[5] for x in final.values()]\n",
    "post7 = [x[6] for x in final.values()]\n",
    "postT = [(post1[x] + post2[x] + post3[x] + post4[x] + post5[x] + post6[x] + post7[x] )/7 for x in range(0, len(final))]"
   ]
  },
  {
   "cell_type": "code",
   "execution_count": 14,
   "id": "preceding-serum",
   "metadata": {},
   "outputs": [],
   "source": [
    "artist = []\n",
    "x = 0\n",
    "for i in albums:\n",
    "    if i in album:\n",
    "        artist.append(artist1[album.index(i)])\n",
    "    elif i in album1:\n",
    "        artist.append(artist2[album1.index(i)])\n",
    "    elif i in album2:\n",
    "        artist.append(artist3[album2.index(i)])\n",
    "    elif i in album3:\n",
    "        artist.append(artist4[album3.index(i)])\n",
    "    elif i in album5:\n",
    "        artist.append(artist6[album5.index(i)])\n",
    "    elif i in album6:\n",
    "        artist.append(artist7[album6.index(i)])\n",
    "    elif i in album4:\n",
    "        artist.append(artist5[album4.index(i)])\n",
    "    x += 1"
   ]
  },
  {
   "cell_type": "code",
   "execution_count": 15,
   "id": "adjacent-lambda",
   "metadata": {},
   "outputs": [],
   "source": [
    "data = {'album':albums,'artist':artist,'R1':post1,'R2':post2,'R3':post3,'R4':post4,'R5':post5,'R6':post6,'R7':post7,'RT': postT}\n",
    "df = pd.DataFrame(data)"
   ]
  },
  {
   "cell_type": "code",
   "execution_count": 16,
   "id": "tutorial-frontier",
   "metadata": {},
   "outputs": [],
   "source": [
    "df.sort_values(by=['RT'], inplace=True)"
   ]
  },
  {
   "cell_type": "code",
   "execution_count": 17,
   "id": "passive-cooking",
   "metadata": {},
   "outputs": [],
   "source": [
    "df['rank'] = [x for x in range(1,len(final) + 1)]\n",
    "df = df.set_index('rank')"
   ]
  },
  {
   "cell_type": "code",
   "execution_count": 19,
   "id": "korean-alfred",
   "metadata": {},
   "outputs": [],
   "source": [
    "df.to_csv(f'C:\\\\Users\\\\faree\\\\Desktop\\\\music charts\\\\deezer\\\\deezer_album-week{w}.csv')"
   ]
  }
 ],
 "metadata": {
  "kernelspec": {
   "display_name": "Python 3",
   "language": "python",
   "name": "python3"
  },
  "language_info": {
   "codemirror_mode": {
    "name": "ipython",
    "version": 3
   },
   "file_extension": ".py",
   "mimetype": "text/x-python",
   "name": "python",
   "nbconvert_exporter": "python",
   "pygments_lexer": "ipython3",
   "version": "3.9.2"
  }
 },
 "nbformat": 4,
 "nbformat_minor": 5
}
