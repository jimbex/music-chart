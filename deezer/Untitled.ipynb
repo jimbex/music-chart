{
 "cells": [
  {
   "cell_type": "code",
   "execution_count": null,
   "id": "prospective-calgary",
   "metadata": {},
   "outputs": [],
   "source": [
    "from datetime import datetime\n",
    "m = datetime.today().strftime('%B')\n",
    "d = datetime.today().strftime('%d')\n",
    "d = int(d)"
   ]
  },
  {
   "cell_type": "code",
   "execution_count": null,
   "id": "cardiovascular-relations",
   "metadata": {},
   "outputs": [],
   "source": [
    "import pandas as pd\n",
    "from bs4 import BeautifulSoup as bs\n",
    "from selenium import webdriver\n",
    "from selenium.webdriver.common.keys import Keys\n",
    "import time\n",
    "import js2xml as js\n",
    "import urllib.request"
   ]
  },
  {
   "cell_type": "code",
   "execution_count": null,
   "id": "expected-residence",
   "metadata": {},
   "outputs": [],
   "source": [
    "driver = webdriver.Firefox()\n",
    "driver.get('https://www.deezer.com/en/playlist/1362516565')\n",
    "time.sleep(2)\n",
    "elem = driver.find_element_by_class_name('cookie-btn-label')\n",
    "elem.click()\n",
    "for x in range(3):\n",
    "    driver.execute_script(\"window.scrollTo(0,document.body.scrollHeight)\")\n",
    "    time.sleep(3)\n",
    "driver.execute_script(\"window.scrollTo(document.body.scrollHeight,0)\")\n",
    "time.sleep(2)\n",
    "driver.execute_script(\"window.scrollTo(0, 800)\")\n",
    "time.sleep(2)\n",
    "content1 = driver.page_source\n",
    "driver.execute_script(\"window.scrollTo(800, 2800)\")\n",
    "time.sleep(2)\n",
    "content2 = driver.page_source\n",
    "time.sleep(2)\n",
    "driver.execute_script(\"window.scrollTo(2800,4500)\")\n",
    "time.sleep(2)\n",
    "content3 = driver.page_source"
   ]
  },
  {
   "cell_type": "code",
   "execution_count": null,
   "id": "moral-anderson",
   "metadata": {},
   "outputs": [],
   "source": [
    "soup = bs(content1, 'html') \n",
    "mydiv1 = soup.find_all(\"div\", {'itemprop': 'track'})\n",
    "soup = bs(content2, 'html') \n",
    "mydiv2 = soup.find_all(\"div\", {'itemprop': 'track'})\n",
    "soup = bs(content3, 'html') \n",
    "mydiv3 = soup.find_all(\"div\", {'itemprop': 'track'})\n",
    "mydivs = mydiv1 + mydiv2 + mydiv3\n",
    "div = []\n",
    "for x in mydivs:\n",
    "    if x not in div:\n",
    "        div.append(x)\n",
    "    else:\n",
    "        continue"
   ]
  },
  {
   "cell_type": "code",
   "execution_count": null,
   "id": "plastic-psychiatry",
   "metadata": {},
   "outputs": [],
   "source": [
    "position = []\n",
    "songs = []\n",
    "artist = []\n",
    "for x in div:\n",
    "    soup = bs(str(x), 'html')\n",
    "    position.append(int(soup.find(\"span\", {'class': 'datagrid-track-number'}).text))\n",
    "    soup = bs(str(x), 'html')\n",
    "    songs.append(soup.find(\"span\", {'itemprop': 'name'}).text)\n",
    "    soup = bs(str(x), 'html')\n",
    "    artist.append(soup.find(\"a\", {'itemprop': 'byArtist'}).text)"
   ]
  },
  {
   "cell_type": "code",
   "execution_count": null,
   "id": "instructional-johns",
   "metadata": {},
   "outputs": [],
   "source": [
    "data = {'Position': position, 'song': songs, 'artist': artist}\n",
    "df = pd.DataFrame(data)\n",
    "df.to_csv(f'{m}{d}.csv')"
   ]
  },
  {
   "cell_type": "code",
   "execution_count": null,
   "id": "confident-juice",
   "metadata": {},
   "outputs": [],
   "source": [
    "songs = []\n",
    "html = str(urllib.request.urlopen('https://www.deezer.com/en/channels/module/24edc1b8-68cd-411f-b6ef-ce4972b9f671').read())\n",
    "soup = bs(html, 'html.parser')\n",
    "mydivs = soup.find_all(\"script\")\n",
    "\n",
    "tip = mydivs[5]\n",
    "tip = tip.string\n",
    "lin = js.parse(tip, debug = False)\n",
    "lint = js.pretty_print(lin)\n",
    "bd = bs(lint, 'xml')\n",
    "\n",
    "album = []\n",
    "artist = []\n",
    "p = bd.find_all('property')\n",
    "for x in p:\n",
    "    if x.get('name') == 'ALB_TITLE':\n",
    "        album.append(x.find('string').text)\n",
    "    if x.get('name') == 'ART_NAME':\n",
    "        artist.append(x.find('string').text)\n",
    "\n",
    "data = {'Position': [x for x in range(1, len(album) + 1)] ,'artist': artist, 'album': album}\n",
    "df = pd.DataFrame(data)\n",
    "df = df.set_index('Position')\n",
    "df.to_csv(f'album-{m}{d}.csv')"
   ]
  }
 ],
 "metadata": {
  "kernelspec": {
   "display_name": "Python 3",
   "language": "python",
   "name": "python3"
  },
  "language_info": {
   "codemirror_mode": {
    "name": "ipython",
    "version": 3
   },
   "file_extension": ".py",
   "mimetype": "text/x-python",
   "name": "python",
   "nbconvert_exporter": "python",
   "pygments_lexer": "ipython3",
   "version": "3.9.2"
  }
 },
 "nbformat": 4,
 "nbformat_minor": 5
}
