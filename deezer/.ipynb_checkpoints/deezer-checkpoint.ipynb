{
 "cells": [
  {
   "cell_type": "code",
   "execution_count": 10,
   "id": "boring-recycling",
   "metadata": {},
   "outputs": [],
   "source": [
    "with open('june1.txt') as file:\n",
    "    read = file.readlines()"
   ]
  },
  {
   "cell_type": "code",
   "execution_count": 11,
   "id": "intense-missouri",
   "metadata": {},
   "outputs": [],
   "source": [
    "x = 0\n",
    "while x < len(read):\n",
    "    read[x] = read[x].replace('\\n', '')\n",
    "    x += 1"
   ]
  },
  {
   "cell_type": "code",
   "execution_count": 12,
   "id": "acquired-transcript",
   "metadata": {},
   "outputs": [],
   "source": [
    "while '' in read:\n",
    "    read.remove('')"
   ]
  },
  {
   "cell_type": "code",
   "execution_count": 13,
   "id": "productive-christian",
   "metadata": {},
   "outputs": [],
   "source": [
    "for x in read:\n",
    "    if x.isdigit():\n",
    "        continue\n",
    "    if len(x) < 2:\n",
    "        read.remove(x)       "
   ]
  },
  {
   "cell_type": "code",
   "execution_count": 6,
   "id": "vital-pixel",
   "metadata": {},
   "outputs": [],
   "source": [
    "position = []\n",
    "artist = []\n",
    "song = []\n",
    "album = []\n",
    "i = 0\n",
    "for x in read:\n",
    "    i += 1\n",
    "    if i == 1:\n",
    "        position.append(x)\n",
    "    elif i == 2:\n",
    "        song.append(x)\n",
    "    elif i == 3:\n",
    "        artist.append(x)\n",
    "    else:\n",
    "        i = 0"
   ]
  },
  {
   "cell_type": "code",
   "execution_count": 7,
   "id": "traditional-desire",
   "metadata": {},
   "outputs": [],
   "source": [
    "data = {'Position': position ,'song': song, 'artist': artist, 'album': album}"
   ]
  },
  {
   "cell_type": "code",
   "execution_count": 8,
   "id": "about-questionnaire",
   "metadata": {},
   "outputs": [],
   "source": [
    "import pandas as pd\n",
    "\n",
    "df = pd.DataFrame(data)\n",
    "df = df.set_index('Position')"
   ]
  },
  {
   "cell_type": "code",
   "execution_count": 9,
   "id": "deadly-blade",
   "metadata": {},
   "outputs": [
    {
     "data": {
      "text/html": [
       "<div>\n",
       "<style scoped>\n",
       "    .dataframe tbody tr th:only-of-type {\n",
       "        vertical-align: middle;\n",
       "    }\n",
       "\n",
       "    .dataframe tbody tr th {\n",
       "        vertical-align: top;\n",
       "    }\n",
       "\n",
       "    .dataframe thead th {\n",
       "        text-align: right;\n",
       "    }\n",
       "</style>\n",
       "<table border=\"1\" class=\"dataframe\">\n",
       "  <thead>\n",
       "    <tr style=\"text-align: right;\">\n",
       "      <th></th>\n",
       "      <th>song</th>\n",
       "      <th>artist</th>\n",
       "      <th>album</th>\n",
       "    </tr>\n",
       "    <tr>\n",
       "      <th>Position</th>\n",
       "      <th></th>\n",
       "      <th></th>\n",
       "      <th></th>\n",
       "    </tr>\n",
       "  </thead>\n",
       "  <tbody>\n",
       "    <tr>\n",
       "      <th>TRACK</th>\n",
       "      <td>ARTIST</td>\n",
       "      <td>ALBUM</td>\n",
       "      <td>L.</td>\n",
       "    </tr>\n",
       "    <tr>\n",
       "      <th>Feeling</th>\n",
       "      <td>LADIPOE, Buju</td>\n",
       "      <td>Feeling</td>\n",
       "      <td>03:44</td>\n",
       "    </tr>\n",
       "    <tr>\n",
       "      <th>Bounce</th>\n",
       "      <td>Ruger</td>\n",
       "      <td>PANDEMIC</td>\n",
       "      <td>03:04</td>\n",
       "    </tr>\n",
       "    <tr>\n",
       "      <th>Rock</th>\n",
       "      <td>Olamide</td>\n",
       "      <td>Rock</td>\n",
       "      <td>03:05</td>\n",
       "    </tr>\n",
       "    <tr>\n",
       "      <th>Outside</th>\n",
       "      <td>Buju</td>\n",
       "      <td>Outside</td>\n",
       "      <td>03:11</td>\n",
       "    </tr>\n",
       "    <tr>\n",
       "      <th>...</th>\n",
       "      <td>...</td>\n",
       "      <td>...</td>\n",
       "      <td>...</td>\n",
       "    </tr>\n",
       "    <tr>\n",
       "      <th>INJURE ME</th>\n",
       "      <td>Teni</td>\n",
       "      <td>WONDALAND</td>\n",
       "      <td>02:32</td>\n",
       "    </tr>\n",
       "    <tr>\n",
       "      <th>Too Correct</th>\n",
       "      <td>Crayon, Rema</td>\n",
       "      <td>Twelve A.M</td>\n",
       "      <td>03:28</td>\n",
       "    </tr>\n",
       "    <tr>\n",
       "      <th>Save Your Tears</th>\n",
       "      <td>The Weeknd</td>\n",
       "      <td>After Hours</td>\n",
       "      <td>03:35</td>\n",
       "    </tr>\n",
       "    <tr>\n",
       "      <th>p u n c h i n â€˜ . t h e . c l o c k</th>\n",
       "      <td>J. Cole</td>\n",
       "      <td>The Off-Season</td>\n",
       "      <td>01:52</td>\n",
       "    </tr>\n",
       "    <tr>\n",
       "      <th>6am in Brighton</th>\n",
       "      <td>ArrDee</td>\n",
       "      <td>6am in Brighton</td>\n",
       "      <td>03:14</td>\n",
       "    </tr>\n",
       "  </tbody>\n",
       "</table>\n",
       "<p>101 rows × 3 columns</p>\n",
       "</div>"
      ],
      "text/plain": [
       "                                                song           artist  album\n",
       "Position                                                                    \n",
       "TRACK                                         ARTIST            ALBUM     L.\n",
       "Feeling                                LADIPOE, Buju          Feeling  03:44\n",
       "Bounce                                         Ruger         PANDEMIC  03:04\n",
       "Rock                                         Olamide             Rock  03:05\n",
       "Outside                                         Buju          Outside  03:11\n",
       "...                                              ...              ...    ...\n",
       "INJURE ME                                       Teni        WONDALAND  02:32\n",
       "Too Correct                             Crayon, Rema       Twelve A.M  03:28\n",
       "Save Your Tears                           The Weeknd      After Hours  03:35\n",
       "p u n c h i n â€˜ . t h e . c l o c k        J. Cole   The Off-Season  01:52\n",
       "6am in Brighton                               ArrDee  6am in Brighton  03:14\n",
       "\n",
       "[101 rows x 3 columns]"
      ]
     },
     "execution_count": 9,
     "metadata": {},
     "output_type": "execute_result"
    }
   ],
   "source": [
    "df"
   ]
  },
  {
   "cell_type": "code",
   "execution_count": 42,
   "id": "chronic-niger",
   "metadata": {},
   "outputs": [],
   "source": [
    "df.to_csv('may30.csv')"
   ]
  }
 ],
 "metadata": {
  "kernelspec": {
   "display_name": "Python 3",
   "language": "python",
   "name": "python3"
  },
  "language_info": {
   "codemirror_mode": {
    "name": "ipython",
    "version": 3
   },
   "file_extension": ".py",
   "mimetype": "text/x-python",
   "name": "python",
   "nbconvert_exporter": "python",
   "pygments_lexer": "ipython3",
   "version": "3.9.2"
  }
 },
 "nbformat": 4,
 "nbformat_minor": 5
}
