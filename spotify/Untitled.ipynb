{
 "cells": [
  {
   "cell_type": "code",
   "execution_count": 1,
   "id": "perfect-injection",
   "metadata": {},
   "outputs": [],
   "source": [
    "import pandas as pd\n",
    "df1 = pd.read_csv('may20.csv')\n",
    "df2 = pd.read_csv('may21.csv')\n",
    "df3 = pd.read_csv('may22.csv')"
   ]
  },
  {
   "cell_type": "code",
   "execution_count": 3,
   "id": "purple-equity",
   "metadata": {},
   "outputs": [],
   "source": [
    "df3['position'] = [x for x in range(1,100)]\n",
    "df2['position'] = [x for x in range(1,100)]\n",
    "df1['position'] = [x for x in range(1,100)]"
   ]
  },
  {
   "cell_type": "code",
   "execution_count": 4,
   "id": "representative-framework",
   "metadata": {},
   "outputs": [],
   "source": [
    "df3['title'] = [df3['song'][x] + ' - ' + df3['artist'][x] for x in range(0,99)]\n",
    "df2['title'] = [df2['song'][x] + ' - ' + df2['artist'][x] for x in range(0,99)]\n",
    "df1['title'] = [df1['song'][x] + ' - ' + df1['artist'][x] for x in range(0,99)]"
   ]
  },
  {
   "cell_type": "code",
   "execution_count": 5,
   "id": "independent-instrument",
   "metadata": {},
   "outputs": [],
   "source": [
    "song = list(df1['title'])\n",
    "final = {}"
   ]
  },
  {
   "cell_type": "code",
   "execution_count": 6,
   "id": "marine-taste",
   "metadata": {},
   "outputs": [],
   "source": [
    "for x in song:\n",
    "    final[x] = list(df1['position'][df1['title'] == x])"
   ]
  },
  {
   "cell_type": "code",
   "execution_count": 7,
   "id": "atlantic-eagle",
   "metadata": {},
   "outputs": [],
   "source": [
    "song1 = list(df2['title'])\n",
    "for x in song1:\n",
    "    if x in song:\n",
    "        final[x].extend(list(df2['position'][df2['title'] == x]))\n",
    "    else:\n",
    "        final[x] = list(df2['position'][df2['title'] == x])"
   ]
  },
  {
   "cell_type": "code",
   "execution_count": 8,
   "id": "vocal-bedroom",
   "metadata": {},
   "outputs": [],
   "source": [
    "song2 = list(df3['title'])\n",
    "for x in song2:\n",
    "    if x in song:\n",
    "        final[x].extend(list(df3['position'][df3['title'] == x]))\n",
    "    else:\n",
    "        final[x] = list(df3['position'][df3['title'] == x])"
   ]
  },
  {
   "cell_type": "code",
   "execution_count": 9,
   "id": "pressed-ultimate",
   "metadata": {},
   "outputs": [],
   "source": [
    "for i in final.values():\n",
    "    if len(i) < 2:\n",
    "        i.append(100)\n",
    "    if len(i) < 3:\n",
    "        i.append(100)"
   ]
  },
  {
   "cell_type": "code",
   "execution_count": 11,
   "id": "interracial-journalist",
   "metadata": {},
   "outputs": [],
   "source": [
    "songs = [x[:x.index('-') - 1 ] for x in final.keys()]\n",
    "artists = [x[x.index('-') + 2:] for x in final.keys()]\n",
    "post1 = [x[0] for x in final.values()]\n",
    "post2 = [x[1] for x in final.values() if len(x) > 1]\n",
    "post3 = [x[2] for x in final.values() if len(x) > 2]\n",
    "postT = [(post1[x] + post2[x] + post3[x])/3 for x in range(0, 100)]"
   ]
  },
  {
   "cell_type": "code",
   "execution_count": 12,
   "id": "historical-holly",
   "metadata": {},
   "outputs": [],
   "source": [
    "data = {'song':songs, 'artist': artists, 'R1': post1, 'R2':post2, 'R3': post3, 'RT': postT}\n",
    "df = pd.DataFrame(data)"
   ]
  },
  {
   "cell_type": "code",
   "execution_count": 13,
   "id": "false-package",
   "metadata": {},
   "outputs": [],
   "source": [
    "df.sort_values(by=['RT'], inplace=True)"
   ]
  },
  {
   "cell_type": "code",
   "execution_count": 14,
   "id": "removable-algeria",
   "metadata": {},
   "outputs": [],
   "source": [
    "df['rank'] = [x for x in range(1,101)]\n",
    "df = df.set_index('rank')"
   ]
  },
  {
   "cell_type": "code",
   "execution_count": 16,
   "id": "popular-player",
   "metadata": {},
   "outputs": [],
   "source": [
    "df.to_csv('C:\\\\Users\\\\faree\\\\Desktop\\\\weekly charts\\\\spotify may17-22chart.csv')"
   ]
  }
 ],
 "metadata": {
  "kernelspec": {
   "display_name": "Python 3",
   "language": "python",
   "name": "python3"
  },
  "language_info": {
   "codemirror_mode": {
    "name": "ipython",
    "version": 3
   },
   "file_extension": ".py",
   "mimetype": "text/x-python",
   "name": "python",
   "nbconvert_exporter": "python",
   "pygments_lexer": "ipython3",
   "version": "3.9.2"
  }
 },
 "nbformat": 4,
 "nbformat_minor": 5
}
