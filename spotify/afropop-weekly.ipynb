{
 "cells": [
  {
   "cell_type": "code",
   "execution_count": 1,
   "id": "brown-steering",
   "metadata": {},
   "outputs": [],
   "source": [
    "from datetime import datetime\n",
    "m = datetime.today().strftime('%B')\n",
    "d = datetime.today().strftime('%d')\n",
    "d = int(d)\n",
    "w = datetime.today().strftime(\"%V\")"
   ]
  },
  {
   "cell_type": "code",
   "execution_count": 2,
   "id": "quarterly-cursor",
   "metadata": {},
   "outputs": [],
   "source": [
    "import pandas as pd\n",
    "df1 = pd.read_csv(f'afropop-{m}{d - 6}.csv')\n",
    "df2 = pd.read_csv(f'afropop-{m}{d - 5}.csv')\n",
    "df3 = pd.read_csv(f'afropop-{m}{d - 4}.csv')\n",
    "df4 = pd.read_csv(f'afropop-{m}{d - 3}.csv')\n",
    "df5 = pd.read_csv(f'afropop-{m}{d - 2}.csv')\n",
    "df6 = pd.read_csv(f'afropop-{m}{d - 1}.csv')\n",
    "df7 = pd.read_csv(f'afropop-{m}{d}.csv')"
   ]
  },
  {
   "cell_type": "code",
   "execution_count": 3,
   "id": "assisted-guidance",
   "metadata": {},
   "outputs": [],
   "source": [
    "df1 = df1[['song', 'artist']]\n",
    "df2 = df2[['song', 'artist']]\n",
    "df3 = df3[['song', 'artist']]\n",
    "df4 = df4[['song', 'artist']]\n",
    "df5 = df5[['song', 'artist']]\n",
    "df6 = df6[['song', 'artist']]\n",
    "df7 = df7[['song', 'artist']]"
   ]
  },
  {
   "cell_type": "code",
   "execution_count": 4,
   "id": "directed-formation",
   "metadata": {},
   "outputs": [],
   "source": [
    "df7['position'] = [x for x in range(1,len(df7['song']) + 1)]\n",
    "df6['position'] = [x for x in range(1,len(df6['song']) + 1)]\n",
    "df5['position'] = [x for x in range(1,len(df5['song']) + 1)]\n",
    "df4['position'] = [x for x in range(1,len(df4['song']) + 1)]\n",
    "df3['position'] = [x for x in range(1,len(df3['song']) + 1)]\n",
    "df2['position'] = [x for x in range(1,len(df2['song']) + 1)]\n",
    "df1['position'] = [x for x in range(1,len(df1['song']) + 1)]"
   ]
  },
  {
   "cell_type": "code",
   "execution_count": 5,
   "id": "hindu-daily",
   "metadata": {},
   "outputs": [],
   "source": [
    "df7['title'] = [df7['song'][x] + ' - ' + df7['artist'][x] for x in range(0,len(df7['song']))]\n",
    "df6['title'] = [df6['song'][x] + ' - ' + df6['artist'][x] for x in range(0,len(df6['song']))]\n",
    "df5['title'] = [df5['song'][x] + ' - ' + df5['artist'][x] for x in range(0,len(df5['song']))]\n",
    "df4['title'] = [df4['song'][x] + ' - ' + df4['artist'][x] for x in range(0,len(df4['song']))]\n",
    "df3['title'] = [df3['song'][x] + ' - ' + df3['artist'][x] for x in range(0,len(df3['song']))]\n",
    "df2['title'] = [df2['song'][x] + ' - ' + df2['artist'][x] for x in range(0,len(df2['song']))]\n",
    "df1['title'] = [df1['song'][x] + ' - ' + df1['artist'][x] for x in range(0,len(df1['song']))]"
   ]
  },
  {
   "cell_type": "code",
   "execution_count": 6,
   "id": "viral-contribution",
   "metadata": {},
   "outputs": [],
   "source": [
    "songs = list(df1['title']) + list(df2['title']) + list(df3['title']) + list(df4['title']) + list(df5['title']) + list(df6['title']) + list(df7['title'])\n",
    "songs = set(songs)\n",
    "final = {}"
   ]
  },
  {
   "cell_type": "code",
   "execution_count": 7,
   "id": "known-shoulder",
   "metadata": {},
   "outputs": [],
   "source": [
    "song = list(df1['title'])\n",
    "for x in songs:\n",
    "    if x in song:\n",
    "        final[x] = list(df1['position'][df1['title'] == x])\n",
    "    else:\n",
    "        final[x] = [301]"
   ]
  },
  {
   "cell_type": "code",
   "execution_count": 8,
   "id": "driven-valuable",
   "metadata": {},
   "outputs": [],
   "source": [
    "song1 = list(df2['title'])\n",
    "for x in songs:\n",
    "    if x in song1:\n",
    "        final[x].append(int(df2['position'][df2['title'] == x]))\n",
    "    else:\n",
    "        final[x].append(301)"
   ]
  },
  {
   "cell_type": "code",
   "execution_count": 9,
   "id": "funny-residence",
   "metadata": {},
   "outputs": [],
   "source": [
    "song2 = list(df3['title'])\n",
    "for x in songs:\n",
    "    if x in song2:\n",
    "        final[x].append(int(df3['position'][df3['title'] == x]))\n",
    "    else:\n",
    "        final[x].append(301)"
   ]
  },
  {
   "cell_type": "code",
   "execution_count": 10,
   "id": "planned-waters",
   "metadata": {},
   "outputs": [],
   "source": [
    "song3 = list(df4['title'])\n",
    "for x in songs:\n",
    "    if x in song3:\n",
    "        final[x].append(int(df4['position'][df4['title'] == x]))\n",
    "    else:\n",
    "        final[x].append(301)"
   ]
  },
  {
   "cell_type": "code",
   "execution_count": 11,
   "id": "transsexual-landing",
   "metadata": {},
   "outputs": [],
   "source": [
    "song4 = list(df5['title'])\n",
    "for x in songs:\n",
    "    if x in song4:\n",
    "        final[x].append(int(df5['position'][df5['title'] == x]))\n",
    "    else:\n",
    "        final[x].append(301)"
   ]
  },
  {
   "cell_type": "code",
   "execution_count": 12,
   "id": "several-posting",
   "metadata": {},
   "outputs": [],
   "source": [
    "song5 = list(df6['title'])\n",
    "for x in songs:\n",
    "    if x in song5:\n",
    "        final[x].append(int(df6['position'][df6['title'] == x]))\n",
    "    else:\n",
    "        final[x].append(301)"
   ]
  },
  {
   "cell_type": "code",
   "execution_count": 13,
   "id": "correct-burden",
   "metadata": {},
   "outputs": [],
   "source": [
    "song6 = list(df7['title'])\n",
    "for x in songs:\n",
    "    if x in song6:\n",
    "        final[x].append(int(df7['position'][df7['title'] == x]))\n",
    "    else:\n",
    "        final[x].append(301)"
   ]
  },
  {
   "cell_type": "code",
   "execution_count": 14,
   "id": "understood-crazy",
   "metadata": {},
   "outputs": [
    {
     "data": {
      "text/plain": [
       "88"
      ]
     },
     "execution_count": 14,
     "metadata": {},
     "output_type": "execute_result"
    }
   ],
   "source": [
    "len(final)"
   ]
  },
  {
   "cell_type": "code",
   "execution_count": 15,
   "id": "incorrect-leather",
   "metadata": {},
   "outputs": [],
   "source": [
    "songs = [x[:x.index('-') - 1 ] for x in final.keys()]\n",
    "artists = [x[x.index('-') + 2:] for x in final.keys()]\n",
    "post1 = [x[0] for x in final.values()]\n",
    "post2 = [x[1] for x in final.values()]\n",
    "post3 = [x[2] for x in final.values()]\n",
    "post4 = [x[3] for x in final.values()]\n",
    "post5 = [x[4] for x in final.values()]\n",
    "post6 = [x[5] for x in final.values()]\n",
    "post7 = [x[6] for x in final.values()]\n",
    "postT = [(post1[x] + post2[x] + post3[x] + post4[x] + post5[x] + post6[x] + post7[x] )/7 for x in range(0, len(final))]"
   ]
  },
  {
   "cell_type": "code",
   "execution_count": 16,
   "id": "perfect-longitude",
   "metadata": {},
   "outputs": [],
   "source": [
    "data = {'song':songs,'artist':artists,'R1':post1,'R2':post2,'R3':post3,'R4':post4,'R5':post5,'R6':post6,'R7':post7,'RT': postT}\n",
    "df = pd.DataFrame(data)"
   ]
  },
  {
   "cell_type": "code",
   "execution_count": 17,
   "id": "authentic-bunch",
   "metadata": {},
   "outputs": [],
   "source": [
    "df.sort_values(by=['RT'], inplace=True)"
   ]
  },
  {
   "cell_type": "code",
   "execution_count": 18,
   "id": "incident-ambassador",
   "metadata": {},
   "outputs": [],
   "source": [
    "df['rank'] = [x for x in range(1,len(final) + 1)]\n",
    "df = df.set_index('rank')"
   ]
  },
  {
   "cell_type": "code",
   "execution_count": 19,
   "id": "collect-daniel",
   "metadata": {},
   "outputs": [
    {
     "data": {
      "text/html": [
       "<div>\n",
       "<style scoped>\n",
       "    .dataframe tbody tr th:only-of-type {\n",
       "        vertical-align: middle;\n",
       "    }\n",
       "\n",
       "    .dataframe tbody tr th {\n",
       "        vertical-align: top;\n",
       "    }\n",
       "\n",
       "    .dataframe thead th {\n",
       "        text-align: right;\n",
       "    }\n",
       "</style>\n",
       "<table border=\"1\" class=\"dataframe\">\n",
       "  <thead>\n",
       "    <tr style=\"text-align: right;\">\n",
       "      <th></th>\n",
       "      <th>song</th>\n",
       "      <th>artist</th>\n",
       "      <th>R1</th>\n",
       "      <th>R2</th>\n",
       "      <th>R3</th>\n",
       "      <th>R4</th>\n",
       "      <th>R5</th>\n",
       "      <th>R6</th>\n",
       "      <th>R7</th>\n",
       "      <th>RT</th>\n",
       "    </tr>\n",
       "    <tr>\n",
       "      <th>rank</th>\n",
       "      <th></th>\n",
       "      <th></th>\n",
       "      <th></th>\n",
       "      <th></th>\n",
       "      <th></th>\n",
       "      <th></th>\n",
       "      <th></th>\n",
       "      <th></th>\n",
       "      <th></th>\n",
       "      <th></th>\n",
       "    </tr>\n",
       "  </thead>\n",
       "  <tbody>\n",
       "    <tr>\n",
       "      <th>1</th>\n",
       "      <td>Milele</td>\n",
       "      <td>Somi, Thandiswa</td>\n",
       "      <td>5</td>\n",
       "      <td>5</td>\n",
       "      <td>5</td>\n",
       "      <td>5</td>\n",
       "      <td>5</td>\n",
       "      <td>5</td>\n",
       "      <td>5</td>\n",
       "      <td>5.000000</td>\n",
       "    </tr>\n",
       "    <tr>\n",
       "      <th>2</th>\n",
       "      <td>It Is What It Is</td>\n",
       "      <td>Adekunle Gold</td>\n",
       "      <td>13</td>\n",
       "      <td>4</td>\n",
       "      <td>4</td>\n",
       "      <td>9</td>\n",
       "      <td>2</td>\n",
       "      <td>9</td>\n",
       "      <td>14</td>\n",
       "      <td>7.857143</td>\n",
       "    </tr>\n",
       "    <tr>\n",
       "      <th>3</th>\n",
       "      <td>Essence (feat. Tems)</td>\n",
       "      <td>WizKid</td>\n",
       "      <td>8</td>\n",
       "      <td>8</td>\n",
       "      <td>8</td>\n",
       "      <td>8</td>\n",
       "      <td>8</td>\n",
       "      <td>8</td>\n",
       "      <td>8</td>\n",
       "      <td>8.000000</td>\n",
       "    </tr>\n",
       "    <tr>\n",
       "      <th>4</th>\n",
       "      <td>Alright (feat. Shatta Wale)</td>\n",
       "      <td>King Promise</td>\n",
       "      <td>11</td>\n",
       "      <td>7</td>\n",
       "      <td>10</td>\n",
       "      <td>7</td>\n",
       "      <td>10</td>\n",
       "      <td>14</td>\n",
       "      <td>6</td>\n",
       "      <td>9.285714</td>\n",
       "    </tr>\n",
       "    <tr>\n",
       "      <th>5</th>\n",
       "      <td>Summeryomuthi</td>\n",
       "      <td>Blaq Diamond</td>\n",
       "      <td>6</td>\n",
       "      <td>6</td>\n",
       "      <td>2</td>\n",
       "      <td>4</td>\n",
       "      <td>7</td>\n",
       "      <td>20</td>\n",
       "      <td>20</td>\n",
       "      <td>9.285714</td>\n",
       "    </tr>\n",
       "    <tr>\n",
       "      <th>...</th>\n",
       "      <td>...</td>\n",
       "      <td>...</td>\n",
       "      <td>...</td>\n",
       "      <td>...</td>\n",
       "      <td>...</td>\n",
       "      <td>...</td>\n",
       "      <td>...</td>\n",
       "      <td>...</td>\n",
       "      <td>...</td>\n",
       "      <td>...</td>\n",
       "    </tr>\n",
       "    <tr>\n",
       "      <th>84</th>\n",
       "      <td>Angel</td>\n",
       "      <td>Ric Hassani</td>\n",
       "      <td>301</td>\n",
       "      <td>51</td>\n",
       "      <td>301</td>\n",
       "      <td>301</td>\n",
       "      <td>301</td>\n",
       "      <td>301</td>\n",
       "      <td>301</td>\n",
       "      <td>265.285714</td>\n",
       "    </tr>\n",
       "    <tr>\n",
       "      <th>85</th>\n",
       "      <td>Akulaleki</td>\n",
       "      <td>Samthing Soweto</td>\n",
       "      <td>301</td>\n",
       "      <td>301</td>\n",
       "      <td>301</td>\n",
       "      <td>301</td>\n",
       "      <td>301</td>\n",
       "      <td>301</td>\n",
       "      <td>53</td>\n",
       "      <td>265.571429</td>\n",
       "    </tr>\n",
       "    <tr>\n",
       "      <th>86</th>\n",
       "      <td>Chance</td>\n",
       "      <td>Juls</td>\n",
       "      <td>301</td>\n",
       "      <td>301</td>\n",
       "      <td>54</td>\n",
       "      <td>301</td>\n",
       "      <td>301</td>\n",
       "      <td>301</td>\n",
       "      <td>301</td>\n",
       "      <td>265.714286</td>\n",
       "    </tr>\n",
       "    <tr>\n",
       "      <th>87</th>\n",
       "      <td>Everything</td>\n",
       "      <td>Ric Hassani</td>\n",
       "      <td>301</td>\n",
       "      <td>301</td>\n",
       "      <td>301</td>\n",
       "      <td>301</td>\n",
       "      <td>301</td>\n",
       "      <td>59</td>\n",
       "      <td>301</td>\n",
       "      <td>266.428571</td>\n",
       "    </tr>\n",
       "    <tr>\n",
       "      <th>88</th>\n",
       "      <td>Questions</td>\n",
       "      <td>Shekhinah</td>\n",
       "      <td>301</td>\n",
       "      <td>301</td>\n",
       "      <td>301</td>\n",
       "      <td>301</td>\n",
       "      <td>60</td>\n",
       "      <td>301</td>\n",
       "      <td>301</td>\n",
       "      <td>266.571429</td>\n",
       "    </tr>\n",
       "  </tbody>\n",
       "</table>\n",
       "<p>88 rows × 10 columns</p>\n",
       "</div>"
      ],
      "text/plain": [
       "                             song           artist   R1   R2   R3   R4   R5  \\\n",
       "rank                                                                          \n",
       "1                          Milele  Somi, Thandiswa    5    5    5    5    5   \n",
       "2                It Is What It Is    Adekunle Gold   13    4    4    9    2   \n",
       "3            Essence (feat. Tems)           WizKid    8    8    8    8    8   \n",
       "4     Alright (feat. Shatta Wale)     King Promise   11    7   10    7   10   \n",
       "5                   Summeryomuthi     Blaq Diamond    6    6    2    4    7   \n",
       "...                           ...              ...  ...  ...  ...  ...  ...   \n",
       "84                          Angel      Ric Hassani  301   51  301  301  301   \n",
       "85                      Akulaleki  Samthing Soweto  301  301  301  301  301   \n",
       "86                         Chance             Juls  301  301   54  301  301   \n",
       "87                     Everything      Ric Hassani  301  301  301  301  301   \n",
       "88                      Questions        Shekhinah  301  301  301  301   60   \n",
       "\n",
       "       R6   R7          RT  \n",
       "rank                        \n",
       "1       5    5    5.000000  \n",
       "2       9   14    7.857143  \n",
       "3       8    8    8.000000  \n",
       "4      14    6    9.285714  \n",
       "5      20   20    9.285714  \n",
       "...   ...  ...         ...  \n",
       "84    301  301  265.285714  \n",
       "85    301   53  265.571429  \n",
       "86    301  301  265.714286  \n",
       "87     59  301  266.428571  \n",
       "88    301  301  266.571429  \n",
       "\n",
       "[88 rows x 10 columns]"
      ]
     },
     "execution_count": 19,
     "metadata": {},
     "output_type": "execute_result"
    }
   ],
   "source": [
    "df"
   ]
  },
  {
   "cell_type": "code",
   "execution_count": 20,
   "id": "sufficient-vocabulary",
   "metadata": {},
   "outputs": [],
   "source": [
    "df.to_csv(f'spotify_afropop-week{w}.csv')"
   ]
  }
 ],
 "metadata": {
  "kernelspec": {
   "display_name": "Python 3",
   "language": "python",
   "name": "python3"
  },
  "language_info": {
   "codemirror_mode": {
    "name": "ipython",
    "version": 3
   },
   "file_extension": ".py",
   "mimetype": "text/x-python",
   "name": "python",
   "nbconvert_exporter": "python",
   "pygments_lexer": "ipython3",
   "version": "3.9.2"
  }
 },
 "nbformat": 4,
 "nbformat_minor": 5
}
