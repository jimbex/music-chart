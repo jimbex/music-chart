{
 "cells": [
  {
   "cell_type": "code",
   "execution_count": 10,
   "id": "secret-facing",
   "metadata": {},
   "outputs": [],
   "source": [
    "import pandas as pd\n",
    "from datetime import datetime\n",
    "m = datetime.today().strftime('%B')\n",
    "d = datetime.today().strftime('%d')\n",
    "w = datetime.today().strftime('%V')\n",
    "w = int(w)\n",
    "d = int(d)"
   ]
  },
  {
   "cell_type": "code",
   "execution_count": 11,
   "id": "indirect-lightweight",
   "metadata": {},
   "outputs": [],
   "source": [
    "df1 = pd.read_csv(f'apple_alte-week{w}.csv', encoding='utf-8')\n",
    "df2 = pd.read_csv(f'audio_alte-week{w}.csv', encoding='utf-8')\n",
    "df3 = pd.read_csv(f'spotify_alte-week{w}.csv', encoding='utf-8')"
   ]
  },
  {
   "cell_type": "code",
   "execution_count": 12,
   "id": "sapphire-chocolate",
   "metadata": {},
   "outputs": [],
   "source": [
    "df1 = df1[['song', 'artist']]\n",
    "df2 = df2[['song', 'artist']]\n",
    "df3 = df3[['song', 'artist']]"
   ]
  },
  {
   "cell_type": "code",
   "execution_count": 13,
   "id": "objective-woman",
   "metadata": {},
   "outputs": [],
   "source": [
    "a = list(df1['song'])\n",
    "a1 = a.copy()\n",
    "a2 = list(df1['artist'])\n",
    "x = 0\n",
    "for i in a:\n",
    "    i = i.lower()\n",
    "    if 'ft' in i:\n",
    "        a[x] = i.replace('ft', '(ft')\n",
    "    if 'feat' in i:\n",
    "        a[x] = a[x].replace('feat', '(feat')\n",
    "    if 'remix' in i:\n",
    "        a[x] = a[x].replace('remix', '(remix')\n",
    "    if '  ' in i:\n",
    "        a[x] = a[x].replace('  ', ' ')\n",
    "    if '(' in a[x]:\n",
    "        a[x] = a[x][: a[x].index('(')]\n",
    "    if '\\\\' in i:\n",
    "        a[x] = a[x].replace('\\\\', '') \n",
    "    a[x] = a[x].strip().lower()\n",
    "    x += 1"
   ]
  },
  {
   "cell_type": "code",
   "execution_count": 14,
   "id": "first-wells",
   "metadata": {},
   "outputs": [],
   "source": [
    "b = list(df2['song'])\n",
    "b1 = b.copy()\n",
    "b2 = list(df2['artist'])\n",
    "x = 0\n",
    "for i in b:\n",
    "    i = i.lower()\n",
    "    if 'remix' in i:\n",
    "        b[x] = i.replace('remix', '(remix')\n",
    "    if 'ft' in i:\n",
    "        b[x] = b[x].replace('ft', '(ft')\n",
    "    if 'feat' in i:\n",
    "        b[x] = b[x].replace('feat', '(feat')\n",
    "    if '  ' in i:\n",
    "        b[x] = b[x].replace('  ', ' ')\n",
    "    if '(' in b[x]:\n",
    "        b[x] = b[x][: b[x].index('(')]\n",
    "    if '\\\\' in i:\n",
    "        b[x] = b[x].replace('\\\\', '') \n",
    "    b[x] = b[x].strip().lower()\n",
    "    x += 1"
   ]
  },
  {
   "cell_type": "code",
   "execution_count": 15,
   "id": "unusual-riding",
   "metadata": {},
   "outputs": [],
   "source": [
    "c = list(df3['song'])\n",
    "c1 = c.copy()\n",
    "c2 = list(df3['artist'])\n",
    "x = 0\n",
    "for i in c:\n",
    "    i = i.lower()\n",
    "    if 'ft' in i:\n",
    "        c[x] = i.replace('ft', '(ft')\n",
    "    if 'feat' in i:\n",
    "        c[x] = c[x].replace('feat', '(feat')\n",
    "    if 'remix' in i:\n",
    "        c[x] = c[x].replace('remix', '(remix')\n",
    "    if '  ' in i:\n",
    "        c[x] = c[x].replace('  ', ' ')\n",
    "    if '(' in c[x]:\n",
    "        c[x] = c[x][: c[x].index('(')]\n",
    "    if '\\\\' in i:\n",
    "        c[x] = c[x].replace('\\\\', '')  \n",
    "    c[x] = c[x].strip().lower()\n",
    "    x += 1"
   ]
  },
  {
   "cell_type": "code",
   "execution_count": 16,
   "id": "sticky-child",
   "metadata": {},
   "outputs": [],
   "source": [
    "songs = a + b + c\n",
    "songs = set(songs)"
   ]
  },
  {
   "cell_type": "code",
   "execution_count": 19,
   "id": "organic-somalia",
   "metadata": {},
   "outputs": [],
   "source": [
    "songs = list(songs)"
   ]
  },
  {
   "cell_type": "code",
   "execution_count": 20,
   "id": "healthy-laser",
   "metadata": {},
   "outputs": [],
   "source": [
    "final = {}"
   ]
  },
  {
   "cell_type": "code",
   "execution_count": 21,
   "id": "descending-tomorrow",
   "metadata": {},
   "outputs": [],
   "source": [
    "x = 0\n",
    "for i in songs:\n",
    "    if i in a:\n",
    "        final[i] = [a.index(i) + 1]\n",
    "    else:\n",
    "        final[i] = [500]"
   ]
  },
  {
   "cell_type": "code",
   "execution_count": 22,
   "id": "accessible-reporter",
   "metadata": {},
   "outputs": [],
   "source": [
    "x = 0\n",
    "for i in songs:\n",
    "    if i in b:\n",
    "        final[i].append(b.index(i) + 1)\n",
    "    else:\n",
    "        final[i].append(510)"
   ]
  },
  {
   "cell_type": "code",
   "execution_count": 23,
   "id": "amateur-powder",
   "metadata": {},
   "outputs": [],
   "source": [
    "x = 0\n",
    "for i in songs:\n",
    "    if i in c:\n",
    "        final[i].append(c.index(i) + 1)\n",
    "    else:\n",
    "        final[i].append(450)"
   ]
  },
  {
   "cell_type": "code",
   "execution_count": 24,
   "id": "color-posting",
   "metadata": {},
   "outputs": [],
   "source": [
    "x = 0\n",
    "for i in songs:\n",
    "    if i in a:\n",
    "        final[i].append(a2[a.index(i)])\n",
    "    if i in b and len(final[i]) < 5:\n",
    "        final[i].append(b2[b.index(i)])\n",
    "    if i in c and len(final[i]) < 5:\n",
    "        final[i].append(c2[c.index(i)])\n",
    "    #if i in d and len(final[i]) < 5:\n",
    "     #   final[i].append(d2[d.index(i)])\n",
    "    x += 1"
   ]
  },
  {
   "cell_type": "code",
   "execution_count": 26,
   "id": "large-provision",
   "metadata": {},
   "outputs": [],
   "source": [
    "x = 0\n",
    "keys = list(final.keys())\n",
    "for k in keys:\n",
    "    if k in a:\n",
    "        keys[x] = a1[a.index(k)]\n",
    "    if k in b:\n",
    "        keys[x] = b1[b.index(k)]\n",
    "    if k in c:\n",
    "        keys[x] = c1[c.index(k)]\n",
    "    #if k in d:\n",
    "     #   keys[x] = d1[d.index(k)]\n",
    "    x += 1"
   ]
  },
  {
   "cell_type": "code",
   "execution_count": 27,
   "id": "hundred-frontier",
   "metadata": {},
   "outputs": [],
   "source": [
    "i = 0\n",
    "k = list(final.keys())\n",
    "for x in k:\n",
    "    final[keys[i]] = final.pop(x)\n",
    "    i += 1"
   ]
  },
  {
   "cell_type": "code",
   "execution_count": 29,
   "id": "substantial-windows",
   "metadata": {},
   "outputs": [],
   "source": [
    "song = list(final.keys())\n",
    "post1 = [x[0] for x in final.values()]\n",
    "post2 = [x[1] for x in final.values()]\n",
    "post3 = [x[2] for x in final.values()]\n",
    "post4 = [x[3] for x in final.values()]\n",
    "#post5 = [x[4] for x in final.values()]\n",
    "postT = [(post1[x] + post2[x] + post3[x])/3 for x in range(0, 241)]"
   ]
  },
  {
   "cell_type": "code",
   "execution_count": 30,
   "id": "banner-church",
   "metadata": {},
   "outputs": [],
   "source": [
    "data = {'song':song,'artist':post4,'apple':post1,'boom':post2,'youtube':post3,'RT': postT}\n",
    "df = pd.DataFrame(data)"
   ]
  },
  {
   "cell_type": "code",
   "execution_count": 31,
   "id": "executive-wichita",
   "metadata": {},
   "outputs": [],
   "source": [
    "df.sort_values(by=['RT'], inplace=True)"
   ]
  },
  {
   "cell_type": "code",
   "execution_count": 32,
   "id": "private-yellow",
   "metadata": {},
   "outputs": [],
   "source": [
    "df['rank'] = [x for x in range(1,242)]"
   ]
  },
  {
   "cell_type": "code",
   "execution_count": 33,
   "id": "innocent-content",
   "metadata": {},
   "outputs": [],
   "source": [
    "df1 = df[['rank', 'song', 'artist']]\n",
    "df1 = df1[:50]"
   ]
  },
  {
   "cell_type": "code",
   "execution_count": 34,
   "id": "conditional-singing",
   "metadata": {},
   "outputs": [],
   "source": [
    "df1 = df1.set_index('rank')\n",
    "df = df.set_index('rank')"
   ]
  },
  {
   "cell_type": "code",
   "execution_count": 35,
   "id": "known-thompson",
   "metadata": {},
   "outputs": [],
   "source": [
    "df1.to_csv(f'week{w}-alte50.csv')\n",
    "df.to_csv(f'week{w}-alte.csv')"
   ]
  },
  {
   "cell_type": "code",
   "execution_count": 39,
   "id": "annual-guitar",
   "metadata": {},
   "outputs": [],
   "source": [
    "df2 = pd.read_csv(f'week{w-1}-gospel50.csv')"
   ]
  },
  {
   "cell_type": "code",
   "execution_count": 40,
   "id": "administrative-spencer",
   "metadata": {},
   "outputs": [],
   "source": [
    "a = list(df2['song'])\n",
    "a1 = a.copy()\n",
    "x = 0\n",
    "for i in a:\n",
    "    if 'ft' in i:\n",
    "        a[x] = i.replace('ft', '(ft') + ')'\n",
    "    x += 1\n",
    "x = 0\n",
    "for i in a:\n",
    "    if '(' in i:\n",
    "        a[x] = i[: i.index('(')]\n",
    "    a[x] = a[x].strip().lower()\n",
    "    x += 1"
   ]
  },
  {
   "cell_type": "code",
   "execution_count": 41,
   "id": "checked-bangkok",
   "metadata": {},
   "outputs": [],
   "source": [
    "b = list(df1['song'])\n",
    "b1 = b.copy()\n",
    "x = 0\n",
    "for i in b:\n",
    "    if 'ft' in i:\n",
    "        b[x] = i.replace('ft', '(ft') + ')'\n",
    "    x += 1\n",
    "x = 0\n",
    "for i in b:\n",
    "    if '(' in i:\n",
    "        b[x] = i[: i.index('(')]\n",
    "    b[x] = b[x].strip().lower()\n",
    "    x += 1"
   ]
  },
  {
   "cell_type": "code",
   "execution_count": 42,
   "id": "developed-minority",
   "metadata": {},
   "outputs": [],
   "source": [
    "song = []\n",
    "for x in b:\n",
    "    if x in a:\n",
    "        song.append(a1[a.index(x)])\n",
    "    else:\n",
    "        song.append(b1[b.index(x)])"
   ]
  },
  {
   "cell_type": "code",
   "execution_count": 43,
   "id": "verbal-taiwan",
   "metadata": {},
   "outputs": [],
   "source": [
    "df1['song'] = song"
   ]
  },
  {
   "cell_type": "code",
   "execution_count": 44,
   "id": "stretch-oakland",
   "metadata": {},
   "outputs": [],
   "source": [
    "a = list(df2['song'])\n",
    "b = list(df1['song'])\n",
    "c = list(df2['weeks on chart'])\n",
    "i = 0\n",
    "prev = []\n",
    "weeks = []\n",
    "for x in b:\n",
    "    if x in a:\n",
    "        prev.append(a.index(x) + 1)\n",
    "        weeks.append(c[i] + 1)\n",
    "    else:\n",
    "        prev.append(0)\n",
    "        weeks.append(1)\n",
    "    i += 1\n",
    "df1['Previous week'] = prev\n",
    "df1['weeks on chart'] = weeks"
   ]
  },
  {
   "cell_type": "code",
   "execution_count": 36,
   "id": "smart-comment",
   "metadata": {},
   "outputs": [],
   "source": [
    "df1.to_csv(f'week{w}-alte50.csv')\n",
    "df1.to_csv('C:\\\\Users\\\\faree\\\\Desktop\\\\music charts\\\\weekly charts\\\\weekly\\\\alte50.csv')\n",
    "df1.to_json('C:\\\\Users\\\\faree\\\\Desktop\\\\webboard\\\\docs\\\\alte50.json')\n",
    "df1.to_json(f'C:\\\\Users\\\\faree\\\\Desktop\\\\webboard\\\\week{w}\\\\alte50.json')"
   ]
  }
 ],
 "metadata": {
  "kernelspec": {
   "display_name": "Python 3",
   "language": "python",
   "name": "python3"
  },
  "language_info": {
   "codemirror_mode": {
    "name": "ipython",
    "version": 3
   },
   "file_extension": ".py",
   "mimetype": "text/x-python",
   "name": "python",
   "nbconvert_exporter": "python",
   "pygments_lexer": "ipython3",
   "version": "3.7.9"
  }
 },
 "nbformat": 4,
 "nbformat_minor": 5
}
