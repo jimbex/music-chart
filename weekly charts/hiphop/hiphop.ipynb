{
 "cells": [
  {
   "cell_type": "code",
   "execution_count": 2,
   "id": "secret-facing",
   "metadata": {},
   "outputs": [],
   "source": [
    "import pandas as pd\n",
    "from datetime import datetime\n",
    "m = datetime.today().strftime('%B')\n",
    "d = datetime.today().strftime('%d')\n",
    "w = datetime.today().strftime('%V')\n",
    "w = int(w)\n",
    "d = int(d)"
   ]
  },
  {
   "cell_type": "code",
   "execution_count": 2,
   "id": "fluid-remove",
   "metadata": {},
   "outputs": [],
   "source": [
    "df1 = pd.read_csv(f'apple_afrohiphop-week{w}.csv', encoding='utf-8')\n",
    "df2 = pd.read_csv(f'audio_hiphop-week{w}.csv', encoding='utf-8')\n",
    "df3 = pd.read_csv(f'youtube_afrohiphop-week{w}.csv', encoding='utf-8')\n",
    "df4 = pd.read_csv(f'boom_hiphop-week{w}.csv', encoding='utf-8')\n",
    "df5 = pd.read_csv(f'spotify_afrohiphop-week{w}.csv', encoding='utf-8')\n",
    "df6 = pd.read_csv(f'deezer_afrohiphop-week{w}.csv', encoding='utf-8')"
   ]
  },
  {
   "cell_type": "code",
   "execution_count": 3,
   "id": "sapphire-chocolate",
   "metadata": {},
   "outputs": [],
   "source": [
    "df1 = df1[['song', 'artist']]\n",
    "df2 = df2[['song', 'artist']]\n",
    "df3 = df3[['song', 'artist']]\n",
    "df4 = df4[['song', 'artist']]\n",
    "df5 = df5[['song', 'artist']]\n",
    "df6 = df6[['song', 'artist']]"
   ]
  },
  {
   "cell_type": "code",
   "execution_count": 1,
   "id": "objective-woman",
   "metadata": {},
   "outputs": [
    {
     "ename": "NameError",
     "evalue": "name 'df1' is not defined",
     "output_type": "error",
     "traceback": [
      "\u001b[1;31m---------------------------------------------------------------------------\u001b[0m",
      "\u001b[1;31mNameError\u001b[0m                                 Traceback (most recent call last)",
      "\u001b[1;32m<ipython-input-1-a120a6babc2f>\u001b[0m in \u001b[0;36m<module>\u001b[1;34m\u001b[0m\n\u001b[1;32m----> 1\u001b[1;33m \u001b[0ma\u001b[0m \u001b[1;33m=\u001b[0m \u001b[0mlist\u001b[0m\u001b[1;33m(\u001b[0m\u001b[0mdf1\u001b[0m\u001b[1;33m[\u001b[0m\u001b[1;34m'song'\u001b[0m\u001b[1;33m]\u001b[0m\u001b[1;33m)\u001b[0m\u001b[1;33m\u001b[0m\u001b[1;33m\u001b[0m\u001b[0m\n\u001b[0m\u001b[0;32m      2\u001b[0m \u001b[0ma1\u001b[0m \u001b[1;33m=\u001b[0m \u001b[0ma\u001b[0m\u001b[1;33m.\u001b[0m\u001b[0mcopy\u001b[0m\u001b[1;33m(\u001b[0m\u001b[1;33m)\u001b[0m\u001b[1;33m\u001b[0m\u001b[1;33m\u001b[0m\u001b[0m\n\u001b[0;32m      3\u001b[0m \u001b[0ma2\u001b[0m \u001b[1;33m=\u001b[0m \u001b[0mlist\u001b[0m\u001b[1;33m(\u001b[0m\u001b[0mdf1\u001b[0m\u001b[1;33m[\u001b[0m\u001b[1;34m'artist'\u001b[0m\u001b[1;33m]\u001b[0m\u001b[1;33m)\u001b[0m\u001b[1;33m\u001b[0m\u001b[1;33m\u001b[0m\u001b[0m\n\u001b[0;32m      4\u001b[0m \u001b[0mx\u001b[0m \u001b[1;33m=\u001b[0m \u001b[1;36m0\u001b[0m\u001b[1;33m\u001b[0m\u001b[1;33m\u001b[0m\u001b[0m\n\u001b[0;32m      5\u001b[0m \u001b[1;32mfor\u001b[0m \u001b[0mi\u001b[0m \u001b[1;32min\u001b[0m \u001b[0ma\u001b[0m\u001b[1;33m:\u001b[0m\u001b[1;33m\u001b[0m\u001b[1;33m\u001b[0m\u001b[0m\n",
      "\u001b[1;31mNameError\u001b[0m: name 'df1' is not defined"
     ]
    }
   ],
   "source": [
    "a = list(df1['song'])\n",
    "a1 = a.copy()\n",
    "a2 = list(df1['artist'])\n",
    "x = 0\n",
    "for i in a:\n",
    "    i = i.lower()\n",
    "    if 'ft' in i:\n",
    "        a[x] = i.replace('ft', '(ft')\n",
    "    if 'feat' in i:\n",
    "        a[x] = a[x].replace('feat', '(feat')\n",
    "    if 'remix' in i:\n",
    "        a[x] = a[x].replace('remix', '(remix')\n",
    "    if '  ' in i:\n",
    "        a[x] = a[x].replace('  ', ' ')\n",
    "    if '(' in a[x]:\n",
    "        a[x] = a[x][: a[x].index('(')]\n",
    "    if '\\\\' in i:\n",
    "        a[x] = a[x].replace('\\\\', '') \n",
    "    a[x] = a[x].strip().lower()\n",
    "    x += 1"
   ]
  },
  {
   "cell_type": "code",
   "execution_count": 5,
   "id": "first-wells",
   "metadata": {},
   "outputs": [],
   "source": [
    "b = list(df2['song'])\n",
    "b1 = b.copy()\n",
    "b2 = list(df2['artist'])\n",
    "x = 0\n",
    "for i in b:\n",
    "    i = i.lower()\n",
    "    if 'remix' in i:\n",
    "        b[x] = i.replace('remix', '(remix')\n",
    "    if 'ft' in i:\n",
    "        b[x] = b[x].replace('ft', '(ft')\n",
    "    if 'feat' in i:\n",
    "        b[x] = b[x].replace('feat', '(feat')\n",
    "    if '  ' in i:\n",
    "        b[x] = b[x].replace('  ', ' ')\n",
    "    if '(' in b[x]:\n",
    "        b[x] = b[x][: b[x].index('(')]\n",
    "    if '\\\\' in i:\n",
    "        b[x] = b[x].replace('\\\\', '') \n",
    "    b[x] = b[x].strip().lower()\n",
    "    x += 1"
   ]
  },
  {
   "cell_type": "code",
   "execution_count": 6,
   "id": "unusual-riding",
   "metadata": {},
   "outputs": [],
   "source": [
    "c = list(df3['song'])\n",
    "c1 = c.copy()\n",
    "c2 = list(df3['artist'])\n",
    "x = 0\n",
    "for i in c:\n",
    "    i = i.lower()\n",
    "    if 'ft' in i:\n",
    "        c[x] = i.replace('ft', '(ft')\n",
    "    if 'feat' in i:\n",
    "        c[x] = c[x].replace('feat', '(feat')\n",
    "    if 'remix' in i:\n",
    "        c[x] = c[x].replace('remix', '(remix')\n",
    "    if '  ' in i:\n",
    "        c[x] = c[x].replace('  ', ' ')\n",
    "    if '(' in c[x]:\n",
    "        c[x] = c[x][: c[x].index('(')]\n",
    "    if '\\\\' in i:\n",
    "        c[x] = c[x].replace('\\\\', '')  \n",
    "    c[x] = c[x].strip().lower()\n",
    "    x += 1"
   ]
  },
  {
   "cell_type": "code",
   "execution_count": 7,
   "id": "higher-minneapolis",
   "metadata": {},
   "outputs": [],
   "source": [
    "d = list(df4['song'])\n",
    "d1 = d.copy()\n",
    "d2 = list(df4['artist'])\n",
    "x = 0\n",
    "for i in d:\n",
    "    i = i.lower()\n",
    "    if 'ft' in i:\n",
    "        d[x] = i.replace('ft', '(ft') + ')'\n",
    "    if 'feat' in i:\n",
    "        d[x] = d[x].replace('feat', '(feat')\n",
    "    if 'remix' in i:\n",
    "        d[x] = d[x].replace('remix', '(remix')\n",
    "    if '  ' in d[x]:\n",
    "        d[x] = d[x].replace('  ', ' ')\n",
    "    x += 1\n",
    "x = 0\n",
    "for i in d:\n",
    "    if '(' in i:\n",
    "        d[x] = i[: i.index('(')]\n",
    "    if '\\\\' in i:\n",
    "        d[x] = d[x].replace('\\\\', '') \n",
    "    d[x] = d[x].strip().lower()\n",
    "    x += 1"
   ]
  },
  {
   "cell_type": "code",
   "execution_count": 8,
   "id": "anticipated-reservoir",
   "metadata": {},
   "outputs": [],
   "source": [
    "e = list(df5['song'])\n",
    "e1 = e.copy()\n",
    "e2 = list(df5['artist'])\n",
    "x = 0\n",
    "for i in e:\n",
    "    i = i.lower()\n",
    "    if 'ft' in i:\n",
    "        e[x] = e[x].replace('ft', '(ft')\n",
    "    if 'feat' in i:\n",
    "        e[x] = e[x].replace('feat', '(feat')\n",
    "    if 'remix' in i:\n",
    "        e[x] = e[x].replace('remix', '(remix')\n",
    "    if '  ' in i:\n",
    "        e[x] = e[x].replace('  ', ' ')\n",
    "    if '(' in e[x]:\n",
    "        e[x] = e[x][: e[x].index('(')]\n",
    "    if '\\\\' in i:\n",
    "        e[x] = e[x].replace('\\\\', '') \n",
    "    e[x] = e[x].strip().lower()\n",
    "    x += 1"
   ]
  },
  {
   "cell_type": "code",
   "execution_count": 9,
   "id": "revised-clearance",
   "metadata": {},
   "outputs": [],
   "source": [
    "f = list(df6['song'])\n",
    "f1 = f.copy()\n",
    "f2 = list(df6['artist'])\n",
    "x = 0\n",
    "for i in f:\n",
    "    i = i.lower()\n",
    "    if 'ft' in i:\n",
    "        f[x] = f[x].replace('ft', '(ft')\n",
    "    if 'feat' in i:\n",
    "        f[x] = f[x].replace('feat', '(feat')\n",
    "    if 'remix' in i:\n",
    "        f[x] = f[x].replace('remix', '(remix')\n",
    "    if '  ' in i:\n",
    "        f[x] = f[x].replace('  ', ' ')\n",
    "    if '(' in f[x]:\n",
    "        f[x] = f[x][: f[x].index('(')]\n",
    "    if '\\\\' in i:\n",
    "        f[x] = f[x].replace('\\\\', '') \n",
    "    f[x] = f[x].strip().lower()\n",
    "    x += 1"
   ]
  },
  {
   "cell_type": "code",
   "execution_count": 10,
   "id": "sticky-child",
   "metadata": {},
   "outputs": [],
   "source": [
    "songs = a + b + c + d + e + f\n",
    "songs = set(songs)"
   ]
  },
  {
   "cell_type": "code",
   "execution_count": 12,
   "id": "organic-somalia",
   "metadata": {},
   "outputs": [],
   "source": [
    "songs = list(songs)"
   ]
  },
  {
   "cell_type": "code",
   "execution_count": 28,
   "id": "healthy-laser",
   "metadata": {},
   "outputs": [],
   "source": [
    "final = {}"
   ]
  },
  {
   "cell_type": "code",
   "execution_count": 29,
   "id": "descending-tomorrow",
   "metadata": {},
   "outputs": [],
   "source": [
    "x = 0\n",
    "for i in songs:\n",
    "    if i in a:\n",
    "        final[i] = [a.index(i) + 1]\n",
    "    else:\n",
    "        final[i] = [400]"
   ]
  },
  {
   "cell_type": "code",
   "execution_count": 30,
   "id": "accessible-reporter",
   "metadata": {},
   "outputs": [],
   "source": [
    "x = 0\n",
    "for i in songs:\n",
    "    if i in b:\n",
    "        final[i].append(b.index(i) + 1)\n",
    "    else:\n",
    "        final[i].append(410)"
   ]
  },
  {
   "cell_type": "code",
   "execution_count": 31,
   "id": "amateur-powder",
   "metadata": {},
   "outputs": [],
   "source": [
    "x = 0\n",
    "for i in songs:\n",
    "    if i in c:\n",
    "        final[i].append(c.index(i) + 1)\n",
    "    else:\n",
    "        final[i].append(350)"
   ]
  },
  {
   "cell_type": "code",
   "execution_count": 32,
   "id": "judicial-austria",
   "metadata": {},
   "outputs": [],
   "source": [
    "x = 0\n",
    "for i in songs:\n",
    "    if i in d:\n",
    "        final[i].append(d.index(i) + 1)\n",
    "    else:\n",
    "        final[i].append(450)"
   ]
  },
  {
   "cell_type": "code",
   "execution_count": 33,
   "id": "running-decimal",
   "metadata": {},
   "outputs": [],
   "source": [
    "x = 0\n",
    "for i in songs:\n",
    "    if i in e:\n",
    "        final[i].append(e.index(i) + 1)\n",
    "    else:\n",
    "        final[i].append(420)"
   ]
  },
  {
   "cell_type": "code",
   "execution_count": 34,
   "id": "supported-constitutional",
   "metadata": {},
   "outputs": [],
   "source": [
    "x = 0\n",
    "for i in songs:\n",
    "    if i in f:\n",
    "        final[i].append(f.index(i) + 1)\n",
    "    else:\n",
    "        final[i].append(330)"
   ]
  },
  {
   "cell_type": "code",
   "execution_count": 35,
   "id": "color-posting",
   "metadata": {},
   "outputs": [],
   "source": [
    "x = 0\n",
    "for i in songs:\n",
    "    if i in a:\n",
    "        final[i].append(a2[a.index(i)])\n",
    "    if i in b and len(final[i]) < 7:\n",
    "        final[i].append(b2[b.index(i)])\n",
    "    if i in c and len(final[i]) < 7:\n",
    "        final[i].append(c2[c.index(i)])\n",
    "    if i in d and len(final[i]) < 7:\n",
    "        final[i].append(d2[d.index(i)])\n",
    "    if i in e and len(final[i]) < 7:\n",
    "        final[i].append(e2[e.index(i)])\n",
    "    if i in f and len(final[i]) < 7:\n",
    "        final[i].append(f2[f.index(i)])\n",
    "    x += 1"
   ]
  },
  {
   "cell_type": "code",
   "execution_count": 24,
   "id": "large-provision",
   "metadata": {},
   "outputs": [],
   "source": [
    "x = 0\n",
    "keys = list(final.keys())\n",
    "for k in keys:\n",
    "    if k in a:\n",
    "        keys[x] = a1[a.index(k)]\n",
    "    if k in b:\n",
    "        keys[x] = b1[b.index(k)]\n",
    "    if k in c:\n",
    "        keys[x] = c1[c.index(k)]\n",
    "    if k in d:\n",
    "        keys[x] = d1[d.index(k)]\n",
    "    if k in e:\n",
    "        keys[x] = e1[e.index(k)]\n",
    "    if k in f:\n",
    "        keys[x] = f1[f.index(k)]\n",
    "    x += 1"
   ]
  },
  {
   "cell_type": "code",
   "execution_count": 25,
   "id": "hundred-frontier",
   "metadata": {},
   "outputs": [],
   "source": [
    "i = 0\n",
    "k = list(final.keys())\n",
    "for x in k:\n",
    "    final[keys[i]] = final.pop(x)\n",
    "    i += 1"
   ]
  },
  {
   "cell_type": "code",
   "execution_count": 38,
   "id": "substantial-windows",
   "metadata": {},
   "outputs": [],
   "source": [
    "song = list(final.keys())\n",
    "post1 = [x[0] for x in final.values()]\n",
    "post2 = [x[1] for x in final.values()]\n",
    "post3 = [x[2] for x in final.values()]\n",
    "post4 = [x[3] for x in final.values()]\n",
    "post5 = [x[4] for x in final.values()]\n",
    "post6 = [x[5] for x in final.values()]\n",
    "post7 = [x[6] for x in final.values()]\n",
    "postT = [(post1[x] + post2[x] + post3[x] + post4[x] + post5[x] + post6[x])/6 for x in range(0, 334)]"
   ]
  },
  {
   "cell_type": "code",
   "execution_count": 39,
   "id": "banner-church",
   "metadata": {},
   "outputs": [],
   "source": [
    "data = {'song':song,'artist':post7,'apple':post1,'audiomark':post2,'youtube':post3, 'boom': post4, 'spotify': post5, 'deezer': post6, 'RT': postT}\n",
    "df = pd.DataFrame(data)"
   ]
  },
  {
   "cell_type": "code",
   "execution_count": 40,
   "id": "executive-wichita",
   "metadata": {},
   "outputs": [],
   "source": [
    "df.sort_values(by=['RT'], inplace=True)"
   ]
  },
  {
   "cell_type": "code",
   "execution_count": 41,
   "id": "private-yellow",
   "metadata": {},
   "outputs": [],
   "source": [
    "df['rank'] = [x for x in range(1,335)]"
   ]
  },
  {
   "cell_type": "code",
   "execution_count": 42,
   "id": "innocent-content",
   "metadata": {},
   "outputs": [],
   "source": [
    "df1 = df[['rank', 'song', 'artist']]\n",
    "df1 = df1[:50]"
   ]
  },
  {
   "cell_type": "code",
   "execution_count": 43,
   "id": "conditional-singing",
   "metadata": {},
   "outputs": [],
   "source": [
    "df1 = df1.set_index('rank')\n",
    "df = df.set_index('rank')"
   ]
  },
  {
   "cell_type": "code",
   "execution_count": 44,
   "id": "known-thompson",
   "metadata": {},
   "outputs": [],
   "source": [
    "df1.to_csv(f'week{w}-hiphop50.csv')\n",
    "df.to_csv(f'week{w}-hiphop.csv')"
   ]
  },
  {
   "cell_type": "code",
   "execution_count": 45,
   "id": "reasonable-incidence",
   "metadata": {},
   "outputs": [],
   "source": [
    " df2 = pd.read_csv(f'week{w-1}-hiphop50.csv')"
   ]
  },
  {
   "cell_type": "code",
   "execution_count": 46,
   "id": "collaborative-muslim",
   "metadata": {},
   "outputs": [],
   "source": [
    "a = list(df2['song'])\n",
    "a1 = a.copy()\n",
    "x = 0\n",
    "for i in a:\n",
    "    if 'ft' in i:\n",
    "        a[x] = i.replace('ft', '(ft') + ')'\n",
    "    x += 1\n",
    "x = 0\n",
    "for i in a:\n",
    "    if '(' in i:\n",
    "        a[x] = i[: i.index('(')]\n",
    "    a[x] = a[x].strip().lower()\n",
    "    x += 1"
   ]
  },
  {
   "cell_type": "code",
   "execution_count": 47,
   "id": "prostate-proposal",
   "metadata": {},
   "outputs": [],
   "source": [
    "b = list(df1['song'])\n",
    "b1 = b.copy()\n",
    "x = 0\n",
    "for i in b:\n",
    "    if 'ft' in i:\n",
    "        b[x] = i.replace('ft', '(ft') + ')'\n",
    "    x += 1\n",
    "x = 0\n",
    "for i in b:\n",
    "    if '(' in i:\n",
    "        b[x] = i[: i.index('(')]\n",
    "    b[x] = b[x].strip().lower()\n",
    "    x += 1"
   ]
  },
  {
   "cell_type": "code",
   "execution_count": 48,
   "id": "underlying-personality",
   "metadata": {},
   "outputs": [],
   "source": [
    "song = []\n",
    "for x in b:\n",
    "    if x in a:\n",
    "        song.append(a1[a.index(x)])\n",
    "    else:\n",
    "        song.append(b1[b.index(x)])"
   ]
  },
  {
   "cell_type": "code",
   "execution_count": 49,
   "id": "commercial-profile",
   "metadata": {},
   "outputs": [],
   "source": [
    "df1['song'] = song"
   ]
  },
  {
   "cell_type": "code",
   "execution_count": 50,
   "id": "korean-modem",
   "metadata": {},
   "outputs": [],
   "source": [
    "a = list(df2['song'])\n",
    "b = list(df1['song'])\n",
    "c = list(df2['weeks on chart'])\n",
    "i = 0\n",
    "prev = []\n",
    "weeks = []\n",
    "for x in b:\n",
    "    if x in a:\n",
    "        prev.append(a.index(x) + 1)\n",
    "        weeks.append(c[i] + 1)\n",
    "    else:\n",
    "        prev.append(0)\n",
    "        weeks.append(1)\n",
    "    i += 1\n",
    "df1['Previous week'] = prev\n",
    "df1['weeks on chart'] = weeks"
   ]
  },
  {
   "cell_type": "code",
   "execution_count": 54,
   "id": "invalid-start",
   "metadata": {},
   "outputs": [],
   "source": [
    "df1.to_csv(f'week{w}-hiphop50.csv')\n",
    "df1.to_csv('C:\\\\Users\\\\faree\\\\Desktop\\\\music charts\\\\weekly charts\\\\weekly\\\\hiphop50.csv')\n",
    "df1.to_json('C:\\\\Users\\\\faree\\\\Desktop\\\\webboard\\\\docs\\\\hiphop50.json')\n",
    "df1.to_json(f'C:\\\\Users\\\\faree\\\\Desktop\\\\webboard\\\\week{w}\\\\hiphop50.json')"
   ]
  }
 ],
 "metadata": {
  "kernelspec": {
   "display_name": "Python 3",
   "language": "python",
   "name": "python3"
  },
  "language_info": {
   "codemirror_mode": {
    "name": "ipython",
    "version": 3
   },
   "file_extension": ".py",
   "mimetype": "text/x-python",
   "name": "python",
   "nbconvert_exporter": "python",
   "pygments_lexer": "ipython3",
   "version": "3.7.9"
  }
 },
 "nbformat": 4,
 "nbformat_minor": 5
}
