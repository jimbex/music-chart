{
 "cells": [
  {
   "cell_type": "code",
   "execution_count": 1,
   "id": "secret-facing",
   "metadata": {},
   "outputs": [],
   "source": [
    "import pandas as pd\n",
    "from datetime import datetime\n",
    "m = datetime.today().strftime('%B')\n",
    "d = datetime.today().strftime('%d')\n",
    "w = datetime.today().strftime('%V')\n",
    "w = int(w)\n",
    "d = int(d)"
   ]
  },
  {
   "cell_type": "code",
   "execution_count": 2,
   "id": "democratic-stationery",
   "metadata": {},
   "outputs": [],
   "source": [
    "df1 = pd.read_csv(f'apple_africa-week{w}.csv', encoding='utf-8')\n",
    "df2 = pd.read_csv(f'boom_week{w}-africa.csv', encoding='utf-8')\n",
    "df3 = pd.read_csv(f'spotify_africa-week{w}.csv', encoding='utf-8')\n",
    "df4 = pd.read_csv(f'deezer_africa-week{w}.csv', encoding='utf-8')"
   ]
  },
  {
   "cell_type": "code",
   "execution_count": 3,
   "id": "sapphire-chocolate",
   "metadata": {},
   "outputs": [],
   "source": [
    "df1 = df1[['song', 'artist']]\n",
    "df2 = df2[['song', 'artist']]\n",
    "df3 = df3[['song', 'artist']]\n",
    "df4 = df4[['song', 'artist']]"
   ]
  },
  {
   "cell_type": "code",
   "execution_count": 4,
   "id": "objective-woman",
   "metadata": {},
   "outputs": [],
   "source": [
    "a = list(df1['song'])\n",
    "a1 = a.copy()\n",
    "a2 = list(df1['artist'])\n",
    "x = 0\n",
    "for i in a:\n",
    "    if '(' in i:\n",
    "        a[x] = i[: i.index('(')]\n",
    "    if '\\\\' in i:\n",
    "        a[x] = a[x].replace('\\\\', '') \n",
    "    a[x] = a[x].strip().lower()\n",
    "    x += 1"
   ]
  },
  {
   "cell_type": "code",
   "execution_count": 5,
   "id": "first-wells",
   "metadata": {},
   "outputs": [],
   "source": [
    "b = list(df2['song'])\n",
    "b1 = b.copy()\n",
    "b2 = list(df2['artist'])\n",
    "x = 0\n",
    "for i in b:\n",
    "    if 'ft' in i:\n",
    "        b[x] = i.replace('ft', '(ft') + ')'\n",
    "    x += 1\n",
    "x = 0\n",
    "for i in b:\n",
    "    if '(' in i:\n",
    "        b[x] = i[: i.index('(')]\n",
    "    if '\\\\' in i:\n",
    "        b[x] = b[x].replace('\\\\', '') \n",
    "    b[x] = b[x].strip().lower()\n",
    "    x += 1"
   ]
  },
  {
   "cell_type": "code",
   "execution_count": 6,
   "id": "published-livestock",
   "metadata": {},
   "outputs": [],
   "source": [
    "c = list(df3['song'])\n",
    "c1 = c.copy()\n",
    "c2 = list(df3['artist'])\n",
    "x = 0\n",
    "for i in c:\n",
    "    if '(' in i:\n",
    "        c[x] = i[: i.index('(')]\n",
    "    if '\\\\' in i:\n",
    "        c[x] = c[x].replace('\\\\', '') \n",
    "    c[x] = c[x].strip().lower()\n",
    "    x += 1"
   ]
  },
  {
   "cell_type": "code",
   "execution_count": 7,
   "id": "european-federal",
   "metadata": {},
   "outputs": [],
   "source": [
    "d = list(df4['song'])\n",
    "d1 = d.copy()\n",
    "d2 = list(df4['artist'])\n",
    "x = 0\n",
    "for i in d:\n",
    "    if '(' in i:\n",
    "        d[x] = i[: i.index('(')]\n",
    "    if '\\\\' in i:\n",
    "        d[x] = d[x].replace('\\\\', '') \n",
    "    d[x] = d[x].strip().lower()\n",
    "    x += 1"
   ]
  },
  {
   "cell_type": "code",
   "execution_count": 8,
   "id": "sticky-child",
   "metadata": {},
   "outputs": [],
   "source": [
    "songs = a + b + c + d\n",
    "songs = set(songs)"
   ]
  },
  {
   "cell_type": "code",
   "execution_count": 9,
   "id": "special-western",
   "metadata": {},
   "outputs": [
    {
     "data": {
      "text/plain": [
       "199"
      ]
     },
     "execution_count": 9,
     "metadata": {},
     "output_type": "execute_result"
    }
   ],
   "source": [
    "len(songs)"
   ]
  },
  {
   "cell_type": "code",
   "execution_count": 10,
   "id": "organic-somalia",
   "metadata": {},
   "outputs": [],
   "source": [
    "songs = list(songs)"
   ]
  },
  {
   "cell_type": "code",
   "execution_count": 11,
   "id": "healthy-laser",
   "metadata": {},
   "outputs": [],
   "source": [
    "final = {}"
   ]
  },
  {
   "cell_type": "code",
   "execution_count": 12,
   "id": "descending-tomorrow",
   "metadata": {},
   "outputs": [],
   "source": [
    "x = 0\n",
    "for i in songs:\n",
    "    if i in a:\n",
    "        final[i] = [a.index(i) + 1]\n",
    "    else:\n",
    "        final[i] = [200]"
   ]
  },
  {
   "cell_type": "code",
   "execution_count": 13,
   "id": "accessible-reporter",
   "metadata": {},
   "outputs": [],
   "source": [
    "x = 0\n",
    "for i in songs:\n",
    "    if i in b:\n",
    "        final[i].append(b.index(i) + 1)\n",
    "    else:\n",
    "        final[i].append(250)"
   ]
  },
  {
   "cell_type": "code",
   "execution_count": 14,
   "id": "limited-biodiversity",
   "metadata": {},
   "outputs": [],
   "source": [
    "x = 0\n",
    "for i in songs:\n",
    "    if i in c:\n",
    "        final[i].append(c.index(i) + 1)\n",
    "    else:\n",
    "        final[i].append(225)"
   ]
  },
  {
   "cell_type": "code",
   "execution_count": 15,
   "id": "tropical-filter",
   "metadata": {},
   "outputs": [],
   "source": [
    "x = 0\n",
    "for i in songs:\n",
    "    if i in d:\n",
    "        final[i].append(d.index(i) + 1)\n",
    "    else:\n",
    "        final[i].append(270)"
   ]
  },
  {
   "cell_type": "code",
   "execution_count": 16,
   "id": "color-posting",
   "metadata": {},
   "outputs": [],
   "source": [
    "x = 0\n",
    "for i in songs:\n",
    "    if i in a:\n",
    "        final[i].append(a2[a.index(i)])\n",
    "    if i in b and len(final[i]) < 5:\n",
    "        final[i].append(b2[b.index(i)])\n",
    "    if i in c and len(final[i]) < 5:\n",
    "        final[i].append(c2[c.index(i)])\n",
    "    if i in d and len(final[i]) < 5:\n",
    "        final[i].append(d2[d.index(i)])\n",
    "    x += 1"
   ]
  },
  {
   "cell_type": "code",
   "execution_count": 17,
   "id": "several-resident",
   "metadata": {},
   "outputs": [
    {
     "data": {
      "text/plain": [
       "{'my favourite song': [32, 250, 225, 270, 'Tshego'],\n",
       " 'happy day': [200, 86, 225, 270, 'Sarkodie'],\n",
       " 'lala': [200, 62, 225, 270, 'Rayvanny'],\n",
       " 'money & laughter': [56, 250, 225, 270, 'BOJ'],\n",
       " 'such kinda love': [200, 3, 225, 270, 'Otile Brown'],\n",
       " 'money man': [200, 73, 225, 270, 'Malcolm Nuna'],\n",
       " 'music messiah': [200, 250, 20, 270, 'DJ Neptune'],\n",
       " 'activate': [200, 250, 225, 32, 'Stonebwoy'],\n",
       " 'peru': [4, 5, 225, 270, 'Fireboy DML'],\n",
       " 'pololo': [36, 250, 225, 270, 'MHD'],\n",
       " 'guuy': [200, 60, 225, 270, 'Jeeba'],\n",
       " 'rise up': [200, 84, 225, 270, '2Baba'],\n",
       " 'infinity': [200, 16, 225, 5, 'Olamide'],\n",
       " 'kilofese': [63, 250, 15, 270, 'Zinoleesky'],\n",
       " 'let dem kno': [200, 250, 18, 270, 'Smallgod'],\n",
       " 'sima nkre': [33, 250, 225, 270, 'Djodje,  Deejay Telio and  Julinho Ksd'],\n",
       " 'je veux que toi': [79, 250, 225, 270, 'Bramsito'],\n",
       " 'outside': [12, 95, 225, 11, 'Buju'],\n",
       " 'pepe': [200, 250, 42, 270, 'L.A.X'],\n",
       " 'nimekuzoea': [69, 2, 225, 270, 'Nandy'],\n",
       " 'baikoko': [200, 9, 225, 270, 'Mbosso'],\n",
       " '23': [200, 250, 225, 39, 'Burna Boy'],\n",
       " 'professor peller': [37, 250, 225, 270, 'Seyi Vibez'],\n",
       " 'ndovu ni kuu': [75, 250, 225, 270, 'arcane krispah'],\n",
       " 'monalisa': [7, 250, 225, 13, 'Lojay and  Sarz'],\n",
       " 'forever': [78, 46, 19, 4, 'Gyakie and  Omah Lay'],\n",
       " 'pains': [200, 51, 225, 270, 'Mr Drew'],\n",
       " 'champion': [200, 250, 225, 50, 'Fireboy Dml'],\n",
       " 'john wick': [200, 250, 49, 270, 'De Mthuda'],\n",
       " 'sere': [67, 250, 225, 270, 'Spinall,  Fireboy DML and  6LACK'],\n",
       " 'sans moi': [26, 250, 225, 270, 'Franglish and  Aya Nakamura'],\n",
       " 'away': [200, 250, 225, 44, 'Ayra Starr'],\n",
       " 'jack': [44, 250, 225, 270, 'Nasty C'],\n",
       " 'non living thing': [1, 250, 55, 270, 'Sarkodie'],\n",
       " 'felony': [42, 250, 225, 37, 'CKay'],\n",
       " 'ba xolele': [71, 250, 225, 270, 'Dzo 729'],\n",
       " 'focus': [200, 33, 14, 270, 'Joeboy'],\n",
       " 'niko sawa': [64, 250, 34, 270, 'Nviiri The Storyteller'],\n",
       " 'all': [19, 250, 225, 270, 'Rexxie'],\n",
       " 'vibaya': [200, 72, 225, 270, 'Harmonize'],\n",
       " 'litawachoma': [200, 81, 225, 270, 'Zuchu'],\n",
       " 'bobo': [29, 64, 225, 270, 'Aya Nakamura'],\n",
       " 'woza': [200, 250, 41, 270, 'Mr JazziQ'],\n",
       " 'siyathandana': [11, 250, 47, 270, 'Cassper Nyovest'],\n",
       " 'essence': [5, 250, 43, 17, 'Wizkid'],\n",
       " 'dis moi comment.': [21, 250, 225, 270, 'Tayc'],\n",
       " 'kiss me': [200, 82, 225, 270, 'Mbosso'],\n",
       " 'i want': [62, 250, 225, 270, 'Chris Kaiga'],\n",
       " 'hold': [46, 250, 225, 270, 'Blxckie'],\n",
       " 'touch it': [200, 8, 48, 270, 'KiDi'],\n",
       " 'black': [35, 22, 225, 270, 'Victor AD'],\n",
       " 'gupta': [76, 250, 36, 270, 'Focalistic and  Mr JazziQ'],\n",
       " \"baby i'm jealous\": [200, 250, 225, 23, 'Mr Eazi'],\n",
       " 'mad': [200, 250, 225, 43, 'Sarz'],\n",
       " 'feeling': [15, 10, 44, 2, 'LADIPOE and  Buju'],\n",
       " 'sore': [200, 89, 225, 270, 'Yaw Tog'],\n",
       " 'emlanjeni': [10, 250, 57, 270, 'De Mthuda and  Sir Trill'],\n",
       " 'joro': [200, 250, 225, 45, 'Wizkid'],\n",
       " 'la mour': [200, 50, 225, 270, 'KS Bloom'],\n",
       " 'only you': [200, 250, 26, 270, 'GIMS'],\n",
       " 'bloody samaritan': [28, 250, 225, 270, 'Ayra Starr'],\n",
       " 'mtaalam': [200, 36, 225, 270, 'Mbosso'],\n",
       " 'jeraha': [200, 23, 225, 270, 'Otile Brown'],\n",
       " 'hallelu': [200, 250, 225, 40, 'Masterkraft'],\n",
       " 'kilofeshe': [200, 250, 225, 48, 'Zinoleesky'],\n",
       " 'soundgasm': [16, 250, 2, 3, 'Rema'],\n",
       " 'door': [200, 25, 7, 270, 'Joeboy'],\n",
       " 'bad influence': [200, 68, 225, 7, 'Omah Lay'],\n",
       " 'sandakalawe': [200, 35, 225, 270, 'Harmonize'],\n",
       " 'kilometre': [52, 24, 3, 28, 'Burna Boy'],\n",
       " 'you are yahweh': [200, 55, 225, 270, 'Steve Crown'],\n",
       " 'nobody': [200, 52, 225, 270, 'Anjella'],\n",
       " 'system': [200, 250, 4, 270, 'Dave'],\n",
       " 'moslado': [200, 250, 10, 270, 'Teni'],\n",
       " 'africa, one of a kind': [65,\n",
       "  250,\n",
       "  225,\n",
       "  270,\n",
       "  'Angelique Kidjo,  Mr Eazi and  Salif Keita'],\n",
       " 'far away': [27, 250, 225, 270, 'Dangbana Republik and  Bella Shmurda'],\n",
       " 'koroba': [200, 250, 31, 270, 'Tiwa Savage'],\n",
       " 'summeryomuthi': [200, 250, 225, 38, 'Blaq Diamond'],\n",
       " 'in love': [200, 67, 225, 270, 'Otile Brown'],\n",
       " 'big thug boys': [13, 13, 58, 14, 'AV'],\n",
       " 'for you': [74, 42, 225, 9, 'Teni'],\n",
       " 'mwisho': [200, 45, 225, 270, 'Killy (TZ)'],\n",
       " 'one time': [53, 250, 225, 270, 'Moelogo'],\n",
       " 'enfant de dieu': [200, 41, 225, 270, 'Ks bloom'],\n",
       " 'any more': [200, 87, 225, 270, 'Victor AD'],\n",
       " 'dangerous love': [61, 250, 225, 270, 'Omar Sterling'],\n",
       " 'bosana': [200, 250, 39, 270, 'El Mukuka'],\n",
       " 'understand': [3, 4, 1, 12, 'Omah Lay'],\n",
       " 'hustlers prayer': [40, 250, 225, 270, '25K'],\n",
       " 'liyoshona': [54, 250, 225, 270, 'Kwiish SA'],\n",
       " 'congratulations': [200, 53, 225, 270, 'Ada Ehi'],\n",
       " 'maserati': [200, 250, 225, 6, 'Olakira'],\n",
       " 'adom grace': [200, 31, 225, 270, 'Diana Hamilton'],\n",
       " 'fake ex': [200, 90, 225, 270, 'Yaw Tog'],\n",
       " 'history': [200, 28, 225, 35, 'Cheque'],\n",
       " 'damages': [200, 250, 225, 10, 'Tems'],\n",
       " 'fine wine': [50, 250, 225, 270, 'R2Bees'],\n",
       " 'beautiful mistakes': [200, 74, 225, 270, 'Maroon 5'],\n",
       " 'lv n attn feat. wizkid': [200, 250, 28, 31, 'Lojay'],\n",
       " 'peaches': [200, 100, 225, 270, 'Justin Bieber'],\n",
       " 'kamata': [72, 11, 21, 16, 'Diamond Platnumz'],\n",
       " 'yebo teacher': [200, 250, 50, 270, 'Moonchild Sanelly'],\n",
       " 'bling': [22, 250, 225, 36, 'Blaqbonez'],\n",
       " 'bank notification': [70, 250, 225, 270, 'Ciza and  DJ Maphorisa'],\n",
       " 'golden boy': [200, 65, 225, 270, 'KiDi'],\n",
       " 'kpk': [200, 250, 12, 270, 'Rexxie'],\n",
       " 'y3 y3 dom': [200, 29, 225, 270, 'JAY BAHD'],\n",
       " 'somebody': [45, 250, 225, 270, 'Olamide'],\n",
       " 'call': [200, 92, 225, 270, 'Joeboy'],\n",
       " 'coming': [59, 49, 24, 30, 'Naira Marley and  Busiswa'],\n",
       " 'like i do': [200, 76, 225, 270, 'Fireboy DML'],\n",
       " 'nossas coisas': [82, 250, 27, 270, 'C4 pedro'],\n",
       " 'regina': [200, 59, 225, 270, 'Otile Brown'],\n",
       " 'agyeiwaa': [200, 88, 225, 270, \"O\\\\'Kenneth\"],\n",
       " 'ndombolo': [200, 20, 45, 270, 'Alikiba'],\n",
       " 'lo lo': [200, 93, 225, 270, 'Omah Lay'],\n",
       " 'banyana': [200, 250, 5, 27, 'DJ Maphorisa, Kabza De Small'],\n",
       " 'mon soleil': [200, 78, 225, 270, 'Dadju'],\n",
       " 'baajo': [200, 250, 225, 47, 'Kwesi Arthur'],\n",
       " 'jennifer': [200, 6, 225, 270, 'GUCHI'],\n",
       " 'abule': [200, 38, 225, 270, 'Patoranking'],\n",
       " 'baby go': [31, 250, 225, 270, 'Otile Brown and  Kizz Daniel'],\n",
       " 'vibration': [200, 47, 225, 25, 'Sarkodie'],\n",
       " 'khuza gogo': [80, 250, 37, 270, 'DBN Gogo,  Blaqnick and  MasterBlaq'],\n",
       " 'godly': [200, 12, 225, 29, 'Omah Lay'],\n",
       " 'jowo': [200, 250, 35, 270, 'DaVido'],\n",
       " 'woman': [200, 250, 225, 42, 'Rema'],\n",
       " 'dinaledi': [200, 250, 16, 270, 'Major League Djz'],\n",
       " 'e choke': [200, 30, 225, 270, 'Sefa'],\n",
       " 'sukari': [200, 18, 225, 270, 'Zuchu'],\n",
       " 'biibi besi': [200, 57, 225, 270, 'Kwame Yogot'],\n",
       " 'capable god': [200, 71, 225, 270, 'Judikay'],\n",
       " 'yafun yafun': [2, 250, 225, 270, 'Ajebo Hustlers'],\n",
       " 'rock': [20, 37, 22, 26, 'Olamide'],\n",
       " 'number one': [200, 27, 225, 270, 'Rayvanny'],\n",
       " 'questions': [81, 250, 225, 270, 'Shekhinah'],\n",
       " 'mood': [200, 48, 225, 24, 'Mr Drew'],\n",
       " 'slow down': [6, 69, 30, 19, 'King Promise'],\n",
       " 'ngilimele': [66, 250, 225, 270, 'DJ Tira'],\n",
       " 'asambeni': [60, 250, 225, 270, 'Oscar Mbo and  C-Blak'],\n",
       " 'hustle': [200, 80, 225, 270, 'Teni'],\n",
       " 'too faithful': [200, 97, 225, 270, 'Moses Bliss'],\n",
       " 'ag baby': [200, 250, 225, 34, 'Adekunle Gold'],\n",
       " 'umsebenzi wethu': [77, 250, 225, 270, 'Busta 929 and  Mpura'],\n",
       " 'coachella': [200, 15, 225, 20, 'Sarkodie'],\n",
       " 'salute': [200, 14, 225, 270, 'Alikiba'],\n",
       " 'feel good': [30, 250, 225, 270, 'MohBad'],\n",
       " 'iyo': [200, 17, 225, 270, 'Diamond Platnumz'],\n",
       " 'it is what it is': [200, 250, 225, 8, 'Adekunle Gold'],\n",
       " 'ex': [51, 250, 225, 270, 'Nikita Kering'],\n",
       " 'nyumba ndogo': [200, 7, 225, 270, 'Zuchu'],\n",
       " 'second sermon': [39, 1, 225, 22, 'Black Sherif'],\n",
       " 'need for speed': [200, 79, 225, 270, 'Olamide'],\n",
       " 'cheche': [200, 54, 225, 270, 'Zuchu'],\n",
       " 'yaba buluku': [55, 56, 11, 18, 'DJ Tarico and  Burna Boy'],\n",
       " 'yalaah': [200, 34, 225, 270, 'Mbosso'],\n",
       " 'leggo': [41, 250, 225, 270, 'Serge Ibaka and  Tayc'],\n",
       " 'destiny': [200, 44, 225, 270, 'Black Sherif'],\n",
       " 'meliza': [200, 250, 38, 270, 'DJ Flex'],\n",
       " 'breakup riddim': [200, 250, 40, 270, 'DJ Aroma'],\n",
       " 'running': [23, 19, 23, 21, 'Chike and  Simi'],\n",
       " 'dimension': [43, 250, 13, 270, 'JAE5'],\n",
       " 'amore': [200, 99, 225, 270, 'Fally Ipupa'],\n",
       " 'southy love': [14, 250, 225, 270, 'Peruzzi'],\n",
       " 'somebody baby': [58, 250, 225, 41, 'Davido and  Peruzzi'],\n",
       " 'industry baby': [200, 43, 225, 270, 'Lil Nas X'],\n",
       " 'you': [200, 98, 225, 270, 'Omah Lay'],\n",
       " 'damn': [200, 96, 225, 270, 'Omah Lay'],\n",
       " 'summer days': [47, 250, 225, 270, 'NVMI'],\n",
       " 'jealous': [200, 26, 225, 270, 'Alikiba'],\n",
       " 'confident': [18, 250, 225, 270, 'Savage and  Buju'],\n",
       " 'la la': [48, 250, 225, 270, \"T'neeya\"],\n",
       " 'show me': [25, 21, 225, 270, 'Joeboy'],\n",
       " 'medicine': [24, 32, 225, 270, 'Jaywillz'],\n",
       " 'shopping spree': [34, 250, 17, 270, 'Davido'],\n",
       " 'phuze': [38, 250, 225, 270, 'Dlala Thukzin'],\n",
       " \"m'a ngui baxx\": [200, 83, 225, 270, 'Dieyla Gueye'],\n",
       " 'the best': [200, 250, 225, 46, 'DaVido'],\n",
       " 'ke star': [200, 250, 225, 33, 'Focalistic'],\n",
       " 'solace': [200, 250, 25, 270, 'Ajebo Hustlers'],\n",
       " 'karma': [200, 250, 32, 270, 'Odeal'],\n",
       " 'testimony': [200, 250, 6, 270, 'Buju'],\n",
       " 'omemma': [200, 94, 225, 270, 'Judikay'],\n",
       " 'tabia za wakenya': [200, 39, 225, 270, 'Mejja'],\n",
       " 'dusuma': [200, 63, 225, 270, 'Otile Brown'],\n",
       " 'sweet escape': [49, 250, 225, 270, 'Mizzle'],\n",
       " 'bounce': [8, 40, 46, 1, 'Ruger'],\n",
       " 'celebrate me': [200, 91, 8, 270, 'Patoranking'],\n",
       " 'this your body': [200, 250, 33, 270, 'Skales'],\n",
       " 'send me nudes': [200, 250, 29, 270, 'KiDi'],\n",
       " 'dollar on you': [200, 66, 225, 270, 'Kuami Eugene'],\n",
       " 'again': [200, 250, 225, 49, 'Wande Coal'],\n",
       " 'weekend': [73, 250, 225, 270, 'Eddy Kenzo'],\n",
       " 'ankonam': [200, 77, 225, 270, 'Black Sherif'],\n",
       " 'fall': [200, 85, 225, 270, 'Mbosso'],\n",
       " 'sinner': [17, 58, 9, 15, 'Adekunle Gold and  Lucky Daye'],\n",
       " 'tycoon': [9, 250, 225, 270, 'Show Dem Camp'],\n",
       " 'roho mbaya': [200, 61, 225, 270, 'Nadia Mukami'],\n",
       " 'early momo': [68, 250, 225, 270, 'Vector']}"
      ]
     },
     "execution_count": 17,
     "metadata": {},
     "output_type": "execute_result"
    }
   ],
   "source": [
    "final"
   ]
  },
  {
   "cell_type": "code",
   "execution_count": 18,
   "id": "large-provision",
   "metadata": {},
   "outputs": [],
   "source": [
    "x = 0\n",
    "keys = list(final.keys())\n",
    "for k in keys:\n",
    "    if k in a:\n",
    "        keys[x] = a1[a.index(k)]\n",
    "    if k in b:\n",
    "        keys[x] = b1[b.index(k)]\n",
    "    if k in c:\n",
    "        keys[x] = c1[c.index(k)]\n",
    "    if k in d:\n",
    "        keys[x] = d1[d.index(k)]\n",
    "    x += 1"
   ]
  },
  {
   "cell_type": "code",
   "execution_count": 19,
   "id": "hundred-frontier",
   "metadata": {},
   "outputs": [],
   "source": [
    "i = 0\n",
    "k = list(final.keys())\n",
    "for x in k:\n",
    "    final[keys[i]] = final.pop(x)\n",
    "    i += 1"
   ]
  },
  {
   "cell_type": "code",
   "execution_count": 20,
   "id": "beginning-serve",
   "metadata": {},
   "outputs": [
    {
     "data": {
      "text/plain": [
       "199"
      ]
     },
     "execution_count": 20,
     "metadata": {},
     "output_type": "execute_result"
    }
   ],
   "source": [
    "len(final)"
   ]
  },
  {
   "cell_type": "code",
   "execution_count": 21,
   "id": "substantial-windows",
   "metadata": {},
   "outputs": [],
   "source": [
    "song = list(final.keys())\n",
    "post1 = [x[0] for x in final.values()]\n",
    "post2 = [x[1] for x in final.values()]\n",
    "post3 = [x[2] for x in final.values()]\n",
    "post4 = [x[3] for x in final.values()]\n",
    "post5 = [x[4] for x in final.values()]\n",
    "postT = [(post1[x] + post2[x] + post3[x] + post4[x])/4 for x in range(0, 199)]"
   ]
  },
  {
   "cell_type": "code",
   "execution_count": 22,
   "id": "banner-church",
   "metadata": {},
   "outputs": [],
   "source": [
    "data = {'song':song,'artist':post5,'apple':post1,'boom':post2,'spotify':post3, 'deezer': post4, 'RT': postT}\n",
    "df = pd.DataFrame(data)"
   ]
  },
  {
   "cell_type": "code",
   "execution_count": 23,
   "id": "executive-wichita",
   "metadata": {},
   "outputs": [],
   "source": [
    "df.sort_values(by=['RT'], inplace=True)"
   ]
  },
  {
   "cell_type": "code",
   "execution_count": 24,
   "id": "private-yellow",
   "metadata": {},
   "outputs": [],
   "source": [
    "df['rank'] = [x for x in range(1,200)]"
   ]
  },
  {
   "cell_type": "code",
   "execution_count": 25,
   "id": "innocent-content",
   "metadata": {},
   "outputs": [],
   "source": [
    "df1 = df[['rank', 'song', 'artist']]\n",
    "df1 = df1[:100]"
   ]
  },
  {
   "cell_type": "code",
   "execution_count": 26,
   "id": "conditional-singing",
   "metadata": {},
   "outputs": [],
   "source": [
    "df1 = df1.set_index('rank')\n",
    "df = df.set_index('rank')"
   ]
  },
  {
   "cell_type": "code",
   "execution_count": 27,
   "id": "known-thompson",
   "metadata": {},
   "outputs": [],
   "source": [
    "df1.to_csv(f'africa_week{w}-song100.csv')\n",
    "df.to_csv(f'africa_week{w}.csv')"
   ]
  },
  {
   "cell_type": "code",
   "execution_count": 28,
   "id": "interested-relation",
   "metadata": {},
   "outputs": [],
   "source": [
    "df2 = pd.read_csv(f'africa_week{w - 1}-song100.csv')"
   ]
  },
  {
   "cell_type": "code",
   "execution_count": 29,
   "id": "regular-induction",
   "metadata": {},
   "outputs": [],
   "source": [
    "a = list(df2['song'])\n",
    "a1 = a.copy()\n",
    "x = 0\n",
    "for i in a:\n",
    "    if 'ft' in i:\n",
    "        a[x] = i.replace('ft', '(ft') + ')'\n",
    "    x += 1\n",
    "x = 0\n",
    "for i in a:\n",
    "    if '(' in i:\n",
    "        a[x] = i[: i.index('(')]\n",
    "    a[x] = a[x].strip().lower()\n",
    "    x += 1"
   ]
  },
  {
   "cell_type": "code",
   "execution_count": 30,
   "id": "relevant-cancellation",
   "metadata": {},
   "outputs": [],
   "source": [
    "b = list(df1['song'])\n",
    "b1 = b.copy()\n",
    "x = 0\n",
    "for i in b:\n",
    "    if 'ft' in i:\n",
    "        b[x] = i.replace('ft', '(ft') + ')'\n",
    "    x += 1\n",
    "x = 0\n",
    "for i in b:\n",
    "    if '(' in i:\n",
    "        b[x] = i[: i.index('(')]\n",
    "    b[x] = b[x].strip().lower()\n",
    "    x += 1"
   ]
  },
  {
   "cell_type": "code",
   "execution_count": 31,
   "id": "external-present",
   "metadata": {},
   "outputs": [],
   "source": [
    "song = []\n",
    "for x in b:\n",
    "    if x in a:\n",
    "        song.append(a1[a.index(x)])\n",
    "    else:\n",
    "        song.append(b1[b.index(x)])"
   ]
  },
  {
   "cell_type": "code",
   "execution_count": 32,
   "id": "exciting-belgium",
   "metadata": {},
   "outputs": [],
   "source": [
    "df1['song'] = song"
   ]
  },
  {
   "cell_type": "code",
   "execution_count": 33,
   "id": "responsible-accordance",
   "metadata": {},
   "outputs": [],
   "source": [
    "a = list(df2['song'])\n",
    "b = list(df1['song'])\n",
    "c = list(df2['weeks on chart'])\n",
    "i = 0\n",
    "prev = []\n",
    "weeks = []\n",
    "for x in b:\n",
    "    if x in a:\n",
    "        prev.append(a.index(x) + 1)\n",
    "        weeks.append(c[i] + 1)\n",
    "    else:\n",
    "        prev.append(0)\n",
    "        weeks.append(1)\n",
    "    i += 1\n",
    "df1['Previous week'] = prev\n",
    "df1['weeks on chart'] = weeks"
   ]
  },
  {
   "cell_type": "code",
   "execution_count": 34,
   "id": "through-kentucky",
   "metadata": {},
   "outputs": [],
   "source": [
    "df1.to_csv(f'africa_week{w}-song100.csv')\n",
    "df1.to_csv('C:\\\\Users\\\\faree\\\\Desktop\\\\music charts\\\\weekly charts\\\\weekly\\\\africa100.csv')\n",
    "df1.to_json('C:\\\\Users\\\\faree\\\\Desktop\\\\webboard\\\\docs\\\\africa100.json')\n",
    "df1.to_json(f'C:\\\\Users\\\\faree\\\\Desktop\\\\webboard\\\\week{w}\\\\africa100.json')"
   ]
  },
  {
   "cell_type": "code",
   "execution_count": 35,
   "id": "beautiful-excuse",
   "metadata": {
    "scrolled": false
   },
   "outputs": [
    {
     "data": {
      "text/html": [
       "<div>\n",
       "<style scoped>\n",
       "    .dataframe tbody tr th:only-of-type {\n",
       "        vertical-align: middle;\n",
       "    }\n",
       "\n",
       "    .dataframe tbody tr th {\n",
       "        vertical-align: top;\n",
       "    }\n",
       "\n",
       "    .dataframe thead th {\n",
       "        text-align: right;\n",
       "    }\n",
       "</style>\n",
       "<table border=\"1\" class=\"dataframe\">\n",
       "  <thead>\n",
       "    <tr style=\"text-align: right;\">\n",
       "      <th></th>\n",
       "      <th>song</th>\n",
       "      <th>artist</th>\n",
       "      <th>Previous week</th>\n",
       "      <th>weeks on chart</th>\n",
       "    </tr>\n",
       "    <tr>\n",
       "      <th>rank</th>\n",
       "      <th></th>\n",
       "      <th></th>\n",
       "      <th></th>\n",
       "      <th></th>\n",
       "    </tr>\n",
       "  </thead>\n",
       "  <tbody>\n",
       "    <tr>\n",
       "      <th>1</th>\n",
       "      <td>Understand</td>\n",
       "      <td>Omah Lay</td>\n",
       "      <td>11</td>\n",
       "      <td>7</td>\n",
       "    </tr>\n",
       "    <tr>\n",
       "      <th>2</th>\n",
       "      <td>Feeling ft. Buju</td>\n",
       "      <td>LADIPOE and  Buju</td>\n",
       "      <td>1</td>\n",
       "      <td>7</td>\n",
       "    </tr>\n",
       "    <tr>\n",
       "      <th>3</th>\n",
       "      <td>Running (To You) ft. Simi</td>\n",
       "      <td>Chike and  Simi</td>\n",
       "      <td>15</td>\n",
       "      <td>7</td>\n",
       "    </tr>\n",
       "    <tr>\n",
       "      <th>4</th>\n",
       "      <td>Bounce</td>\n",
       "      <td>Ruger</td>\n",
       "      <td>3</td>\n",
       "      <td>7</td>\n",
       "    </tr>\n",
       "    <tr>\n",
       "      <th>5</th>\n",
       "      <td>Big Thug Boys</td>\n",
       "      <td>AV</td>\n",
       "      <td>10</td>\n",
       "      <td>6</td>\n",
       "    </tr>\n",
       "    <tr>\n",
       "      <th>...</th>\n",
       "      <td>...</td>\n",
       "      <td>...</td>\n",
       "      <td>...</td>\n",
       "      <td>...</td>\n",
       "    </tr>\n",
       "    <tr>\n",
       "      <th>96</th>\n",
       "      <td>INDUSTRY BABY ft. Jack Harlow</td>\n",
       "      <td>Lil Nas X</td>\n",
       "      <td>0</td>\n",
       "      <td>1</td>\n",
       "    </tr>\n",
       "    <tr>\n",
       "      <th>97</th>\n",
       "      <td>Let Dem Kno</td>\n",
       "      <td>Smallgod</td>\n",
       "      <td>92</td>\n",
       "      <td>5</td>\n",
       "    </tr>\n",
       "    <tr>\n",
       "      <th>98</th>\n",
       "      <td>Destiny</td>\n",
       "      <td>Black Sherif</td>\n",
       "      <td>0</td>\n",
       "      <td>1</td>\n",
       "    </tr>\n",
       "    <tr>\n",
       "      <th>99</th>\n",
       "      <td>Music Messiah</td>\n",
       "      <td>DJ Neptune</td>\n",
       "      <td>100</td>\n",
       "      <td>5</td>\n",
       "    </tr>\n",
       "    <tr>\n",
       "      <th>100</th>\n",
       "      <td>Mwisho</td>\n",
       "      <td>Killy (TZ)</td>\n",
       "      <td>90</td>\n",
       "      <td>2</td>\n",
       "    </tr>\n",
       "  </tbody>\n",
       "</table>\n",
       "<p>100 rows × 4 columns</p>\n",
       "</div>"
      ],
      "text/plain": [
       "                               song             artist  Previous week  \\\n",
       "rank                                                                    \n",
       "1                        Understand           Omah Lay             11   \n",
       "2                  Feeling ft. Buju  LADIPOE and  Buju              1   \n",
       "3         Running (To You) ft. Simi    Chike and  Simi             15   \n",
       "4                            Bounce              Ruger              3   \n",
       "5                     Big Thug Boys                 AV             10   \n",
       "...                             ...                ...            ...   \n",
       "96    INDUSTRY BABY ft. Jack Harlow          Lil Nas X              0   \n",
       "97                      Let Dem Kno           Smallgod             92   \n",
       "98                          Destiny       Black Sherif              0   \n",
       "99                    Music Messiah         DJ Neptune            100   \n",
       "100                          Mwisho         Killy (TZ)             90   \n",
       "\n",
       "      weeks on chart  \n",
       "rank                  \n",
       "1                  7  \n",
       "2                  7  \n",
       "3                  7  \n",
       "4                  7  \n",
       "5                  6  \n",
       "...              ...  \n",
       "96                 1  \n",
       "97                 5  \n",
       "98                 1  \n",
       "99                 5  \n",
       "100                2  \n",
       "\n",
       "[100 rows x 4 columns]"
      ]
     },
     "execution_count": 35,
     "metadata": {},
     "output_type": "execute_result"
    }
   ],
   "source": [
    "df1"
   ]
  },
  {
   "cell_type": "code",
   "execution_count": null,
   "id": "effective-pencil",
   "metadata": {},
   "outputs": [],
   "source": []
  }
 ],
 "metadata": {
  "kernelspec": {
   "display_name": "Python 3",
   "language": "python",
   "name": "python3"
  },
  "language_info": {
   "codemirror_mode": {
    "name": "ipython",
    "version": 3
   },
   "file_extension": ".py",
   "mimetype": "text/x-python",
   "name": "python",
   "nbconvert_exporter": "python",
   "pygments_lexer": "ipython3",
   "version": "3.9.2"
  }
 },
 "nbformat": 4,
 "nbformat_minor": 5
}
