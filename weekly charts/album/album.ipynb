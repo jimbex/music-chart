{
 "cells": [
  {
   "cell_type": "code",
   "execution_count": 1,
   "id": "secret-facing",
   "metadata": {},
   "outputs": [],
   "source": [
    "import pandas as pd\n",
    "from datetime import datetime\n",
    "m = datetime.today().strftime('%B')\n",
    "d = datetime.today().strftime('%d')\n",
    "w = datetime.today().strftime('%V')\n",
    "w = int(w)\n",
    "d = int(d)"
   ]
  },
  {
   "cell_type": "code",
   "execution_count": 79,
   "id": "injured-swift",
   "metadata": {},
   "outputs": [],
   "source": [
    "df1 = pd.read_csv(f'apple_album-week{w}.csv', encoding='utf-8')\n",
    "df2 = pd.read_csv(f'audiomack_album-week{w}.csv', encoding='utf-8')\n",
    "df3 = pd.read_csv(f'deezer_album-week{w}.csv', encoding='utf-8')\n",
    "df4 = pd.read_csv(f'boom_album-week{w}.csv', encoding='utf-8')"
   ]
  },
  {
   "cell_type": "code",
   "execution_count": 80,
   "id": "sapphire-chocolate",
   "metadata": {},
   "outputs": [],
   "source": [
    "df1 = df1[['album', 'artist']]\n",
    "df2 = df2[['album', 'artist']]\n",
    "df3 = df3[['album', 'artist']]"
   ]
  },
  {
   "cell_type": "code",
   "execution_count": 81,
   "id": "objective-woman",
   "metadata": {},
   "outputs": [],
   "source": [
    "a = list(df1['album'])\n",
    "a1 = a.copy()\n",
    "a2 = list(df1['artist'])\n",
    "x = 0\n",
    "for i in a:\n",
    "    i = i.lower()\n",
    "    if '  ' in i:\n",
    "        a[x] = a[x].replace('  ', ' ')\n",
    "    if ',' in i:\n",
    "        a[x] = a[x].replace(',', '')\n",
    "    if '-' in i:\n",
    "        a[x] = a[x].replace('-', '(-')\n",
    "    if '(' in i:\n",
    "        a[x] = i[: i.index('(')]\n",
    "    if '\\\\' in i:\n",
    "        a[x] = a[x].replace('\\\\', '') \n",
    "    a[x] = a[x].strip().lower()\n",
    "    x += 1"
   ]
  },
  {
   "cell_type": "code",
   "execution_count": 82,
   "id": "first-wells",
   "metadata": {},
   "outputs": [],
   "source": [
    "b = list(df2['album'])\n",
    "b1 = b.copy()\n",
    "b2 = list(df2['artist'])\n",
    "x = 0\n",
    "for i in b:\n",
    "    i = i.lower()\n",
    "    if ' ep' in i:\n",
    "        if '- ep' in i:\n",
    "            b[x] = i.replace('- ep', ' (ep')\n",
    "        else:\n",
    "            b[x] = i.replace(' ep', ' (ep')\n",
    "    if '  ' in i:\n",
    "        b[x] = b[x].replace('  ', ' ')\n",
    "    if '\\\\' in i:\n",
    "        b[x] = b[x].replace('\\\\', '') \n",
    "    if ',' in i:\n",
    "        b[x] = b[x].replace(',', '')\n",
    "    if '-' in i:\n",
    "        b[x] = b[x].replace('-', '(-')\n",
    "    if '(' in b[x]:\n",
    "        b[x] = b[x][: b[x].index('(')]\n",
    "    b[x] = b[x].strip().lower()\n",
    "    x += 1"
   ]
  },
  {
   "cell_type": "code",
   "execution_count": 83,
   "id": "unusual-riding",
   "metadata": {},
   "outputs": [],
   "source": [
    "c = list(df3['album'])\n",
    "c1 = c.copy()\n",
    "c2 = list(df3['artist'])\n",
    "x = 0\n",
    "for i in c:\n",
    "    i = i.lower()\n",
    "    if ' ep' in i:\n",
    "        if '- ep' in i:\n",
    "            c[x] = i.replace('- ep', ' (ep')\n",
    "        else:\n",
    "            c[x] = i.replace(' ep', ' (ep')\n",
    "    if '  ' in i:\n",
    "        c[x] = c[x].replace('  ', ' ')\n",
    "    if '\\\\' in i:\n",
    "        c[x] = c[x].replace('\\\\', '') \n",
    "    if ',' in i:\n",
    "        c[x] = c[x].replace(',', '')\n",
    "    if '-' in i:\n",
    "        c[x] = c[x].replace('-', '(-')\n",
    "    if '(' in c[x]:\n",
    "        c[x] = c[x][: c[x].index('(')]\n",
    "    c[x] = c[x].strip().lower()\n",
    "    x += 1"
   ]
  },
  {
   "cell_type": "code",
   "execution_count": 84,
   "id": "global-watershed",
   "metadata": {},
   "outputs": [],
   "source": [
    "d = list(df4['album'])\n",
    "d1 = d.copy()\n",
    "x = 0\n",
    "for i in d:\n",
    "    i = i.lower()\n",
    "    if ' ep' in i:\n",
    "        if '- ep' in i:\n",
    "            d[x] = i.replace('- ep', ' (ep')\n",
    "        else:\n",
    "            d[x] = i.replace(' ep', ' (ep')\n",
    "    if '  ' in d[x]:\n",
    "        d[x] = d[x].replace('  ', ' ')\n",
    "    if '\\\\' in i:\n",
    "        d[x] = d[x].replace('\\\\', '') \n",
    "    if ',' in i:\n",
    "        d[x] = d[x].replace(',', '') \n",
    "    if '-' in i:\n",
    "        d[x] = d[x].replace('-', '(-')\n",
    "    if '(' in d[x]:\n",
    "        d[x] = d[x][: d[x].index('(')]\n",
    "    \n",
    "    d[x] = d[x].strip().lower()\n",
    "    x += 1"
   ]
  },
  {
   "cell_type": "code",
   "execution_count": 85,
   "id": "sticky-child",
   "metadata": {},
   "outputs": [],
   "source": [
    "albums = a + b + c + d\n",
    "albums = set(albums)"
   ]
  },
  {
   "cell_type": "code",
   "execution_count": 87,
   "id": "special-western",
   "metadata": {},
   "outputs": [
    {
     "data": {
      "text/plain": [
       "569"
      ]
     },
     "execution_count": 87,
     "metadata": {},
     "output_type": "execute_result"
    }
   ],
   "source": [
    "len(albums)"
   ]
  },
  {
   "cell_type": "code",
   "execution_count": 88,
   "id": "organic-somalia",
   "metadata": {},
   "outputs": [],
   "source": [
    "albums = list(albums)"
   ]
  },
  {
   "cell_type": "code",
   "execution_count": 89,
   "id": "healthy-laser",
   "metadata": {},
   "outputs": [],
   "source": [
    "final = {}"
   ]
  },
  {
   "cell_type": "code",
   "execution_count": 90,
   "id": "descending-tomorrow",
   "metadata": {},
   "outputs": [],
   "source": [
    "x = 0\n",
    "for i in albums:\n",
    "    if i in a:\n",
    "        final[i] = [a.index(i) + 1]\n",
    "    else:\n",
    "        final[i] = [500]"
   ]
  },
  {
   "cell_type": "code",
   "execution_count": 91,
   "id": "accessible-reporter",
   "metadata": {},
   "outputs": [],
   "source": [
    "x = 0\n",
    "for i in albums:\n",
    "    if i in b:\n",
    "        final[i].append(b.index(i) + 1)\n",
    "    else:\n",
    "        final[i].append(510)"
   ]
  },
  {
   "cell_type": "code",
   "execution_count": 92,
   "id": "amateur-powder",
   "metadata": {},
   "outputs": [],
   "source": [
    "x = 0\n",
    "for i in albums:\n",
    "    if i in c:\n",
    "        final[i].append(c.index(i) + 1)\n",
    "    else:\n",
    "        final[i].append(450)"
   ]
  },
  {
   "cell_type": "code",
   "execution_count": 93,
   "id": "little-category",
   "metadata": {},
   "outputs": [],
   "source": [
    "x = 0\n",
    "for i in albums:\n",
    "    if i in d:\n",
    "        final[i].append(d.index(i) + 1)\n",
    "    else:\n",
    "        final[i].append(520)"
   ]
  },
  {
   "cell_type": "code",
   "execution_count": 94,
   "id": "color-posting",
   "metadata": {},
   "outputs": [],
   "source": [
    "x = 0\n",
    "for i in albums:\n",
    "    if i in a:\n",
    "        final[i].append(a2[a.index(i)])\n",
    "    if i in b and len(final[i]) < 6:\n",
    "        final[i].append(b2[b.index(i)])\n",
    "    if i in c and len(final[i]) < 6:\n",
    "        final[i].append(c2[c.index(i)])\n",
    "    x += 1"
   ]
  },
  {
   "cell_type": "code",
   "execution_count": 96,
   "id": "large-provision",
   "metadata": {},
   "outputs": [],
   "source": [
    "x = 0\n",
    "keys = list(final.keys())\n",
    "for k in keys:\n",
    "    if k in a:\n",
    "        keys[x] = a1[a.index(k)]\n",
    "    if k in b:\n",
    "        keys[x] = b1[b.index(k)]\n",
    "    if k in c:\n",
    "        keys[x] = c1[c.index(k)]\n",
    "    x += 1"
   ]
  },
  {
   "cell_type": "code",
   "execution_count": 97,
   "id": "hundred-frontier",
   "metadata": {},
   "outputs": [],
   "source": [
    "i = 0\n",
    "k = list(final.keys())\n",
    "for x in k:\n",
    "    final[keys[i]] = final.pop(x)\n",
    "    i += 1"
   ]
  },
  {
   "cell_type": "code",
   "execution_count": 98,
   "id": "beginning-serve",
   "metadata": {},
   "outputs": [
    {
     "data": {
      "text/plain": [
       "569"
      ]
     },
     "execution_count": 98,
     "metadata": {},
     "output_type": "execute_result"
    }
   ],
   "source": [
    "len(final)"
   ]
  },
  {
   "cell_type": "code",
   "execution_count": 99,
   "id": "substantial-windows",
   "metadata": {},
   "outputs": [],
   "source": [
    "album = list(final.keys())\n",
    "post1 = [x[0] for x in final.values()]\n",
    "post2 = [x[1] for x in final.values()]\n",
    "post3 = [x[2] for x in final.values()]\n",
    "post4 = [x[3] for x in final.values()]\n",
    "post5 = [x[4] if len(x) > 4 else 'NA' for x in final.values()]\n",
    "postT = [(post1[x] + post2[x] + post3[x] + post4[x]/4) for x in range(0, 569)]"
   ]
  },
  {
   "cell_type": "code",
   "execution_count": 100,
   "id": "banner-church",
   "metadata": {},
   "outputs": [],
   "source": [
    "data = {'album':album,'artist':post5,'apple':post1,'audiomark':post2,'deezer':post3, 'boom': post4, 'RT': postT}\n",
    "df = pd.DataFrame(data)"
   ]
  },
  {
   "cell_type": "code",
   "execution_count": 101,
   "id": "executive-wichita",
   "metadata": {},
   "outputs": [],
   "source": [
    "df.sort_values(by=['RT'], inplace=True)"
   ]
  },
  {
   "cell_type": "code",
   "execution_count": 102,
   "id": "private-yellow",
   "metadata": {},
   "outputs": [],
   "source": [
    "df['rank'] = [x for x in range(1,570)]"
   ]
  },
  {
   "cell_type": "code",
   "execution_count": 103,
   "id": "innocent-content",
   "metadata": {},
   "outputs": [],
   "source": [
    "df1 = df[['rank', 'album', 'artist']]\n",
    "df1 = df1[:100]"
   ]
  },
  {
   "cell_type": "code",
   "execution_count": 104,
   "id": "conditional-singing",
   "metadata": {},
   "outputs": [],
   "source": [
    "df1 = df1.set_index('rank')\n",
    "df = df.set_index('rank')"
   ]
  },
  {
   "cell_type": "code",
   "execution_count": 105,
   "id": "impossible-insert",
   "metadata": {},
   "outputs": [],
   "source": [
    "df2 = pd.read_csv(f'week{w-1}-album100.csv')"
   ]
  },
  {
   "cell_type": "code",
   "execution_count": 106,
   "id": "discrete-ownership",
   "metadata": {},
   "outputs": [],
   "source": [
    "a = list(df2['album'])\n",
    "b = list(df1['album'])\n",
    "c = list(df2['weeks on chart'])\n",
    "i = -1\n",
    "prev = []\n",
    "weeks = []\n",
    "for x in b:\n",
    "    i += 1\n",
    "    if x in a:\n",
    "        prev.append(a.index(x) + 1)\n",
    "        weeks.append(c[a.index(x)] + 1)\n",
    "    else:\n",
    "        prev.append(0)\n",
    "        weeks.append(1)\n",
    "df1['Previous week'] = prev\n",
    "df1['weeks on chart'] = weeks"
   ]
  },
  {
   "cell_type": "code",
   "execution_count": 107,
   "id": "known-thompson",
   "metadata": {},
   "outputs": [],
   "source": [
    "df1.to_csv(f'week{w}-album100.csv')\n",
    "df.to_csv(f'week{w}.csv')\n",
    "df1.to_csv('C:\\\\Users\\\\faree\\\\Desktop\\\\music charts\\\\weekly charts\\\\weekly\\\\album100.csv')\n",
    "df1.to_json('C:\\\\Users\\\\faree\\\\Desktop\\\\webboard\\\\docs\\\\album100.json')\n",
    "df1.to_json(f'C:\\\\Users\\\\faree\\\\Desktop\\\\webboard\\\\week{w}\\\\album100.json')"
   ]
  }
 ],
 "metadata": {
  "kernelspec": {
   "display_name": "Python 3",
   "language": "python",
   "name": "python3"
  },
  "language_info": {
   "codemirror_mode": {
    "name": "ipython",
    "version": 3
   },
   "file_extension": ".py",
   "mimetype": "text/x-python",
   "name": "python",
   "nbconvert_exporter": "python",
   "pygments_lexer": "ipython3",
   "version": "3.7.9"
  }
 },
 "nbformat": 4,
 "nbformat_minor": 5
}
