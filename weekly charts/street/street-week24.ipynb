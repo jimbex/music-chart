{
 "cells": [
  {
   "cell_type": "code",
   "execution_count": 92,
   "id": "secret-facing",
   "metadata": {},
   "outputs": [],
   "source": [
    "import pandas as pd\n",
    "from datetime import datetime\n",
    "m = datetime.today().strftime('%B')\n",
    "d = datetime.today().strftime('%d')\n",
    "w = datetime.today().strftime('%V')\n",
    "w = int(w)\n",
    "d = int(d)"
   ]
  },
  {
   "cell_type": "code",
   "execution_count": 93,
   "id": "spanish-julian",
   "metadata": {},
   "outputs": [],
   "source": [
    "df1 = pd.read_csv(f'apple_street-week{w}.csv', encoding= 'utf-8')\n",
    "df2 = pd.read_csv(f'youtube_street-week{w}.csv', encoding= 'utf-8')"
   ]
  },
  {
   "cell_type": "code",
   "execution_count": 94,
   "id": "sapphire-chocolate",
   "metadata": {},
   "outputs": [],
   "source": [
    "df1 = df1[['song', 'artist']]\n",
    "df2 = df2[['song', 'artist']]"
   ]
  },
  {
   "cell_type": "code",
   "execution_count": 95,
   "id": "objective-woman",
   "metadata": {},
   "outputs": [],
   "source": [
    "a = list(df1['song'])\n",
    "a1 = a.copy()\n",
    "a2 = list(df1['artist'])\n",
    "x = 0\n",
    "for i in a:\n",
    "    i = i.lower()\n",
    "    if 'remix' in i:\n",
    "        a[x] = i.replace('remix', '(remix')\n",
    "    if '(' in i:\n",
    "        a[x] = a[x][: a[x].index('(')]\n",
    "    a[x] = a[x].strip().lower()\n",
    "    x += 1"
   ]
  },
  {
   "cell_type": "code",
   "execution_count": 96,
   "id": "first-wells",
   "metadata": {},
   "outputs": [],
   "source": [
    "b = list(df2['song'])\n",
    "b1 = b.copy()\n",
    "b2 = list(df2['artist'])\n",
    "x = 0\n",
    "for i in b:\n",
    "    if '(' not in i:\n",
    "        b[x] = i[:i.index('-')]\n",
    "    if '(' in i:\n",
    "        if i.index('(') < i.index('-'):\n",
    "              b[x] = b[x][:i.index('-')]\n",
    "        else: \n",
    "            b[x] = b[x][i.index('-') + 1:]\n",
    "    if 'Remix' in i:\n",
    "        b[x] = b[x].replace('Remix', '(Remix')\n",
    "    if '[' in i:\n",
    "        b[x] = b[x].replace('[', '(')\n",
    "    if '(' in b[x]:\n",
    "        b[x] = b[x][: b[x].index('(')]\n",
    "    b[x] = b[x].strip().lower()\n",
    "    x += 1"
   ]
  },
  {
   "cell_type": "code",
   "execution_count": 97,
   "id": "sticky-child",
   "metadata": {},
   "outputs": [],
   "source": [
    "songs = a + b\n",
    "songs = set(songs)"
   ]
  },
  {
   "cell_type": "code",
   "execution_count": 99,
   "id": "organic-somalia",
   "metadata": {},
   "outputs": [],
   "source": [
    "songs = list(songs)"
   ]
  },
  {
   "cell_type": "code",
   "execution_count": 100,
   "id": "healthy-laser",
   "metadata": {},
   "outputs": [],
   "source": [
    "final = {}"
   ]
  },
  {
   "cell_type": "code",
   "execution_count": 101,
   "id": "descending-tomorrow",
   "metadata": {},
   "outputs": [],
   "source": [
    "x = 0\n",
    "for i in songs:\n",
    "    if i in a:\n",
    "        final[i] = [a.index(i) + 1]\n",
    "    else:\n",
    "        final[i] = [250]"
   ]
  },
  {
   "cell_type": "code",
   "execution_count": 102,
   "id": "accessible-reporter",
   "metadata": {},
   "outputs": [],
   "source": [
    "x = 0\n",
    "for i in songs:\n",
    "    if i in b:\n",
    "        final[i].append(b.index(i) + 1)\n",
    "    else:\n",
    "        final[i].append(200)"
   ]
  },
  {
   "cell_type": "code",
   "execution_count": 103,
   "id": "color-posting",
   "metadata": {},
   "outputs": [],
   "source": [
    "x = 0\n",
    "for i in songs:\n",
    "    if i in a:\n",
    "        final[i].append(a2[a.index(i)])\n",
    "    if i in b and len(final[i]) < 3:\n",
    "        final[i].append(b2[b.index(i)])\n",
    "    x += 1"
   ]
  },
  {
   "cell_type": "code",
   "execution_count": 105,
   "id": "large-provision",
   "metadata": {},
   "outputs": [],
   "source": [
    "x = 0\n",
    "keys = list(final.keys())\n",
    "for k in keys:\n",
    "    if k in a:\n",
    "        keys[x] = a1[a.index(k)]\n",
    "    elif k not in a:\n",
    "        keys[x] = b1[b.index(k)]\n",
    "    x += 1"
   ]
  },
  {
   "cell_type": "code",
   "execution_count": 111,
   "id": "hundred-frontier",
   "metadata": {},
   "outputs": [],
   "source": [
    "i = 0\n",
    "k = list(final.keys())\n",
    "for x in k:\n",
    "    final[keys[i]] = final.pop(x)\n",
    "    i += 1"
   ]
  },
  {
   "cell_type": "code",
   "execution_count": 114,
   "id": "substantial-windows",
   "metadata": {},
   "outputs": [],
   "source": [
    "song = list(final.keys())\n",
    "post1 = [x[0] for x in final.values()]\n",
    "post2 = [x[1] for x in final.values()]\n",
    "post3 = [x[2] for x in final.values()]\n",
    "postT = [(post1[x] + post2[x]/2) for x in range(0, 113)]"
   ]
  },
  {
   "cell_type": "code",
   "execution_count": 115,
   "id": "banner-church",
   "metadata": {},
   "outputs": [],
   "source": [
    "data = {'song':song,'artist':post3,'apple':post1,'youtube':post2,'RT': postT}\n",
    "df = pd.DataFrame(data)"
   ]
  },
  {
   "cell_type": "code",
   "execution_count": 116,
   "id": "executive-wichita",
   "metadata": {},
   "outputs": [],
   "source": [
    "df.sort_values(by=['RT'], inplace=True)"
   ]
  },
  {
   "cell_type": "code",
   "execution_count": 117,
   "id": "private-yellow",
   "metadata": {},
   "outputs": [],
   "source": [
    "df['rank'] = [x for x in range(1,114)]"
   ]
  },
  {
   "cell_type": "code",
   "execution_count": 118,
   "id": "innocent-content",
   "metadata": {},
   "outputs": [],
   "source": [
    "df1 = df[['rank', 'song', 'artist']]\n",
    "df1 = df1[:50]"
   ]
  },
  {
   "cell_type": "code",
   "execution_count": 119,
   "id": "conditional-singing",
   "metadata": {},
   "outputs": [],
   "source": [
    "df1 = df1.set_index('rank')\n",
    "df = df.set_index('rank')"
   ]
  },
  {
   "cell_type": "code",
   "execution_count": 120,
   "id": "comic-harvest",
   "metadata": {},
   "outputs": [],
   "source": [
    "df2 = pd.read_csv(f'street_week{w-1}-50.csv')"
   ]
  },
  {
   "cell_type": "code",
   "execution_count": 121,
   "id": "adjacent-offense",
   "metadata": {},
   "outputs": [],
   "source": [
    "a = list(df2['song'])\n",
    "a1 = a.copy()\n",
    "x = 0\n",
    "for i in a:\n",
    "    if 'ft' in i:\n",
    "        a[x] = i.replace('ft', '(ft') + ')'\n",
    "    x += 1\n",
    "x = 0\n",
    "for i in a:\n",
    "    if '(' in i:\n",
    "        a[x] = i[: i.index('(')]\n",
    "    a[x] = a[x].strip().lower()\n",
    "    x += 1"
   ]
  },
  {
   "cell_type": "code",
   "execution_count": 122,
   "id": "generic-makeup",
   "metadata": {},
   "outputs": [],
   "source": [
    "b = list(df1['song'])\n",
    "b1 = b.copy()\n",
    "x = 0\n",
    "for i in b:\n",
    "    if 'ft' in i:\n",
    "        b[x] = i.replace('ft', '(ft') + ')'\n",
    "    x += 1\n",
    "x = 0\n",
    "for i in b:\n",
    "    if '(' in i:\n",
    "        b[x] = i[: i.index('(')]\n",
    "    b[x] = b[x].strip().lower()\n",
    "    x += 1"
   ]
  },
  {
   "cell_type": "code",
   "execution_count": 123,
   "id": "gentle-rwanda",
   "metadata": {},
   "outputs": [],
   "source": [
    "song = []\n",
    "for x in b:\n",
    "    if x in a:\n",
    "        song.append(a1[a.index(x)])\n",
    "    else:\n",
    "        song.append(b1[b.index(x)])"
   ]
  },
  {
   "cell_type": "code",
   "execution_count": 124,
   "id": "prepared-honolulu",
   "metadata": {},
   "outputs": [],
   "source": [
    "df1['song'] = song"
   ]
  },
  {
   "cell_type": "code",
   "execution_count": 125,
   "id": "administrative-holly",
   "metadata": {},
   "outputs": [],
   "source": [
    "a = list(df2['song'])\n",
    "b = list(df1['song'])\n",
    "c = list(df2['weeks on chart'])\n",
    "i = 0\n",
    "prev = []\n",
    "weeks = []\n",
    "for x in b:\n",
    "    if x in a:\n",
    "        prev.append(a.index(x) + 1)\n",
    "        weeks.append(c[i] + 1)\n",
    "    else:\n",
    "        prev.append('-')\n",
    "        weeks.append(1)\n",
    "    i += 1\n",
    "df1['Previous week'] = prev\n",
    "df1['weeks on chart'] = weeks"
   ]
  },
  {
   "cell_type": "code",
   "execution_count": 126,
   "id": "integral-deposit",
   "metadata": {},
   "outputs": [],
   "source": [
    "df1.to_csv(f'street_week{w}-50.csv')\n",
    "df.to_csv(f'street_week{w}.csv')\n",
    "df1.to_csv('C:\\\\Users\\\\faree\\\\Desktop\\\\music charts\\\\weekly charts\\\\weekly\\\\street50.csv')\n",
    "df1.to_json('C:\\\\Users\\\\faree\\\\Desktop\\\\webboard\\\\docs\\\\street50.json')\n",
    "df1.to_json(f'C:\\\\Users\\\\faree\\\\Desktop\\\\webboard\\\\week{w}\\\\street50.json')"
   ]
  }
 ],
 "metadata": {
  "kernelspec": {
   "display_name": "Python 3",
   "language": "python",
   "name": "python3"
  },
  "language_info": {
   "codemirror_mode": {
    "name": "ipython",
    "version": 3
   },
   "file_extension": ".py",
   "mimetype": "text/x-python",
   "name": "python",
   "nbconvert_exporter": "python",
   "pygments_lexer": "ipython3",
   "version": "3.7.9"
  }
 },
 "nbformat": 4,
 "nbformat_minor": 5
}
