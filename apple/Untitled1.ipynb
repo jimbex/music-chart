{
 "cells": [
  {
   "cell_type": "code",
   "execution_count": 12,
   "id": "threaded-withdrawal",
   "metadata": {},
   "outputs": [],
   "source": [
    "import pandas as pd\n",
    "df1  = pd.read_csv('may20.csv')\n",
    "df2  = pd.read_csv('may21.csv')\n",
    "df3  = pd.read_csv('may22.csv')"
   ]
  },
  {
   "cell_type": "code",
   "execution_count": 15,
   "id": "charming-conversation",
   "metadata": {},
   "outputs": [],
   "source": [
    "df1 = df1[['song', 'artist', 'album']]\n",
    "df2 = df2[['song', 'artist', 'album']]\n",
    "df3 = df3[['song', 'artist', 'album']]"
   ]
  },
  {
   "cell_type": "code",
   "execution_count": 55,
   "id": "spiritual-kentucky",
   "metadata": {},
   "outputs": [],
   "source": [
    "df1['Position'] = [x for x in range(1,101)]\n",
    "df2['Position'] = [x for x in range(1,101)]\n",
    "df3['Position'] = [x for x in range(1,101)]"
   ]
  },
  {
   "cell_type": "code",
   "execution_count": 18,
   "id": "universal-killing",
   "metadata": {},
   "outputs": [],
   "source": [
    "df1 = df1.set_index('Position')\n",
    "df2 = df2.set_index('Position')\n",
    "df3 = df3.set_index('Position')"
   ]
  },
  {
   "cell_type": "code",
   "execution_count": 26,
   "id": "canadian-auckland",
   "metadata": {},
   "outputs": [],
   "source": [
    "df = []\n",
    "df.extend(df1['song'])\n",
    "df.extend(df2['song'])\n",
    "df.extend(df3['song'])"
   ]
  },
  {
   "cell_type": "code",
   "execution_count": 51,
   "id": "elder-andrews",
   "metadata": {},
   "outputs": [],
   "source": [
    "df1.to_csv('may20.csv')\n",
    "df2.to_csv('may21.csv')\n",
    "df3.to_csv('may22.csv')"
   ]
  },
  {
   "cell_type": "code",
   "execution_count": 54,
   "id": "entire-camcorder",
   "metadata": {},
   "outputs": [
    {
     "data": {
      "text/html": [
       "<div>\n",
       "<style scoped>\n",
       "    .dataframe tbody tr th:only-of-type {\n",
       "        vertical-align: middle;\n",
       "    }\n",
       "\n",
       "    .dataframe tbody tr th {\n",
       "        vertical-align: top;\n",
       "    }\n",
       "\n",
       "    .dataframe thead th {\n",
       "        text-align: right;\n",
       "    }\n",
       "</style>\n",
       "<table border=\"1\" class=\"dataframe\">\n",
       "  <thead>\n",
       "    <tr style=\"text-align: right;\">\n",
       "      <th></th>\n",
       "      <th>song</th>\n",
       "      <th>artist</th>\n",
       "      <th>album</th>\n",
       "    </tr>\n",
       "    <tr>\n",
       "      <th>Position</th>\n",
       "      <th></th>\n",
       "      <th></th>\n",
       "      <th></th>\n",
       "    </tr>\n",
       "  </thead>\n",
       "  <tbody>\n",
       "    <tr>\n",
       "      <th>1</th>\n",
       "      <td>Feeling</td>\n",
       "      <td>LADIPOE, Buju</td>\n",
       "      <td>Feeling - Single</td>\n",
       "    </tr>\n",
       "    <tr>\n",
       "      <th>2</th>\n",
       "      <td>Rock</td>\n",
       "      <td>Olamide</td>\n",
       "      <td>UY Scuti</td>\n",
       "    </tr>\n",
       "    <tr>\n",
       "      <th>3</th>\n",
       "      <td>Bounce</td>\n",
       "      <td>Ruger</td>\n",
       "      <td>PANDEMIC - EP</td>\n",
       "    </tr>\n",
       "    <tr>\n",
       "      <th>4</th>\n",
       "      <td>Body (Remix) [feat. ArrDee, E1 (3x3), ZT (3x3)...</td>\n",
       "      <td>Tion Wayne, Russ Millions</td>\n",
       "      <td>Body (Remix) [feat. ArrDee, E1 (3x3), ZT (3x3)...</td>\n",
       "    </tr>\n",
       "    <tr>\n",
       "      <th>5</th>\n",
       "      <td>Bling (feat. Amaarae &amp; Buju)</td>\n",
       "      <td>Blaqbonez</td>\n",
       "      <td>Sex Over Love</td>\n",
       "    </tr>\n",
       "    <tr>\n",
       "      <th>6</th>\n",
       "      <td>Outside</td>\n",
       "      <td>Buju</td>\n",
       "      <td>Outside - Single</td>\n",
       "    </tr>\n",
       "    <tr>\n",
       "      <th>7</th>\n",
       "      <td>Dimension (feat. Skepta &amp; Rema)</td>\n",
       "      <td>JAE5</td>\n",
       "      <td>Dimension (feat. Skepta &amp; Rema) - Single</td>\n",
       "    </tr>\n",
       "    <tr>\n",
       "      <th>8</th>\n",
       "      <td>Coming</td>\n",
       "      <td>Naira Marley, Busiswa</td>\n",
       "      <td>Coming - Single</td>\n",
       "    </tr>\n",
       "    <tr>\n",
       "      <th>9</th>\n",
       "      <td>Kilometre</td>\n",
       "      <td>Burna Boy</td>\n",
       "      <td>Kilometre - Single</td>\n",
       "    </tr>\n",
       "    <tr>\n",
       "      <th>10</th>\n",
       "      <td>m y . l i f e</td>\n",
       "      <td>J. Cole, 21 Savage, Morray</td>\n",
       "      <td>The Off-Season</td>\n",
       "    </tr>\n",
       "  </tbody>\n",
       "</table>\n",
       "</div>"
      ],
      "text/plain": [
       "                                                       song  \\\n",
       "Position                                                      \n",
       "1                                                   Feeling   \n",
       "2                                                      Rock   \n",
       "3                                                    Bounce   \n",
       "4         Body (Remix) [feat. ArrDee, E1 (3x3), ZT (3x3)...   \n",
       "5                              Bling (feat. Amaarae & Buju)   \n",
       "6                                                   Outside   \n",
       "7                           Dimension (feat. Skepta & Rema)   \n",
       "8                                                    Coming   \n",
       "9                                                 Kilometre   \n",
       "10                                            m y . l i f e   \n",
       "\n",
       "                              artist  \\\n",
       "Position                               \n",
       "1                      LADIPOE, Buju   \n",
       "2                            Olamide   \n",
       "3                              Ruger   \n",
       "4          Tion Wayne, Russ Millions   \n",
       "5                          Blaqbonez   \n",
       "6                               Buju   \n",
       "7                               JAE5   \n",
       "8              Naira Marley, Busiswa   \n",
       "9                          Burna Boy   \n",
       "10        J. Cole, 21 Savage, Morray   \n",
       "\n",
       "                                                      album  \n",
       "Position                                                     \n",
       "1                                          Feeling - Single  \n",
       "2                                                  UY Scuti  \n",
       "3                                             PANDEMIC - EP  \n",
       "4         Body (Remix) [feat. ArrDee, E1 (3x3), ZT (3x3)...  \n",
       "5                                             Sex Over Love  \n",
       "6                                          Outside - Single  \n",
       "7                  Dimension (feat. Skepta & Rema) - Single  \n",
       "8                                           Coming - Single  \n",
       "9                                        Kilometre - Single  \n",
       "10                                           The Off-Season  "
      ]
     },
     "execution_count": 54,
     "metadata": {},
     "output_type": "execute_result"
    }
   ],
   "source": [
    "df2.head(10)"
   ]
  }
 ],
 "metadata": {
  "kernelspec": {
   "display_name": "Python 3",
   "language": "python",
   "name": "python3"
  },
  "language_info": {
   "codemirror_mode": {
    "name": "ipython",
    "version": 3
   },
   "file_extension": ".py",
   "mimetype": "text/x-python",
   "name": "python",
   "nbconvert_exporter": "python",
   "pygments_lexer": "ipython3",
   "version": "3.9.2"
  }
 },
 "nbformat": 4,
 "nbformat_minor": 5
}
