{
 "cells": [
  {
   "cell_type": "code",
   "execution_count": 2,
   "id": "induced-hours",
   "metadata": {},
   "outputs": [],
   "source": [
    "import pandas as pd\n",
    "from datetime import datetime\n",
    "m = datetime.today().strftime('%B')\n",
    "d = datetime.today().strftime('%d')\n",
    "w = datetime.today().strftime('%V')\n",
    "d = int(d)\n",
    "\n",
    "songs = []\n",
    "artist = []\n",
    "import urllib.request\n",
    "from bs4 import BeautifulSoup as bs\n",
    "\n",
    "html = str(urllib.request.urlopen('https://music.apple.com/ng/playlist/top-100-nigeria/pl.2fc68f6d68004ae993dadfe99de83877').read())\n",
    "soup = bs(html, 'html.parser')\n",
    "mydivs = soup.find_all(\"div\", {\"class\": \"songs-list-row__song-name\"})\n",
    "mydiv = soup.find_all(\"div\", {\"class\": \"songs-list__col songs-list__col--artist typography-body\"})\n",
    "for x in mydivs:\n",
    "    songs.append(x.text)\n",
    "for x in mydiv:\n",
    "    artist.append(x.text)\n",
    "i = 0\n",
    "while i < len(artist):\n",
    "    artist[i] = artist[i].replace('\\\\n', '')\n",
    "    artist[i] = artist[i].replace('\\\\', '')\n",
    "    songs[i] = songs[i].replace('\\\\', '')\n",
    "    i += 1\n",
    "i = 0\n",
    "while i < len(artist):\n",
    "    artist[i] = artist[i].strip()\n",
    "    i += 1\n",
    "data = {'Position': [x for x in range(1,len(songs) + 1)], 'song': songs, 'artist': artist}\n",
    "df = pd.DataFrame(data)\n",
    "df = df.set_index('Position')\n",
    "df.to_csv(f'C:\\\\Users\\\\faree\\\\Desktop\\\\music charts\\\\apple\\\\{m}{d}.csv')"
   ]
  },
  {
   "cell_type": "code",
   "execution_count": 1,
   "id": "satisfactory-arthritis",
   "metadata": {},
   "outputs": [],
   "source": [
    "import pandas as pd\n",
    "from datetime import datetime\n",
    "m = datetime.today().strftime('%B')\n",
    "d = datetime.today().strftime('%d')\n",
    "w = datetime.today().strftime('%V')\n",
    "d = int(d)"
   ]
  },
  {
   "cell_type": "code",
   "execution_count": 2,
   "id": "buried-exhibit",
   "metadata": {},
   "outputs": [],
   "source": [
    "with open(f'C:\\\\Users\\\\faree\\\\Desktop\\\\music charts\\\\apple\\\\album-{m}{d}.txt', encoding = 'utf-8') as file:\n",
    "    read = file.read()"
   ]
  },
  {
   "cell_type": "code",
   "execution_count": 3,
   "id": "piano-folder",
   "metadata": {},
   "outputs": [],
   "source": [
    "artist= []\n",
    "album =[]\n",
    "import urllib.request\n",
    "from bs4 import BeautifulSoup as bs\n",
    "\n",
    "html = str(urllib.request.urlopen('https://music.apple.com/ng/browse/top-charts/albums').read())\n",
    "soup = bs(html, 'html.parser')\n",
    "mydivs = soup.find_all(\"a\", {'class': 'line lockup__name has-adjacent-link'})\n",
    "mydiv = soup.find_all(\"a\", {'class': 'dt-link-to line2 linkable'})\n",
    "for x in mydivs:\n",
    "    album.append(x.text)\n",
    "for x in mydiv:\n",
    "    artist.append(x.text)\n"
   ]
  },
  {
   "cell_type": "code",
   "execution_count": 4,
   "id": "cosmetic-bronze",
   "metadata": {},
   "outputs": [
    {
     "data": {
      "text/plain": [
       "150"
      ]
     },
     "execution_count": 4,
     "metadata": {},
     "output_type": "execute_result"
    }
   ],
   "source": [
    "soup = bs(read, 'html.parser')\n",
    "mydivs = soup.find_all(\"a\", {'class': 'line lockup__name'})\n",
    "mydiv = soup.find_all(\"div\", {'class': 'line2'})\n",
    "for x in mydiv:\n",
    "    artist.append(x.text)\n",
    "for x in mydivs:\n",
    "    album.append(x.text)\n",
    "len(mydivs)"
   ]
  },
  {
   "cell_type": "code",
   "execution_count": 5,
   "id": "broad-saying",
   "metadata": {},
   "outputs": [],
   "source": [
    "i = 0\n",
    "while i < len(artist):\n",
    "    artist[i] = artist[i].replace('\\\\n', '')\n",
    "    album[i] = album[i].replace('\\\\n', '')\n",
    "    artist[i] = artist[i].strip()\n",
    "    album[i] = album[i].strip()\n",
    "    i += 1"
   ]
  },
  {
   "cell_type": "code",
   "execution_count": 6,
   "id": "awful-landing",
   "metadata": {},
   "outputs": [],
   "source": [
    "data = {'Position': [x for x in range(1,len(album) + 1)], 'artist': artist, 'album': album}"
   ]
  },
  {
   "cell_type": "code",
   "execution_count": 7,
   "id": "incorporated-stock",
   "metadata": {},
   "outputs": [],
   "source": [
    "import pandas as pd\n",
    "df = pd.DataFrame(data)\n",
    "df = df.set_index('Position')"
   ]
  },
  {
   "cell_type": "code",
   "execution_count": 8,
   "id": "medium-tutorial",
   "metadata": {},
   "outputs": [],
   "source": [
    "df.to_csv(f'C:\\\\Users\\\\faree\\\\Desktop\\\\music charts\\\\apple\\\\album_{m}{d}.csv')"
   ]
  },
  {
   "cell_type": "code",
   "execution_count": null,
   "id": "unlimited-designation",
   "metadata": {},
   "outputs": [],
   "source": []
  }
 ],
 "metadata": {
  "kernelspec": {
   "display_name": "Python 3",
   "language": "python",
   "name": "python3"
  },
  "language_info": {
   "codemirror_mode": {
    "name": "ipython",
    "version": 3
   },
   "file_extension": ".py",
   "mimetype": "text/x-python",
   "name": "python",
   "nbconvert_exporter": "python",
   "pygments_lexer": "ipython3",
   "version": "3.9.2"
  }
 },
 "nbformat": 4,
 "nbformat_minor": 5
}
