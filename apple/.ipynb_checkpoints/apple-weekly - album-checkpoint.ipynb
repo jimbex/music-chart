{
 "cells": [
  {
   "cell_type": "code",
   "execution_count": 1,
   "id": "flying-growing",
   "metadata": {},
   "outputs": [],
   "source": [
    "from datetime import datetime\n",
    "m = datetime.today().strftime('%B')\n",
    "d = datetime.today().strftime('%d')\n",
    "d = int(d)\n",
    "w = datetime.today().strftime(\"%V\")"
   ]
  },
  {
   "cell_type": "code",
   "execution_count": 3,
   "id": "super-anime",
   "metadata": {},
   "outputs": [],
   "source": [
    "import pandas as pd\n",
    "df1 = pd.read_csv(f'C:\\\\Users\\\\faree\\\\Desktop\\\\music charts\\\\apple\\\\album_{m}{d - 6}.csv')\n",
    "df2 = pd.read_csv(f'C:\\\\Users\\\\faree\\\\Desktop\\\\music charts\\\\apple\\\\album_{m}{d - 5}.csv')\n",
    "df3 = pd.read_csv(f'C:\\\\Users\\\\faree\\\\Desktop\\\\music charts\\\\apple\\\\album_{m}{d - 4}.csv')\n",
    "df4 = pd.read_csv(f'C:\\\\Users\\\\faree\\\\Desktop\\\\music charts\\\\apple\\\\album_{m}{d - 3}.csv')\n",
    "df5 = pd.read_csv(f'C:\\\\Users\\\\faree\\\\Desktop\\\\music charts\\\\apple\\\\album_{m}{d - 2}.csv')\n",
    "df6 = pd.read_csv(f'C:\\\\Users\\\\faree\\\\Desktop\\\\music charts\\\\apple\\\\album_{m}{d - 1}.csv')\n",
    "df7 = pd.read_csv(f'C:\\\\Users\\\\faree\\\\Desktop\\\\music charts\\\\apple\\\\album_{m}{d}.csv')"
   ]
  },
  {
   "cell_type": "code",
   "execution_count": 4,
   "id": "final-hundred",
   "metadata": {},
   "outputs": [],
   "source": [
    "df1 = df1[['album', 'artist']]\n",
    "df2 = df2[['album', 'artist']]\n",
    "df3 = df3[['album', 'artist']]\n",
    "df4 = df4[['album', 'artist']]\n",
    "df5 = df5[['album', 'artist']]\n",
    "df6 = df6[['album', 'artist']]\n",
    "df7 = df7[['album', 'artist']]"
   ]
  },
  {
   "cell_type": "code",
   "execution_count": 5,
   "id": "applied-nashville",
   "metadata": {},
   "outputs": [],
   "source": [
    "df7['position'] = [x for x in range(1,len(df7['album']) + 1)]\n",
    "df6['position'] = [x for x in range(1,len(df6['album']) + 1)]\n",
    "df5['position'] = [x for x in range(1,len(df5['album']) + 1)]\n",
    "df4['position'] = [x for x in range(1,len(df4['album']) + 1)]\n",
    "df3['position'] = [x for x in range(1,len(df3['album']) + 1)]\n",
    "df2['position'] = [x for x in range(1,len(df2['album']) + 1)]\n",
    "df1['position'] = [x for x in range(1,len(df1['album']) + 1)]"
   ]
  },
  {
   "cell_type": "code",
   "execution_count": 6,
   "id": "opponent-cleaner",
   "metadata": {},
   "outputs": [],
   "source": [
    "df7['title'] = [df7['album'][x] + ' - ' + df7['artist'][x] for x in range(0,len(df7['album']))]\n",
    "df6['title'] = [df6['album'][x] + ' - ' + df6['artist'][x] for x in range(0,len(df6['album']))]\n",
    "df5['title'] = [df5['album'][x] + ' - ' + df5['artist'][x] for x in range(0,len(df5['album']))]\n",
    "df4['title'] = [df4['album'][x] + ' - ' + df4['artist'][x] for x in range(0,len(df4['album']))]\n",
    "df3['title'] = [df3['album'][x] + ' - ' + df3['artist'][x] for x in range(0,len(df3['album']))]\n",
    "df2['title'] = [df2['album'][x] + ' - ' + df2['artist'][x] for x in range(0,len(df2['album']))]\n",
    "df1['title'] = [df1['album'][x] + ' - ' + df1['artist'][x] for x in range(0,len(df1['album']))]"
   ]
  },
  {
   "cell_type": "code",
   "execution_count": 7,
   "id": "related-radio",
   "metadata": {},
   "outputs": [],
   "source": [
    "albums = list(df1['title']) + list(df2['title']) + list(df3['title']) + list(df4['title']) + list(df5['title']) + list(df6['title']) + list(df7['title'])\n",
    "albums = set(albums)\n",
    "final = {}"
   ]
  },
  {
   "cell_type": "code",
   "execution_count": 8,
   "id": "abandoned-applicant",
   "metadata": {},
   "outputs": [],
   "source": [
    "album = list(df1['title'])\n",
    "for x in albums:\n",
    "    if x in album:\n",
    "        final[x] = list(df1['position'][df1['title'] == x])\n",
    "    else:\n",
    "        final[x] = [401]"
   ]
  },
  {
   "cell_type": "code",
   "execution_count": 9,
   "id": "unlike-microwave",
   "metadata": {},
   "outputs": [],
   "source": [
    "album1 = list(df2['title'])\n",
    "for x in albums:\n",
    "    if x in album1:\n",
    "        final[x].append(int(album1.index(x) + 1))\n",
    "    else:\n",
    "        final[x].append(401)"
   ]
  },
  {
   "cell_type": "code",
   "execution_count": 10,
   "id": "major-conditioning",
   "metadata": {},
   "outputs": [],
   "source": [
    "artist1 = list(df1['artist'])\n",
    "artist2 = list(df2['artist'])\n",
    "artist3 = list(df3['artist'])\n",
    "artist4 = list(df4['artist'])\n",
    "artist5 = list(df5['artist'])\n",
    "artist6 = list(df6['artist'])\n",
    "artist7 = list(df7['artist'])"
   ]
  },
  {
   "cell_type": "code",
   "execution_count": 12,
   "id": "median-contemporary",
   "metadata": {},
   "outputs": [],
   "source": [
    "album2 = list(df3['title'])\n",
    "for x in albums:\n",
    "    if x in album2:\n",
    "        final[x].append(int(album2.index(x) + 1))\n",
    "    else:\n",
    "        final[x].append(401)"
   ]
  },
  {
   "cell_type": "code",
   "execution_count": 13,
   "id": "joined-regard",
   "metadata": {},
   "outputs": [],
   "source": [
    "album3 = list(df4['title'])\n",
    "for x in albums:\n",
    "    if x in album3:\n",
    "        final[x].append(int(album3.index(x) + 1))\n",
    "    else:\n",
    "        final[x].append(401)"
   ]
  },
  {
   "cell_type": "code",
   "execution_count": 14,
   "id": "organic-bosnia",
   "metadata": {},
   "outputs": [],
   "source": [
    "album4 = list(df5['title'])\n",
    "for x in albums:\n",
    "    if x in album4:\n",
    "        final[x].append(int(album4.index(x) + 1))\n",
    "    else:\n",
    "        final[x].append(401)"
   ]
  },
  {
   "cell_type": "code",
   "execution_count": 15,
   "id": "dangerous-chick",
   "metadata": {},
   "outputs": [],
   "source": [
    "album5 = list(df6['title'])\n",
    "for x in albums:\n",
    "    if x in album5:\n",
    "        final[x].append(int(album5.index(x) + 1))\n",
    "    else:\n",
    "        final[x].append(401)"
   ]
  },
  {
   "cell_type": "code",
   "execution_count": 16,
   "id": "fitting-squad",
   "metadata": {},
   "outputs": [],
   "source": [
    "album6 = list(df7['title'])\n",
    "for x in albums:\n",
    "    if x in album6:\n",
    "        final[x].append(int(album6.index(x) + 1))\n",
    "    else:\n",
    "        final[x].append(401)"
   ]
  },
  {
   "cell_type": "code",
   "execution_count": 17,
   "id": "expected-scholar",
   "metadata": {},
   "outputs": [
    {
     "data": {
      "text/plain": [
       "356"
      ]
     },
     "execution_count": 17,
     "metadata": {},
     "output_type": "execute_result"
    }
   ],
   "source": [
    "len(final)"
   ]
  },
  {
   "cell_type": "code",
   "execution_count": 18,
   "id": "chicken-balloon",
   "metadata": {},
   "outputs": [],
   "source": [
    "albums = [x[:x.index('-') - 1] for x in final.keys()]\n",
    "artists = [x[x.index('-') + 2:] for x in final.keys()]\n",
    "post1 = [x[0] for x in final.values()]\n",
    "post2 = [x[1] for x in final.values()]\n",
    "post3 = [x[2] for x in final.values()]\n",
    "post4 = [x[3] for x in final.values()]\n",
    "post5 = [x[4] for x in final.values()]\n",
    "post6 = [x[5] for x in final.values()]\n",
    "post7 = [x[6] for x in final.values()]\n",
    "postT = [(post1[x] + post2[x] + post3[x] + post4[x] + post5[x] + post6[x] + post7[x] )/7 for x in range(0, len(final))]"
   ]
  },
  {
   "cell_type": "code",
   "execution_count": 19,
   "id": "excess-technology",
   "metadata": {},
   "outputs": [
    {
     "data": {
      "text/plain": [
       "356"
      ]
     },
     "execution_count": 19,
     "metadata": {},
     "output_type": "execute_result"
    }
   ],
   "source": [
    "len(artists)"
   ]
  },
  {
   "cell_type": "code",
   "execution_count": 20,
   "id": "mental-texture",
   "metadata": {},
   "outputs": [],
   "source": [
    "data = {'album':albums,'artist':artists,'R1':post1,'R2':post2,'R3':post3,'R4':post4,'R5':post5,'R6':post6,'R7':post7,'RT': postT}\n",
    "df = pd.DataFrame(data)"
   ]
  },
  {
   "cell_type": "code",
   "execution_count": 21,
   "id": "excellent-companion",
   "metadata": {},
   "outputs": [],
   "source": [
    "df.sort_values(by=['RT'], inplace=True)"
   ]
  },
  {
   "cell_type": "code",
   "execution_count": 22,
   "id": "detected-privacy",
   "metadata": {},
   "outputs": [],
   "source": [
    "df['rank'] = [x for x in range(1,len(final) + 1)]\n",
    "df = df.set_index('rank')"
   ]
  },
  {
   "cell_type": "code",
   "execution_count": 23,
   "id": "pursuant-geology",
   "metadata": {},
   "outputs": [
    {
     "data": {
      "text/html": [
       "<div>\n",
       "<style scoped>\n",
       "    .dataframe tbody tr th:only-of-type {\n",
       "        vertical-align: middle;\n",
       "    }\n",
       "\n",
       "    .dataframe tbody tr th {\n",
       "        vertical-align: top;\n",
       "    }\n",
       "\n",
       "    .dataframe thead th {\n",
       "        text-align: right;\n",
       "    }\n",
       "</style>\n",
       "<table border=\"1\" class=\"dataframe\">\n",
       "  <thead>\n",
       "    <tr style=\"text-align: right;\">\n",
       "      <th></th>\n",
       "      <th>album</th>\n",
       "      <th>artist</th>\n",
       "      <th>R1</th>\n",
       "      <th>R2</th>\n",
       "      <th>R3</th>\n",
       "      <th>R4</th>\n",
       "      <th>R5</th>\n",
       "      <th>R6</th>\n",
       "      <th>R7</th>\n",
       "      <th>RT</th>\n",
       "    </tr>\n",
       "    <tr>\n",
       "      <th>rank</th>\n",
       "      <th></th>\n",
       "      <th></th>\n",
       "      <th></th>\n",
       "      <th></th>\n",
       "      <th></th>\n",
       "      <th></th>\n",
       "      <th></th>\n",
       "      <th></th>\n",
       "      <th></th>\n",
       "      <th></th>\n",
       "    </tr>\n",
       "  </thead>\n",
       "  <tbody>\n",
       "    <tr>\n",
       "      <th>1</th>\n",
       "      <td>High Tension 2.0</td>\n",
       "      <td>Dangbana Republik &amp; Bella Shmurda</td>\n",
       "      <td>1</td>\n",
       "      <td>1</td>\n",
       "      <td>1</td>\n",
       "      <td>1</td>\n",
       "      <td>1</td>\n",
       "      <td>2</td>\n",
       "      <td>2</td>\n",
       "      <td>1.285714</td>\n",
       "    </tr>\n",
       "    <tr>\n",
       "      <th>2</th>\n",
       "      <td>LV N ATTN</td>\n",
       "      <td>EP - Lojay &amp; Sarz</td>\n",
       "      <td>2</td>\n",
       "      <td>2</td>\n",
       "      <td>2</td>\n",
       "      <td>2</td>\n",
       "      <td>2</td>\n",
       "      <td>4</td>\n",
       "      <td>3</td>\n",
       "      <td>2.428571</td>\n",
       "    </tr>\n",
       "    <tr>\n",
       "      <th>3</th>\n",
       "      <td>Made In Lagos</td>\n",
       "      <td>Wizkid</td>\n",
       "      <td>5</td>\n",
       "      <td>5</td>\n",
       "      <td>3</td>\n",
       "      <td>3</td>\n",
       "      <td>4</td>\n",
       "      <td>3</td>\n",
       "      <td>4</td>\n",
       "      <td>3.857143</td>\n",
       "    </tr>\n",
       "    <tr>\n",
       "      <th>4</th>\n",
       "      <td>UY Scuti</td>\n",
       "      <td>Olamide</td>\n",
       "      <td>4</td>\n",
       "      <td>3</td>\n",
       "      <td>4</td>\n",
       "      <td>4</td>\n",
       "      <td>3</td>\n",
       "      <td>5</td>\n",
       "      <td>5</td>\n",
       "      <td>4.000000</td>\n",
       "    </tr>\n",
       "    <tr>\n",
       "      <th>5</th>\n",
       "      <td>Clone Wars Vol. 5</td>\n",
       "      <td>The Algorhythm - Show Dem Camp</td>\n",
       "      <td>3</td>\n",
       "      <td>4</td>\n",
       "      <td>5</td>\n",
       "      <td>5</td>\n",
       "      <td>5</td>\n",
       "      <td>6</td>\n",
       "      <td>7</td>\n",
       "      <td>5.000000</td>\n",
       "    </tr>\n",
       "    <tr>\n",
       "      <th>...</th>\n",
       "      <td>...</td>\n",
       "      <td>...</td>\n",
       "      <td>...</td>\n",
       "      <td>...</td>\n",
       "      <td>...</td>\n",
       "      <td>...</td>\n",
       "      <td>...</td>\n",
       "      <td>...</td>\n",
       "      <td>...</td>\n",
       "      <td>...</td>\n",
       "    </tr>\n",
       "    <tr>\n",
       "      <th>352</th>\n",
       "      <td>Alagbe</td>\n",
       "      <td>Qdot</td>\n",
       "      <td>401</td>\n",
       "      <td>196</td>\n",
       "      <td>401</td>\n",
       "      <td>401</td>\n",
       "      <td>401</td>\n",
       "      <td>401</td>\n",
       "      <td>401</td>\n",
       "      <td>371.714286</td>\n",
       "    </tr>\n",
       "    <tr>\n",
       "      <th>353</th>\n",
       "      <td>Artist</td>\n",
       "      <td>A Boogie wit da Hoodie</td>\n",
       "      <td>401</td>\n",
       "      <td>401</td>\n",
       "      <td>401</td>\n",
       "      <td>196</td>\n",
       "      <td>401</td>\n",
       "      <td>401</td>\n",
       "      <td>401</td>\n",
       "      <td>371.714286</td>\n",
       "    </tr>\n",
       "    <tr>\n",
       "      <th>354</th>\n",
       "      <td>Distant Relatives (Bonus Track Version)</td>\n",
       "      <td>Nas &amp; Damian \"Jr. Gong\" Marley</td>\n",
       "      <td>401</td>\n",
       "      <td>401</td>\n",
       "      <td>401</td>\n",
       "      <td>401</td>\n",
       "      <td>401</td>\n",
       "      <td>401</td>\n",
       "      <td>199</td>\n",
       "      <td>372.142857</td>\n",
       "    </tr>\n",
       "    <tr>\n",
       "      <th>355</th>\n",
       "      <td>Channel ORANGE</td>\n",
       "      <td>Frank Ocean</td>\n",
       "      <td>401</td>\n",
       "      <td>401</td>\n",
       "      <td>401</td>\n",
       "      <td>199</td>\n",
       "      <td>401</td>\n",
       "      <td>401</td>\n",
       "      <td>401</td>\n",
       "      <td>372.142857</td>\n",
       "    </tr>\n",
       "    <tr>\n",
       "      <th>356</th>\n",
       "      <td>Levon James</td>\n",
       "      <td>King Von</td>\n",
       "      <td>401</td>\n",
       "      <td>401</td>\n",
       "      <td>401</td>\n",
       "      <td>201</td>\n",
       "      <td>401</td>\n",
       "      <td>401</td>\n",
       "      <td>401</td>\n",
       "      <td>372.428571</td>\n",
       "    </tr>\n",
       "  </tbody>\n",
       "</table>\n",
       "<p>356 rows × 10 columns</p>\n",
       "</div>"
      ],
      "text/plain": [
       "                                        album  \\\n",
       "rank                                            \n",
       "1                            High Tension 2.0   \n",
       "2                                   LV N ATTN   \n",
       "3                               Made In Lagos   \n",
       "4                                    UY Scuti   \n",
       "5                           Clone Wars Vol. 5   \n",
       "...                                       ...   \n",
       "352                                    Alagbe   \n",
       "353                                    Artist   \n",
       "354   Distant Relatives (Bonus Track Version)   \n",
       "355                            Channel ORANGE   \n",
       "356                               Levon James   \n",
       "\n",
       "                                 artist   R1   R2   R3   R4   R5   R6   R7  \\\n",
       "rank                                                                         \n",
       "1     Dangbana Republik & Bella Shmurda    1    1    1    1    1    2    2   \n",
       "2                     EP - Lojay & Sarz    2    2    2    2    2    4    3   \n",
       "3                                Wizkid    5    5    3    3    4    3    4   \n",
       "4                               Olamide    4    3    4    4    3    5    5   \n",
       "5        The Algorhythm - Show Dem Camp    3    4    5    5    5    6    7   \n",
       "...                                 ...  ...  ...  ...  ...  ...  ...  ...   \n",
       "352                                Qdot  401  196  401  401  401  401  401   \n",
       "353              A Boogie wit da Hoodie  401  401  401  196  401  401  401   \n",
       "354      Nas & Damian \"Jr. Gong\" Marley  401  401  401  401  401  401  199   \n",
       "355                         Frank Ocean  401  401  401  199  401  401  401   \n",
       "356                            King Von  401  401  401  201  401  401  401   \n",
       "\n",
       "              RT  \n",
       "rank              \n",
       "1       1.285714  \n",
       "2       2.428571  \n",
       "3       3.857143  \n",
       "4       4.000000  \n",
       "5       5.000000  \n",
       "...          ...  \n",
       "352   371.714286  \n",
       "353   371.714286  \n",
       "354   372.142857  \n",
       "355   372.142857  \n",
       "356   372.428571  \n",
       "\n",
       "[356 rows x 10 columns]"
      ]
     },
     "execution_count": 23,
     "metadata": {},
     "output_type": "execute_result"
    }
   ],
   "source": [
    "df"
   ]
  },
  {
   "cell_type": "code",
   "execution_count": 24,
   "id": "visible-rough",
   "metadata": {},
   "outputs": [],
   "source": [
    "df.to_csv(f'C:\\\\Users\\\\faree\\\\Desktop\\\\music charts\\\\apple\\\\apple_album-week{w}.csv')"
   ]
  },
  {
   "cell_type": "code",
   "execution_count": null,
   "id": "differential-filing",
   "metadata": {},
   "outputs": [],
   "source": []
  }
 ],
 "metadata": {
  "kernelspec": {
   "display_name": "Python 3",
   "language": "python",
   "name": "python3"
  },
  "language_info": {
   "codemirror_mode": {
    "name": "ipython",
    "version": 3
   },
   "file_extension": ".py",
   "mimetype": "text/x-python",
   "name": "python",
   "nbconvert_exporter": "python",
   "pygments_lexer": "ipython3",
   "version": "3.9.2"
  }
 },
 "nbformat": 4,
 "nbformat_minor": 5
}
