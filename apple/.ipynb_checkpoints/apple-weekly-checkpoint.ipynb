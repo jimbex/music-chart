{
 "cells": [
  {
   "cell_type": "code",
   "execution_count": 27,
   "id": "flying-growing",
   "metadata": {},
   "outputs": [],
   "source": [
    "from datetime import datetime\n",
    "m = datetime.today().strftime('%B')\n",
    "d = datetime.today().strftime('%d')\n",
    "d = int(d)\n",
    "w = datetime.today().strftime(\"%V\")"
   ]
  },
  {
   "cell_type": "code",
   "execution_count": 28,
   "id": "clinical-chocolate",
   "metadata": {},
   "outputs": [],
   "source": [
    "import pandas as pd\n",
    "df1 = pd.read_csv(f'{m}{d - 7}.csv', encoding='utf-8')\n",
    "df2 = pd.read_csv(f'{m}{d - 6}.csv', encoding='utf-8')\n",
    "df3 = pd.read_csv(f'{m}{d - 5}.csv', encoding='utf-8')\n",
    "df4 = pd.read_csv(f'{m}{d - 4}.csv', encoding='utf-8')\n",
    "df5 = pd.read_csv(f'{m}{d - 3}.csv', encoding='utf-8')\n",
    "df6 = pd.read_csv(f'{m}{d - 2}.csv', encoding='utf-8')\n",
    "df7 = pd.read_csv(f'{m}{d - 1}.csv', encoding='utf-8')"
   ]
  },
  {
   "cell_type": "code",
   "execution_count": 29,
   "id": "final-hundred",
   "metadata": {},
   "outputs": [],
   "source": [
    "df1 = df1[['song', 'artist']]\n",
    "df2 = df2[['song', 'artist']]\n",
    "df3 = df3[['song', 'artist']]\n",
    "df4 = df4[['song', 'artist']]\n",
    "df5 = df5[['song', 'artist']]\n",
    "df6 = df6[['song', 'artist']]\n",
    "df7 = df7[['song', 'artist']]"
   ]
  },
  {
   "cell_type": "code",
   "execution_count": 30,
   "id": "applied-nashville",
   "metadata": {},
   "outputs": [],
   "source": [
    "df7['position'] = [x for x in range(1,len(df7['song']) + 1)]\n",
    "df6['position'] = [x for x in range(1,len(df6['song']) + 1)]\n",
    "df5['position'] = [x for x in range(1,len(df5['song']) + 1)]\n",
    "df4['position'] = [x for x in range(1,len(df4['song']) + 1)]\n",
    "df3['position'] = [x for x in range(1,len(df3['song']) + 1)]\n",
    "df2['position'] = [x for x in range(1,len(df2['song']) + 1)]\n",
    "df1['position'] = [x for x in range(1,len(df1['song']) + 1)]"
   ]
  },
  {
   "cell_type": "code",
   "execution_count": 32,
   "id": "opponent-cleaner",
   "metadata": {},
   "outputs": [],
   "source": [
    "df7['title'] = [df7['song'][x] + ' - ' + df7['artist'][x] for x in range(0,len(df7['song']))]\n",
    "df6['title'] = [df6['song'][x] + ' - ' + df6['artist'][x] for x in range(0,len(df6['song']))]\n",
    "df5['title'] = [df5['song'][x] + ' - ' + df5['artist'][x] for x in range(0,len(df5['song']))]\n",
    "df4['title'] = [df4['song'][x] + ' - ' + df4['artist'][x] for x in range(0,len(df4['song']))]\n",
    "df3['title'] = [df3['song'][x] + ' - ' + df3['artist'][x] for x in range(0,len(df3['song']))]\n",
    "df2['title'] = [df2['song'][x] + ' - ' + df2['artist'][x] for x in range(0,len(df2['song']))]\n",
    "df1['title'] = [df1['song'][x] + ' - ' + df1['artist'][x] for x in range(0,len(df1['song']))]"
   ]
  },
  {
   "cell_type": "code",
   "execution_count": 33,
   "id": "related-radio",
   "metadata": {},
   "outputs": [],
   "source": [
    "songs = list(df1['title']) + list(df2['title']) + list(df3['title']) + list(df4['title']) + list(df5['title']) + list(df6['title']) + list(df7['title'])\n",
    "songs = set(songs)\n",
    "final = {}"
   ]
  },
  {
   "cell_type": "code",
   "execution_count": 34,
   "id": "abandoned-applicant",
   "metadata": {},
   "outputs": [],
   "source": [
    "song = list(df1['title'])\n",
    "for x in songs:\n",
    "    if x in song:\n",
    "        final[x] = list(df1['position'][df1['title'] == x])\n",
    "    else:\n",
    "        final[x] = [301]"
   ]
  },
  {
   "cell_type": "code",
   "execution_count": 35,
   "id": "unlike-microwave",
   "metadata": {},
   "outputs": [],
   "source": [
    "song1 = list(df2['title'])\n",
    "for x in songs:\n",
    "    if x in song1:\n",
    "        final[x].append(int(df2['position'][df2['title'] == x]))\n",
    "    else:\n",
    "        final[x].append(301)"
   ]
  },
  {
   "cell_type": "code",
   "execution_count": 36,
   "id": "major-conditioning",
   "metadata": {},
   "outputs": [],
   "source": [
    "artist1 = list(df1['artist'])\n",
    "artist2 = list(df2['artist'])\n",
    "artist3 = list(df3['artist'])\n",
    "artist4 = list(df4['artist'])\n",
    "artist5 = list(df5['artist'])\n",
    "artist6 = list(df6['artist'])\n",
    "artist7 = list(df7['artist'])"
   ]
  },
  {
   "cell_type": "code",
   "execution_count": 37,
   "id": "median-contemporary",
   "metadata": {},
   "outputs": [],
   "source": [
    "song2 = list(df3['title'])\n",
    "for x in songs:\n",
    "    if x in song2:\n",
    "        final[x].append(int(df3['position'][df3['title'] == x]))\n",
    "    else:\n",
    "        final[x].append(301)"
   ]
  },
  {
   "cell_type": "code",
   "execution_count": 38,
   "id": "joined-regard",
   "metadata": {},
   "outputs": [],
   "source": [
    "song3 = list(df4['title'])\n",
    "for x in songs:\n",
    "    if x in song3:\n",
    "        final[x].append(int(df4['position'][df4['title'] == x]))\n",
    "    else:\n",
    "        final[x].append(301)"
   ]
  },
  {
   "cell_type": "code",
   "execution_count": 39,
   "id": "organic-bosnia",
   "metadata": {},
   "outputs": [],
   "source": [
    "song4 = list(df5['title'])\n",
    "i = 0\n",
    "for x in songs:\n",
    "    if x in song4:\n",
    "        final[x].append(int(df5['position'][df5['title'] == x]))\n",
    "    else:\n",
    "        final[x].append(301)"
   ]
  },
  {
   "cell_type": "code",
   "execution_count": 40,
   "id": "dangerous-chick",
   "metadata": {},
   "outputs": [],
   "source": [
    "song5 = list(df6['title'])\n",
    "for x in songs:\n",
    "    if x in song5:\n",
    "        final[x].append(int(df6['position'][df6['title'] == x]))\n",
    "    else:\n",
    "        final[x].append(301)"
   ]
  },
  {
   "cell_type": "code",
   "execution_count": 41,
   "id": "fitting-squad",
   "metadata": {},
   "outputs": [],
   "source": [
    "song6 = list(df7['title'])\n",
    "for x in songs:\n",
    "    if x in song6:\n",
    "        final[x].append(int(df7['position'][df7['title'] == x]))\n",
    "    else:\n",
    "        final[x].append(301)"
   ]
  },
  {
   "cell_type": "code",
   "execution_count": 42,
   "id": "chicken-balloon",
   "metadata": {},
   "outputs": [],
   "source": [
    "songs = [x for x in final.keys()]\n",
    "artists = [x[x.index('-') + 2:] for x in final.keys()]\n",
    "post1 = [x[0] for x in final.values()]\n",
    "post2 = [x[1] for x in final.values()]\n",
    "post3 = [x[2] for x in final.values()]\n",
    "post4 = [x[3] for x in final.values()]\n",
    "post5 = [x[4] for x in final.values()]\n",
    "post6 = [x[5] for x in final.values()]\n",
    "post7 = [x[6] for x in final.values()]\n",
    "postT = [(post1[x] + post2[x] + post3[x] + post4[x] + post5[x] + post6[x] + post7[x] )/7 for x in range(0, len(final))]"
   ]
  },
  {
   "cell_type": "code",
   "execution_count": 43,
   "id": "collectible-prescription",
   "metadata": {},
   "outputs": [],
   "source": [
    "artist = []\n",
    "x = 0\n",
    "for i in songs:\n",
    "    if i in song:\n",
    "        artist.append(artist1[song.index(i)])\n",
    "    elif i in song1:\n",
    "        artist.append(artist2[song1.index(i)])\n",
    "    elif i in song2:\n",
    "        artist.append(artist3[song2.index(i)])\n",
    "    elif i in song3:\n",
    "        artist.append(artist4[song3.index(i)])\n",
    "    elif i in song5:\n",
    "        artist.append(artist6[song5.index(i)])\n",
    "    elif i in song6:\n",
    "        artist.append(artist7[song6.index(i)])\n",
    "    elif i in song4:\n",
    "        artist.append(artist5[song4.index(i)])\n",
    "    x += 1"
   ]
  },
  {
   "cell_type": "code",
   "execution_count": 44,
   "id": "heated-confirmation",
   "metadata": {},
   "outputs": [],
   "source": [
    "songs = [x[:x.index('-') - 1] for x in final.keys()]"
   ]
  },
  {
   "cell_type": "code",
   "execution_count": 45,
   "id": "combined-revolution",
   "metadata": {},
   "outputs": [
    {
     "data": {
      "text/plain": [
       "104"
      ]
     },
     "execution_count": 45,
     "metadata": {},
     "output_type": "execute_result"
    }
   ],
   "source": [
    "len(songs)"
   ]
  },
  {
   "cell_type": "code",
   "execution_count": 46,
   "id": "mental-texture",
   "metadata": {},
   "outputs": [],
   "source": [
    "data = {'song':songs,'artist':artists,'R1':post1,'R2':post2,'R3':post3,'R4':post4,'R5':post5,'R6':post6,'R7':post7,'RT': postT}\n",
    "df = pd.DataFrame(data)"
   ]
  },
  {
   "cell_type": "code",
   "execution_count": 47,
   "id": "excellent-companion",
   "metadata": {},
   "outputs": [],
   "source": [
    "df.sort_values(by=['RT'], inplace=True)"
   ]
  },
  {
   "cell_type": "code",
   "execution_count": 48,
   "id": "detected-privacy",
   "metadata": {},
   "outputs": [],
   "source": [
    "df['rank'] = [x for x in range(1,len(final) + 1)]\n",
    "df = df.set_index('rank')"
   ]
  },
  {
   "cell_type": "code",
   "execution_count": 50,
   "id": "visible-rough",
   "metadata": {},
   "outputs": [],
   "source": [
    "df.to_csv(f'C:\\\\Users\\\\faree\\\\Desktop\\\\music charts\\\\apple\\\\apple-week{w}.csv')\n",
    "df.to_csv(f'C:\\\\Users\\\\faree\\\\Desktop\\\\music charts\\\\weekly charts\\\\songs\\\\apple-week{w}.csv')"
   ]
  },
  {
   "cell_type": "code",
   "execution_count": 51,
   "id": "solid-democrat",
   "metadata": {},
   "outputs": [
    {
     "data": {
      "text/html": [
       "<div>\n",
       "<style scoped>\n",
       "    .dataframe tbody tr th:only-of-type {\n",
       "        vertical-align: middle;\n",
       "    }\n",
       "\n",
       "    .dataframe tbody tr th {\n",
       "        vertical-align: top;\n",
       "    }\n",
       "\n",
       "    .dataframe thead th {\n",
       "        text-align: right;\n",
       "    }\n",
       "</style>\n",
       "<table border=\"1\" class=\"dataframe\">\n",
       "  <thead>\n",
       "    <tr style=\"text-align: right;\">\n",
       "      <th></th>\n",
       "      <th>song</th>\n",
       "      <th>artist</th>\n",
       "      <th>R1</th>\n",
       "      <th>R2</th>\n",
       "      <th>R3</th>\n",
       "      <th>R4</th>\n",
       "      <th>R5</th>\n",
       "      <th>R6</th>\n",
       "      <th>R7</th>\n",
       "      <th>RT</th>\n",
       "    </tr>\n",
       "    <tr>\n",
       "      <th>rank</th>\n",
       "      <th></th>\n",
       "      <th></th>\n",
       "      <th></th>\n",
       "      <th></th>\n",
       "      <th></th>\n",
       "      <th></th>\n",
       "      <th></th>\n",
       "      <th></th>\n",
       "      <th></th>\n",
       "      <th></th>\n",
       "    </tr>\n",
       "  </thead>\n",
       "  <tbody>\n",
       "    <tr>\n",
       "      <th>1</th>\n",
       "      <td>Understand</td>\n",
       "      <td>Omah Lay</td>\n",
       "      <td>2</td>\n",
       "      <td>2</td>\n",
       "      <td>2</td>\n",
       "      <td>1</td>\n",
       "      <td>1</td>\n",
       "      <td>1</td>\n",
       "      <td>1</td>\n",
       "      <td>1.428571</td>\n",
       "    </tr>\n",
       "    <tr>\n",
       "      <th>2</th>\n",
       "      <td>System</td>\n",
       "      <td>Dave and  Wizkid</td>\n",
       "      <td>1</td>\n",
       "      <td>1</td>\n",
       "      <td>1</td>\n",
       "      <td>2</td>\n",
       "      <td>2</td>\n",
       "      <td>3</td>\n",
       "      <td>5</td>\n",
       "      <td>2.142857</td>\n",
       "    </tr>\n",
       "    <tr>\n",
       "      <th>3</th>\n",
       "      <td>Sinner</td>\n",
       "      <td>Adekunle Gold and  Lucky Daye</td>\n",
       "      <td>6</td>\n",
       "      <td>5</td>\n",
       "      <td>5</td>\n",
       "      <td>3</td>\n",
       "      <td>3</td>\n",
       "      <td>2</td>\n",
       "      <td>2</td>\n",
       "      <td>3.714286</td>\n",
       "    </tr>\n",
       "    <tr>\n",
       "      <th>4</th>\n",
       "      <td>Monalisa</td>\n",
       "      <td>Lojay and  Sarz</td>\n",
       "      <td>4</td>\n",
       "      <td>4</td>\n",
       "      <td>4</td>\n",
       "      <td>4</td>\n",
       "      <td>4</td>\n",
       "      <td>4</td>\n",
       "      <td>3</td>\n",
       "      <td>3.857143</td>\n",
       "    </tr>\n",
       "    <tr>\n",
       "      <th>5</th>\n",
       "      <td>Bounce</td>\n",
       "      <td>Ruger</td>\n",
       "      <td>3</td>\n",
       "      <td>3</td>\n",
       "      <td>3</td>\n",
       "      <td>5</td>\n",
       "      <td>5</td>\n",
       "      <td>5</td>\n",
       "      <td>4</td>\n",
       "      <td>4.000000</td>\n",
       "    </tr>\n",
       "    <tr>\n",
       "      <th>...</th>\n",
       "      <td>...</td>\n",
       "      <td>...</td>\n",
       "      <td>...</td>\n",
       "      <td>...</td>\n",
       "      <td>...</td>\n",
       "      <td>...</td>\n",
       "      <td>...</td>\n",
       "      <td>...</td>\n",
       "      <td>...</td>\n",
       "      <td>...</td>\n",
       "    </tr>\n",
       "    <tr>\n",
       "      <th>100</th>\n",
       "      <td>Need To Know</td>\n",
       "      <td>Doja Cat</td>\n",
       "      <td>301</td>\n",
       "      <td>301</td>\n",
       "      <td>301</td>\n",
       "      <td>98</td>\n",
       "      <td>86</td>\n",
       "      <td>81</td>\n",
       "      <td>78</td>\n",
       "      <td>178.000000</td>\n",
       "    </tr>\n",
       "    <tr>\n",
       "      <th>101</th>\n",
       "      <td>High Way</td>\n",
       "      <td>DJ Kaywise and  Phyno</td>\n",
       "      <td>88</td>\n",
       "      <td>88</td>\n",
       "      <td>93</td>\n",
       "      <td>301</td>\n",
       "      <td>301</td>\n",
       "      <td>301</td>\n",
       "      <td>301</td>\n",
       "      <td>210.428571</td>\n",
       "    </tr>\n",
       "    <tr>\n",
       "      <th>102</th>\n",
       "      <td>True Love (feat. Tay Iwar &amp; Projexx)</td>\n",
       "      <td>Wizkid</td>\n",
       "      <td>89</td>\n",
       "      <td>301</td>\n",
       "      <td>301</td>\n",
       "      <td>301</td>\n",
       "      <td>301</td>\n",
       "      <td>301</td>\n",
       "      <td>100</td>\n",
       "      <td>242.000000</td>\n",
       "    </tr>\n",
       "    <tr>\n",
       "      <th>103</th>\n",
       "      <td>All (feat. Davido)</td>\n",
       "      <td>Rexxie</td>\n",
       "      <td>93</td>\n",
       "      <td>98</td>\n",
       "      <td>301</td>\n",
       "      <td>301</td>\n",
       "      <td>301</td>\n",
       "      <td>301</td>\n",
       "      <td>301</td>\n",
       "      <td>242.285714</td>\n",
       "    </tr>\n",
       "    <tr>\n",
       "      <th>104</th>\n",
       "      <td>Somebody (feat. Phyno)</td>\n",
       "      <td>Olamide</td>\n",
       "      <td>92</td>\n",
       "      <td>301</td>\n",
       "      <td>301</td>\n",
       "      <td>301</td>\n",
       "      <td>301</td>\n",
       "      <td>301</td>\n",
       "      <td>301</td>\n",
       "      <td>271.142857</td>\n",
       "    </tr>\n",
       "  </tbody>\n",
       "</table>\n",
       "<p>104 rows × 10 columns</p>\n",
       "</div>"
      ],
      "text/plain": [
       "                                      song                         artist  \\\n",
       "rank                                                                        \n",
       "1                               Understand                       Omah Lay   \n",
       "2                                   System               Dave and  Wizkid   \n",
       "3                                   Sinner  Adekunle Gold and  Lucky Daye   \n",
       "4                                 Monalisa                Lojay and  Sarz   \n",
       "5                                   Bounce                          Ruger   \n",
       "...                                    ...                            ...   \n",
       "100                           Need To Know                       Doja Cat   \n",
       "101                               High Way          DJ Kaywise and  Phyno   \n",
       "102   True Love (feat. Tay Iwar & Projexx)                         Wizkid   \n",
       "103                     All (feat. Davido)                         Rexxie   \n",
       "104                 Somebody (feat. Phyno)                        Olamide   \n",
       "\n",
       "       R1   R2   R3   R4   R5   R6   R7          RT  \n",
       "rank                                                 \n",
       "1       2    2    2    1    1    1    1    1.428571  \n",
       "2       1    1    1    2    2    3    5    2.142857  \n",
       "3       6    5    5    3    3    2    2    3.714286  \n",
       "4       4    4    4    4    4    4    3    3.857143  \n",
       "5       3    3    3    5    5    5    4    4.000000  \n",
       "...   ...  ...  ...  ...  ...  ...  ...         ...  \n",
       "100   301  301  301   98   86   81   78  178.000000  \n",
       "101    88   88   93  301  301  301  301  210.428571  \n",
       "102    89  301  301  301  301  301  100  242.000000  \n",
       "103    93   98  301  301  301  301  301  242.285714  \n",
       "104    92  301  301  301  301  301  301  271.142857  \n",
       "\n",
       "[104 rows x 10 columns]"
      ]
     },
     "execution_count": 51,
     "metadata": {},
     "output_type": "execute_result"
    }
   ],
   "source": [
    "df"
   ]
  },
  {
   "cell_type": "code",
   "execution_count": null,
   "id": "adolescent-dollar",
   "metadata": {},
   "outputs": [],
   "source": []
  }
 ],
 "metadata": {
  "kernelspec": {
   "display_name": "Python 3",
   "language": "python",
   "name": "python3"
  },
  "language_info": {
   "codemirror_mode": {
    "name": "ipython",
    "version": 3
   },
   "file_extension": ".py",
   "mimetype": "text/x-python",
   "name": "python",
   "nbconvert_exporter": "python",
   "pygments_lexer": "ipython3",
   "version": "3.9.2"
  }
 },
 "nbformat": 4,
 "nbformat_minor": 5
}
