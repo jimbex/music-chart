{
 "cells": [
  {
   "cell_type": "code",
   "execution_count": 1,
   "id": "chicken-thing",
   "metadata": {},
   "outputs": [],
   "source": [
    "from datetime import datetime\n",
    "m = datetime.today().strftime('%B')\n",
    "d = datetime.today().strftime('%d')\n",
    "d = int(d)"
   ]
  },
  {
   "cell_type": "code",
   "execution_count": 1,
   "id": "homeless-culture",
   "metadata": {},
   "outputs": [],
   "source": [
    "with open(f'june4.txt', encoding='utf8') as file:\n",
    "    read = file.readlines()"
   ]
  },
  {
   "cell_type": "code",
   "execution_count": 2,
   "id": "stable-occasion",
   "metadata": {},
   "outputs": [],
   "source": [
    "x = 0\n",
    "while x < len(read):\n",
    "    read[x] = read[x].replace('\\n', '')\n",
    "    x += 1"
   ]
  },
  {
   "cell_type": "code",
   "execution_count": 3,
   "id": "invisible-think",
   "metadata": {},
   "outputs": [],
   "source": [
    "position =[]\n",
    "artist = []\n",
    "song = []\n",
    "i = 0\n",
    "for x in read:\n",
    "    i += 1\n",
    "    if x.isdigit() and x not in position:\n",
    "        i = 1\n",
    "        position.append(x)\n",
    "    elif i == 2:\n",
    "        artist.append(x)\n",
    "    elif i == 3:\n",
    "        song.append(x)  "
   ]
  },
  {
   "cell_type": "code",
   "execution_count": 4,
   "id": "becoming-opportunity",
   "metadata": {},
   "outputs": [
    {
     "data": {
      "text/plain": [
       "['LADIPOE',\n",
       " 'Olamide',\n",
       " 'Barry Jhay',\n",
       " 'Cheque & Fireboy DML',\n",
       " 'Terri, Bella Shmurda, Mohbad',\n",
       " 'Naira Marley',\n",
       " 'Dangbana Republik, Bella Shmurda',\n",
       " 'Joeboy',\n",
       " 'Guchi',\n",
       " 'Adekunle Gold',\n",
       " 'Burna Boy',\n",
       " 'Teni',\n",
       " 'Blaqbonez',\n",
       " 'Teni featuring Davido',\n",
       " 'Lyta',\n",
       " 'Chiké',\n",
       " 'Buju',\n",
       " 'Bella Shmurda',\n",
       " 'Focalistic & Davido',\n",
       " 'Peruzzi & Davido',\n",
       " 'Skales and Davido',\n",
       " 'Seyi Vibez',\n",
       " 'CKay',\n",
       " 'Dangbana Republik X Bella Shmurda',\n",
       " 'Zlatan',\n",
       " 'Crayon',\n",
       " 'Victor AD',\n",
       " 'Ajebo Hustlers & Omah Lay',\n",
       " 'Masterkraft',\n",
       " 'DJ Neptune',\n",
       " 'Wizkid',\n",
       " 'Olamide',\n",
       " 'Tion Wayne x Russ Millions',\n",
       " 'Mr Eazi and Dre Skull',\n",
       " 'Seyi Vibez',\n",
       " 'Wizkid',\n",
       " 'Zinoleesky',\n",
       " 'Omah Lay',\n",
       " 'Olamide',\n",
       " 'AJIMOVOIX_DRUMS',\n",
       " 'Rod Wave',\n",
       " 'Naira Marley',\n",
       " 'Seyi Vibez',\n",
       " 'Joeboy',\n",
       " 'Bella Shmurda',\n",
       " 'DJ Kaywise & Phyno',\n",
       " 'Barry Jhay',\n",
       " 'Joeboy',\n",
       " 'Timaya',\n",
       " 'Burna Boy',\n",
       " 'Bella Shmurda',\n",
       " 'Davido',\n",
       " 'Ice Prince',\n",
       " 'Bella Shmurda',\n",
       " 'Fireboy DML & D Smoke',\n",
       " 'Burna Boy',\n",
       " 'Tolibian',\n",
       " 'Rexxie and MohBad',\n",
       " 'DJ Tunez',\n",
       " 'Naira Marley',\n",
       " 'Bella Shmurda',\n",
       " 'Vector',\n",
       " 'Peruzzi',\n",
       " 'Bella Shmurda',\n",
       " 'MohBad',\n",
       " 'Seyi Vibez',\n",
       " 'Bella Shmurda',\n",
       " 'Omah Lay',\n",
       " 'Bella Shmurda',\n",
       " 'Anonymous Music',\n",
       " 'Bella Shmurda',\n",
       " 'KayBlinkz',\n",
       " 'Barry Jhay',\n",
       " 'Joeboy',\n",
       " 'Kida Kudz',\n",
       " 'Zugo',\n",
       " 'Zinoleesky',\n",
       " 'Davolee',\n",
       " 'Davido',\n",
       " 'Omah Lay',\n",
       " 'Burna Boy',\n",
       " 'Tems',\n",
       " 'Simi feat. Adekunle Gold and Deja',\n",
       " 'Mayorkun',\n",
       " 'Bella Shmurda',\n",
       " 'Kizz Daniel',\n",
       " 'Olamide',\n",
       " 'WizKid',\n",
       " 'Pink Sweat$',\n",
       " 'Joeboy',\n",
       " 'Omah Lay',\n",
       " 'Chiké',\n",
       " 'Davido',\n",
       " 'Jimmygid',\n",
       " 'Laycon',\n",
       " 'Wizkid',\n",
       " 'Bella Shmurda',\n",
       " 'Central Cee',\n",
       " 'Spinall, Fireboy DML and 6LACK',\n",
       " 'Mohbad']"
      ]
     },
     "execution_count": 4,
     "metadata": {},
     "output_type": "execute_result"
    }
   ],
   "source": [
    "artist"
   ]
  },
  {
   "cell_type": "code",
   "execution_count": 5,
   "id": "major-cooling",
   "metadata": {},
   "outputs": [],
   "source": [
    "data = {'Position': position ,'song': song, 'artist': artist}"
   ]
  },
  {
   "cell_type": "code",
   "execution_count": 6,
   "id": "direct-patrick",
   "metadata": {},
   "outputs": [],
   "source": [
    "import pandas as pd\n",
    "\n",
    "df = pd.DataFrame(data)\n",
    "df = df.set_index('Position')"
   ]
  },
  {
   "cell_type": "code",
   "execution_count": 7,
   "id": "noted-shield",
   "metadata": {},
   "outputs": [],
   "source": [
    "df.to_csv(f'{m}{d}.csv')"
   ]
  },
  {
   "cell_type": "code",
   "execution_count": 8,
   "id": "digital-freedom",
   "metadata": {},
   "outputs": [
    {
     "data": {
      "text/html": [
       "<div>\n",
       "<style scoped>\n",
       "    .dataframe tbody tr th:only-of-type {\n",
       "        vertical-align: middle;\n",
       "    }\n",
       "\n",
       "    .dataframe tbody tr th {\n",
       "        vertical-align: top;\n",
       "    }\n",
       "\n",
       "    .dataframe thead th {\n",
       "        text-align: right;\n",
       "    }\n",
       "</style>\n",
       "<table border=\"1\" class=\"dataframe\">\n",
       "  <thead>\n",
       "    <tr style=\"text-align: right;\">\n",
       "      <th></th>\n",
       "      <th>song</th>\n",
       "      <th>artist</th>\n",
       "    </tr>\n",
       "    <tr>\n",
       "      <th>Position</th>\n",
       "      <th></th>\n",
       "      <th></th>\n",
       "    </tr>\n",
       "  </thead>\n",
       "  <tbody>\n",
       "    <tr>\n",
       "      <th>1</th>\n",
       "      <td>Understand</td>\n",
       "      <td>Omah Lay</td>\n",
       "    </tr>\n",
       "    <tr>\n",
       "      <th>2</th>\n",
       "      <td>Feeling</td>\n",
       "      <td>LADIPOE</td>\n",
       "    </tr>\n",
       "    <tr>\n",
       "      <th>3</th>\n",
       "      <td>Rock</td>\n",
       "      <td>Olamide</td>\n",
       "    </tr>\n",
       "    <tr>\n",
       "      <th>4</th>\n",
       "      <td>Naira Marley</td>\n",
       "      <td>Zinoleesky</td>\n",
       "    </tr>\n",
       "    <tr>\n",
       "      <th>5</th>\n",
       "      <td>Sinner</td>\n",
       "      <td>Adekunle Gold</td>\n",
       "    </tr>\n",
       "    <tr>\n",
       "      <th>...</th>\n",
       "      <td>...</td>\n",
       "      <td>...</td>\n",
       "    </tr>\n",
       "    <tr>\n",
       "      <th>196</th>\n",
       "      <td>Jackpot</td>\n",
       "      <td>Crayon</td>\n",
       "    </tr>\n",
       "    <tr>\n",
       "      <th>197</th>\n",
       "      <td>Flex</td>\n",
       "      <td>Polo G</td>\n",
       "    </tr>\n",
       "    <tr>\n",
       "      <th>198</th>\n",
       "      <td>Baba Nla</td>\n",
       "      <td>Candy Bleakz</td>\n",
       "    </tr>\n",
       "    <tr>\n",
       "      <th>199</th>\n",
       "      <td>Try Me</td>\n",
       "      <td>Tems</td>\n",
       "    </tr>\n",
       "    <tr>\n",
       "      <th>200</th>\n",
       "      <td>Risky</td>\n",
       "      <td>Davido</td>\n",
       "    </tr>\n",
       "  </tbody>\n",
       "</table>\n",
       "<p>200 rows × 2 columns</p>\n",
       "</div>"
      ],
      "text/plain": [
       "                  song         artist\n",
       "Position                             \n",
       "1           Understand       Omah Lay\n",
       "2              Feeling        LADIPOE\n",
       "3                 Rock        Olamide\n",
       "4         Naira Marley     Zinoleesky\n",
       "5               Sinner  Adekunle Gold\n",
       "...                ...            ...\n",
       "196            Jackpot         Crayon\n",
       "197               Flex         Polo G\n",
       "198           Baba Nla   Candy Bleakz\n",
       "199             Try Me           Tems\n",
       "200              Risky         Davido\n",
       "\n",
       "[200 rows x 2 columns]"
      ]
     },
     "execution_count": 8,
     "metadata": {},
     "output_type": "execute_result"
    }
   ],
   "source": [
    "df"
   ]
  },
  {
   "cell_type": "code",
   "execution_count": 9,
   "id": "tracked-insert",
   "metadata": {},
   "outputs": [],
   "source": [
    "with open(f'album-{m}{d}.txt', encoding = 'utf-8') as file:\n",
    "    read = file.readlines()"
   ]
  },
  {
   "cell_type": "code",
   "execution_count": 10,
   "id": "mobile-punch",
   "metadata": {},
   "outputs": [],
   "source": [
    "i = 0\n",
    "for x in read:\n",
    "    read[i] = read[i].replace('\\n', '')\n",
    "    read[i] = read[i].strip()\n",
    "    i += 1"
   ]
  },
  {
   "cell_type": "code",
   "execution_count": 11,
   "id": "educational-madrid",
   "metadata": {},
   "outputs": [],
   "source": [
    "position =[]\n",
    "artist = []\n",
    "album = []\n",
    "i = 0\n",
    "for x in read:\n",
    "    i += 1\n",
    "    if x.isdigit() and x not in position:\n",
    "        i = 1\n",
    "        position.append(x)\n",
    "    elif i == 2:\n",
    "        artist.append(x)\n",
    "    elif i == 3:\n",
    "        album.append(x)  "
   ]
  },
  {
   "cell_type": "code",
   "execution_count": 12,
   "id": "nutritional-elizabeth",
   "metadata": {},
   "outputs": [],
   "source": [
    "data = {'Position': position ,'album': album, 'artist': artist}"
   ]
  },
  {
   "cell_type": "code",
   "execution_count": 13,
   "id": "irish-sample",
   "metadata": {},
   "outputs": [],
   "source": [
    "import pandas as pd\n",
    "\n",
    "df = pd.DataFrame(data)\n",
    "df = df.set_index('Position')"
   ]
  },
  {
   "cell_type": "code",
   "execution_count": 14,
   "id": "august-desire",
   "metadata": {},
   "outputs": [],
   "source": [
    "df.to_csv(f'album-{m}{d}.csv')"
   ]
  },
  {
   "cell_type": "code",
   "execution_count": 15,
   "id": "union-missouri",
   "metadata": {},
   "outputs": [
    {
     "data": {
      "text/html": [
       "<div>\n",
       "<style scoped>\n",
       "    .dataframe tbody tr th:only-of-type {\n",
       "        vertical-align: middle;\n",
       "    }\n",
       "\n",
       "    .dataframe tbody tr th {\n",
       "        vertical-align: top;\n",
       "    }\n",
       "\n",
       "    .dataframe thead th {\n",
       "        text-align: right;\n",
       "    }\n",
       "</style>\n",
       "<table border=\"1\" class=\"dataframe\">\n",
       "  <thead>\n",
       "    <tr style=\"text-align: right;\">\n",
       "      <th></th>\n",
       "      <th>album</th>\n",
       "      <th>artist</th>\n",
       "    </tr>\n",
       "    <tr>\n",
       "      <th>Position</th>\n",
       "      <th></th>\n",
       "      <th></th>\n",
       "    </tr>\n",
       "  </thead>\n",
       "  <tbody>\n",
       "    <tr>\n",
       "      <th>1</th>\n",
       "      <td>UY Scuti</td>\n",
       "      <td>Olamide</td>\n",
       "    </tr>\n",
       "    <tr>\n",
       "      <th>2</th>\n",
       "      <td>High Tension 2.0</td>\n",
       "      <td>Dangbana Republik &amp; Bella Shmurda</td>\n",
       "    </tr>\n",
       "    <tr>\n",
       "      <th>3</th>\n",
       "      <td>High Tension EP</td>\n",
       "      <td>Bella Shmurda</td>\n",
       "    </tr>\n",
       "    <tr>\n",
       "      <th>4</th>\n",
       "      <td>A True Champion</td>\n",
       "      <td>Rexxie</td>\n",
       "    </tr>\n",
       "    <tr>\n",
       "      <th>5</th>\n",
       "      <td>WONDALAND</td>\n",
       "      <td>Teni</td>\n",
       "    </tr>\n",
       "    <tr>\n",
       "      <th>...</th>\n",
       "      <td>...</td>\n",
       "      <td>...</td>\n",
       "    </tr>\n",
       "    <tr>\n",
       "      <th>170</th>\n",
       "      <td>Fever</td>\n",
       "      <td>Megan Thee Stallion</td>\n",
       "    </tr>\n",
       "    <tr>\n",
       "      <th>171</th>\n",
       "      <td>Afro Series</td>\n",
       "      <td>Terri</td>\n",
       "    </tr>\n",
       "    <tr>\n",
       "      <th>172</th>\n",
       "      <td>We All Shine</td>\n",
       "      <td>YNW Melly</td>\n",
       "    </tr>\n",
       "    <tr>\n",
       "      <th>173</th>\n",
       "      <td>Honorable</td>\n",
       "      <td>Hotkid</td>\n",
       "    </tr>\n",
       "    <tr>\n",
       "      <th>174</th>\n",
       "      <td>Runtown Hits Vol. 1</td>\n",
       "      <td>Runtown</td>\n",
       "    </tr>\n",
       "  </tbody>\n",
       "</table>\n",
       "<p>174 rows × 2 columns</p>\n",
       "</div>"
      ],
      "text/plain": [
       "                        album                             artist\n",
       "Position                                                        \n",
       "1                    UY Scuti                            Olamide\n",
       "2            High Tension 2.0  Dangbana Republik & Bella Shmurda\n",
       "3             High Tension EP                      Bella Shmurda\n",
       "4             A True Champion                             Rexxie\n",
       "5                   WONDALAND                               Teni\n",
       "...                       ...                                ...\n",
       "170                     Fever                Megan Thee Stallion\n",
       "171               Afro Series                              Terri\n",
       "172              We All Shine                          YNW Melly\n",
       "173                 Honorable                             Hotkid\n",
       "174       Runtown Hits Vol. 1                            Runtown\n",
       "\n",
       "[174 rows x 2 columns]"
      ]
     },
     "execution_count": 15,
     "metadata": {},
     "output_type": "execute_result"
    }
   ],
   "source": [
    "df"
   ]
  },
  {
   "cell_type": "code",
   "execution_count": 70,
   "id": "emerging-enemy",
   "metadata": {},
   "outputs": [],
   "source": [
    "with open(f'afrobeat-{m}{d}.txt', encoding = 'utf-8') as file:\n",
    "    read = file.readlines()"
   ]
  },
  {
   "cell_type": "code",
   "execution_count": 71,
   "id": "european-gnome",
   "metadata": {},
   "outputs": [],
   "source": [
    "i = 0\n",
    "for x in read:\n",
    "    read[i] = read[i].replace('\\n', '')\n",
    "    read[i] = read[i].strip()\n",
    "    i += 1"
   ]
  },
  {
   "cell_type": "code",
   "execution_count": 72,
   "id": "noble-atmosphere",
   "metadata": {},
   "outputs": [],
   "source": [
    "for x in read:\n",
    "    if '' in read:\n",
    "        read.remove('')"
   ]
  },
  {
   "cell_type": "code",
   "execution_count": 73,
   "id": "essential-africa",
   "metadata": {},
   "outputs": [],
   "source": [
    "position =[]\n",
    "song = []\n",
    "artist = []\n",
    "i = 0\n",
    "for x in read:\n",
    "    i += 1\n",
    "    if x.isdigit() and x not in position:\n",
    "        i = 1\n",
    "        position.append(x)\n",
    "    elif i == 2:\n",
    "        song.append(x)\n",
    "    elif i == 3:\n",
    "        artist.append(x)  "
   ]
  },
  {
   "cell_type": "code",
   "execution_count": 74,
   "id": "recovered-victor",
   "metadata": {},
   "outputs": [],
   "source": [
    "data = {'Position': position ,'song': song, 'artist': artist}"
   ]
  },
  {
   "cell_type": "code",
   "execution_count": 75,
   "id": "tamil-renewal",
   "metadata": {},
   "outputs": [],
   "source": [
    "import pandas as pd\n",
    "\n",
    "df = pd.DataFrame(data)\n",
    "df = df.set_index('Position')\n",
    "\n",
    "df.to_csv(f'afrobeat-{m}{d}.csv')"
   ]
  },
  {
   "cell_type": "code",
   "execution_count": 16,
   "id": "special-occasions",
   "metadata": {},
   "outputs": [],
   "source": [
    "with open(f'afrohiphop-{m}{d}.txt', encoding = 'utf-8') as file:\n",
    "    read = file.readlines()"
   ]
  },
  {
   "cell_type": "code",
   "execution_count": 17,
   "id": "hidden-collective",
   "metadata": {},
   "outputs": [],
   "source": [
    "i = 0\n",
    "for x in read:\n",
    "    read[i] = read[i].replace('\\n', '')\n",
    "    read[i] = read[i].strip()\n",
    "    i += 1"
   ]
  },
  {
   "cell_type": "code",
   "execution_count": 18,
   "id": "arctic-karen",
   "metadata": {},
   "outputs": [],
   "source": [
    "for x in read:\n",
    "    if '' in read:\n",
    "        read.remove('')"
   ]
  },
  {
   "cell_type": "code",
   "execution_count": 19,
   "id": "driven-spotlight",
   "metadata": {},
   "outputs": [],
   "source": [
    "position =[]\n",
    "song = []\n",
    "artist = []\n",
    "i = 0\n",
    "for x in read:\n",
    "    i += 1\n",
    "    if x.isdigit() and x not in position:\n",
    "        i = 1\n",
    "        position.append(x)\n",
    "    elif i == 2:\n",
    "        song.append(x)\n",
    "    elif i == 3:\n",
    "        artist.append(x)  "
   ]
  },
  {
   "cell_type": "code",
   "execution_count": 20,
   "id": "realistic-termination",
   "metadata": {},
   "outputs": [],
   "source": [
    "data = {'Position': position ,'song': song, 'artist': artist}"
   ]
  },
  {
   "cell_type": "code",
   "execution_count": 21,
   "id": "remarkable-lesbian",
   "metadata": {},
   "outputs": [],
   "source": [
    "import pandas as pd\n",
    "\n",
    "df = pd.DataFrame(data)\n",
    "df = df.set_index('Position')\n",
    "\n",
    "df.to_csv(f'afrohiphop-{m}{d}.csv')"
   ]
  },
  {
   "cell_type": "code",
   "execution_count": 30,
   "id": "blessed-listing",
   "metadata": {},
   "outputs": [],
   "source": [
    "with open(f'afropop-{m}{d}.txt', encoding = 'utf-8') as file:\n",
    "    read = file.readlines()"
   ]
  },
  {
   "cell_type": "code",
   "execution_count": 31,
   "id": "rubber-intention",
   "metadata": {},
   "outputs": [],
   "source": [
    "i = 0\n",
    "for x in read:\n",
    "    read[i] = read[i].replace('\\n', '')\n",
    "    read[i] = read[i].strip()\n",
    "    i += 1"
   ]
  },
  {
   "cell_type": "code",
   "execution_count": 32,
   "id": "miniature-handle",
   "metadata": {},
   "outputs": [],
   "source": [
    "for x in read:\n",
    "    if '' in read:\n",
    "        read.remove('')"
   ]
  },
  {
   "cell_type": "code",
   "execution_count": 33,
   "id": "everyday-output",
   "metadata": {},
   "outputs": [],
   "source": [
    "position =[]\n",
    "song = []\n",
    "artist = []\n",
    "i = 0\n",
    "for x in read:\n",
    "    i += 1\n",
    "    if x.isdigit() and x not in position:\n",
    "        i = 1\n",
    "        position.append(x)\n",
    "    elif i == 2:\n",
    "        song.append(x)\n",
    "    elif i == 3:\n",
    "        artist.append(x)  "
   ]
  },
  {
   "cell_type": "code",
   "execution_count": 34,
   "id": "superior-semiconductor",
   "metadata": {},
   "outputs": [],
   "source": [
    "data = {'Position': position ,'song': song, 'artist': artist}"
   ]
  },
  {
   "cell_type": "code",
   "execution_count": 35,
   "id": "intermediate-asbestos",
   "metadata": {},
   "outputs": [],
   "source": [
    "import pandas as pd\n",
    "\n",
    "df = pd.DataFrame(data)\n",
    "df = df.set_index('Position')\n",
    "\n",
    "df.to_csv(f'afropop-{m}{d}.csv')"
   ]
  },
  {
   "cell_type": "code",
   "execution_count": 36,
   "id": "unavailable-lewis",
   "metadata": {},
   "outputs": [],
   "source": [
    "with open(f'alte-{m}{d}.txt', encoding = 'utf-8') as file:\n",
    "    read = file.readlines()"
   ]
  },
  {
   "cell_type": "code",
   "execution_count": 37,
   "id": "remarkable-garage",
   "metadata": {},
   "outputs": [],
   "source": [
    "i = 0\n",
    "for x in read:\n",
    "    read[i] = read[i].replace('\\n', '')\n",
    "    read[i] = read[i].strip()\n",
    "    i += 1"
   ]
  },
  {
   "cell_type": "code",
   "execution_count": 38,
   "id": "monetary-provider",
   "metadata": {},
   "outputs": [],
   "source": [
    "for x in read:\n",
    "    if '' in read:\n",
    "        read.remove('')"
   ]
  },
  {
   "cell_type": "code",
   "execution_count": 39,
   "id": "original-tucson",
   "metadata": {},
   "outputs": [],
   "source": [
    "position =[]\n",
    "song = []\n",
    "artist = []\n",
    "i = 0\n",
    "for x in read:\n",
    "    i += 1\n",
    "    if x.isdigit() and x not in position:\n",
    "        i = 1\n",
    "        position.append(x)\n",
    "    elif i == 2:\n",
    "        song.append(x)\n",
    "    elif i == 3:\n",
    "        artist.append(x) "
   ]
  },
  {
   "cell_type": "code",
   "execution_count": 40,
   "id": "geographic-marine",
   "metadata": {},
   "outputs": [],
   "source": [
    "data = {'Position': position ,'song': song, 'artist': artist}"
   ]
  },
  {
   "cell_type": "code",
   "execution_count": 41,
   "id": "polish-nitrogen",
   "metadata": {},
   "outputs": [],
   "source": [
    "import pandas as pd\n",
    "\n",
    "df = pd.DataFrame(data)\n",
    "df = df.set_index('Position')\n",
    "\n",
    "df.to_csv(f'alte-{m}{d}.csv')"
   ]
  },
  {
   "cell_type": "code",
   "execution_count": null,
   "id": "guilty-gazette",
   "metadata": {},
   "outputs": [],
   "source": []
  }
 ],
 "metadata": {
  "kernelspec": {
   "display_name": "Python 3",
   "language": "python",
   "name": "python3"
  },
  "language_info": {
   "codemirror_mode": {
    "name": "ipython",
    "version": 3
   },
   "file_extension": ".py",
   "mimetype": "text/x-python",
   "name": "python",
   "nbconvert_exporter": "python",
   "pygments_lexer": "ipython3",
   "version": "3.9.2"
  }
 },
 "nbformat": 4,
 "nbformat_minor": 5
}
