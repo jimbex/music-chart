{
 "cells": [
  {
   "cell_type": "code",
   "execution_count": 1,
   "id": "willing-unemployment",
   "metadata": {},
   "outputs": [],
   "source": [
    "import pandas as pd\n",
    "df1 = pd.read_csv('afrobeat-june27.csv')\n",
    "df2 = pd.read_csv('afrobeat-july2.csv')"
   ]
  },
  {
   "cell_type": "code",
   "execution_count": 3,
   "id": "impossible-recipient",
   "metadata": {},
   "outputs": [
    {
     "data": {
      "text/plain": [
       "96"
      ]
     },
     "execution_count": 3,
     "metadata": {},
     "output_type": "execute_result"
    }
   ],
   "source": [
    "len(df2)"
   ]
  },
  {
   "cell_type": "code",
   "execution_count": null,
   "id": "nervous-shoot",
   "metadata": {},
   "outputs": [],
   "source": [
    "df7['title'] = [df7['song'][x] + ' - ' + df7['artist'][x] for x in range(0,150)]\n",
    "df6['title'] = [df6['song'][x] + ' - ' + df6['artist'][x] for x in range(0,150)]"
   ]
  },
  {
   "cell_type": "code",
   "execution_count": 3,
   "id": "balanced-fellow",
   "metadata": {},
   "outputs": [],
   "source": [
    "songs = list(df1['title']) + list(df2['title']) + list(df3['title']) + list(df4['title']) + list(df5['title']) + list(df6['title']) + list(df7['title'])\n",
    "songs = set(songs)\n",
    "final = {}"
   ]
  },
  {
   "cell_type": "code",
   "execution_count": 4,
   "id": "naval-performance",
   "metadata": {},
   "outputs": [],
   "source": [
    "song = list(df1['title'])\n",
    "for x in songs:\n",
    "    if x in song:\n",
    "        final[x] = list(df1['Position'][df1['title'] == x])\n",
    "    else:\n",
    "        final[x] = [301]"
   ]
  },
  {
   "cell_type": "code",
   "execution_count": 5,
   "id": "sonic-protein",
   "metadata": {},
   "outputs": [],
   "source": [
    "song1 = list(df2['title'])\n",
    "for x in songs:\n",
    "    if x in song1:\n",
    "        final[x].append(int(df2['Position'][df2['title'] == x]))\n",
    "    else:\n",
    "        final[x].append(301)"
   ]
  },
  {
   "cell_type": "code",
   "execution_count": 6,
   "id": "southern-repository",
   "metadata": {},
   "outputs": [],
   "source": [
    "song2 = list(df3['title'])\n",
    "for x in songs:\n",
    "    if x in song2:\n",
    "        final[x].append(int(df3['Position'][df3['title'] == x]))\n",
    "    else:\n",
    "        final[x].append(301)"
   ]
  },
  {
   "cell_type": "code",
   "execution_count": 7,
   "id": "extended-lightweight",
   "metadata": {},
   "outputs": [],
   "source": [
    "song3 = list(df4['title'])\n",
    "for x in songs:\n",
    "    if x in song3:\n",
    "        final[x].append(int(df4['Position'][df4['title'] == x]))\n",
    "    else:\n",
    "        final[x].append(301)"
   ]
  },
  {
   "cell_type": "code",
   "execution_count": 8,
   "id": "varied-notebook",
   "metadata": {},
   "outputs": [],
   "source": [
    "song4 = list(df5['title'])\n",
    "for x in songs:\n",
    "    if x in song4:\n",
    "        final[x].append(int(df5['Position'][df5['title'] == x]))\n",
    "    else:\n",
    "        final[x].append(301)"
   ]
  },
  {
   "cell_type": "code",
   "execution_count": 9,
   "id": "finished-southeast",
   "metadata": {},
   "outputs": [],
   "source": [
    "song5 = list(df6['title'])\n",
    "for x in songs:\n",
    "    if x in song5:\n",
    "        final[x].append(int(df6['Position'][df6['title'] == x]))\n",
    "    else:\n",
    "        final[x].append(301)"
   ]
  },
  {
   "cell_type": "code",
   "execution_count": 10,
   "id": "virgin-tracker",
   "metadata": {},
   "outputs": [],
   "source": [
    "song6 = list(df7['title'])\n",
    "for x in songs:\n",
    "    if x in song6:\n",
    "        final[x].append(int(df7['Position'][df7['title'] == x]))\n",
    "    else:\n",
    "        final[x].append(301)"
   ]
  },
  {
   "cell_type": "code",
   "execution_count": 11,
   "id": "second-database",
   "metadata": {},
   "outputs": [
    {
     "data": {
      "text/plain": [
       "139"
      ]
     },
     "execution_count": 11,
     "metadata": {},
     "output_type": "execute_result"
    }
   ],
   "source": [
    "len(final)"
   ]
  },
  {
   "cell_type": "code",
   "execution_count": 13,
   "id": "secondary-intention",
   "metadata": {},
   "outputs": [],
   "source": [
    "songs = [x[:x.index('-') - 1 ] for x in final.keys()]\n",
    "artists = [x[x.index('-') + 2:] for x in final.keys()]\n",
    "post1 = [x[0] for x in final.values()]\n",
    "post2 = [x[1] for x in final.values()]\n",
    "post3 = [x[2] for x in final.values()]\n",
    "post4 = [x[3] for x in final.values()]\n",
    "post5 = [x[4] for x in final.values()]\n",
    "post6 = [x[5] for x in final.values()]\n",
    "post7 = [x[6] for x in final.values()]\n",
    "postT = [(post1[x] + post2[x] + post3[x] + post4[x] + post5[x] + post6[x] + post7[x] )/7 for x in range(0, 139)]"
   ]
  },
  {
   "cell_type": "code",
   "execution_count": 14,
   "id": "adjacent-lambda",
   "metadata": {},
   "outputs": [],
   "source": [
    "data = {'song':songs,'artist':artists,'R1':post1,'R2':post2,'R3':post3,'R4':post4,'R5':post5,'R6':post6,'R7':post7,'RT': postT}\n",
    "df = pd.DataFrame(data)"
   ]
  },
  {
   "cell_type": "code",
   "execution_count": 15,
   "id": "tutorial-frontier",
   "metadata": {},
   "outputs": [],
   "source": [
    "df.sort_values(by=['RT'], inplace=True)"
   ]
  },
  {
   "cell_type": "code",
   "execution_count": 16,
   "id": "passive-cooking",
   "metadata": {},
   "outputs": [],
   "source": [
    "df['rank'] = [x for x in range(1,140)]\n",
    "df = df.set_index('rank')"
   ]
  },
  {
   "cell_type": "code",
   "execution_count": 17,
   "id": "unlike-workshop",
   "metadata": {},
   "outputs": [
    {
     "data": {
      "text/html": [
       "<div>\n",
       "<style scoped>\n",
       "    .dataframe tbody tr th:only-of-type {\n",
       "        vertical-align: middle;\n",
       "    }\n",
       "\n",
       "    .dataframe tbody tr th {\n",
       "        vertical-align: top;\n",
       "    }\n",
       "\n",
       "    .dataframe thead th {\n",
       "        text-align: right;\n",
       "    }\n",
       "</style>\n",
       "<table border=\"1\" class=\"dataframe\">\n",
       "  <thead>\n",
       "    <tr style=\"text-align: right;\">\n",
       "      <th></th>\n",
       "      <th>song</th>\n",
       "      <th>artist</th>\n",
       "      <th>R1</th>\n",
       "      <th>R2</th>\n",
       "      <th>R3</th>\n",
       "      <th>R4</th>\n",
       "      <th>R5</th>\n",
       "      <th>R6</th>\n",
       "      <th>R7</th>\n",
       "      <th>RT</th>\n",
       "    </tr>\n",
       "    <tr>\n",
       "      <th>rank</th>\n",
       "      <th></th>\n",
       "      <th></th>\n",
       "      <th></th>\n",
       "      <th></th>\n",
       "      <th></th>\n",
       "      <th></th>\n",
       "      <th></th>\n",
       "      <th></th>\n",
       "      <th></th>\n",
       "      <th></th>\n",
       "    </tr>\n",
       "  </thead>\n",
       "  <tbody>\n",
       "    <tr>\n",
       "      <th>1</th>\n",
       "      <td>Feeling</td>\n",
       "      <td>LADIPOE, Buju</td>\n",
       "      <td>1</td>\n",
       "      <td>1</td>\n",
       "      <td>1</td>\n",
       "      <td>1</td>\n",
       "      <td>1</td>\n",
       "      <td>1</td>\n",
       "      <td>2</td>\n",
       "      <td>1.142857</td>\n",
       "    </tr>\n",
       "    <tr>\n",
       "      <th>2</th>\n",
       "      <td>Bounce</td>\n",
       "      <td>Ruger</td>\n",
       "      <td>3</td>\n",
       "      <td>2</td>\n",
       "      <td>2</td>\n",
       "      <td>3</td>\n",
       "      <td>2</td>\n",
       "      <td>3</td>\n",
       "      <td>3</td>\n",
       "      <td>2.571429</td>\n",
       "    </tr>\n",
       "    <tr>\n",
       "      <th>3</th>\n",
       "      <td>Rock</td>\n",
       "      <td>Olamide</td>\n",
       "      <td>2</td>\n",
       "      <td>3</td>\n",
       "      <td>3</td>\n",
       "      <td>2</td>\n",
       "      <td>3</td>\n",
       "      <td>2</td>\n",
       "      <td>4</td>\n",
       "      <td>2.714286</td>\n",
       "    </tr>\n",
       "    <tr>\n",
       "      <th>4</th>\n",
       "      <td>Bling (feat. Amaarae &amp; Buju)</td>\n",
       "      <td>Blaqbonez, amaarae, Buju</td>\n",
       "      <td>5</td>\n",
       "      <td>4</td>\n",
       "      <td>5</td>\n",
       "      <td>4</td>\n",
       "      <td>5</td>\n",
       "      <td>5</td>\n",
       "      <td>6</td>\n",
       "      <td>4.857143</td>\n",
       "    </tr>\n",
       "    <tr>\n",
       "      <th>5</th>\n",
       "      <td>Outside</td>\n",
       "      <td>Buju</td>\n",
       "      <td>11</td>\n",
       "      <td>6</td>\n",
       "      <td>4</td>\n",
       "      <td>5</td>\n",
       "      <td>4</td>\n",
       "      <td>4</td>\n",
       "      <td>5</td>\n",
       "      <td>5.571429</td>\n",
       "    </tr>\n",
       "    <tr>\n",
       "      <th>...</th>\n",
       "      <td>...</td>\n",
       "      <td>...</td>\n",
       "      <td>...</td>\n",
       "      <td>...</td>\n",
       "      <td>...</td>\n",
       "      <td>...</td>\n",
       "      <td>...</td>\n",
       "      <td>...</td>\n",
       "      <td>...</td>\n",
       "      <td>...</td>\n",
       "    </tr>\n",
       "    <tr>\n",
       "      <th>135</th>\n",
       "      <td>Make It Out</td>\n",
       "      <td>Lil Baby, Lil Durk</td>\n",
       "      <td>301</td>\n",
       "      <td>301</td>\n",
       "      <td>301</td>\n",
       "      <td>301</td>\n",
       "      <td>301</td>\n",
       "      <td>96</td>\n",
       "      <td>301</td>\n",
       "      <td>271.714286</td>\n",
       "    </tr>\n",
       "    <tr>\n",
       "      <th>136</th>\n",
       "      <td>Someone You Loved</td>\n",
       "      <td>Lewis Capaldi</td>\n",
       "      <td>301</td>\n",
       "      <td>97</td>\n",
       "      <td>301</td>\n",
       "      <td>301</td>\n",
       "      <td>301</td>\n",
       "      <td>301</td>\n",
       "      <td>301</td>\n",
       "      <td>271.857143</td>\n",
       "    </tr>\n",
       "    <tr>\n",
       "      <th>137</th>\n",
       "      <td>What You See</td>\n",
       "      <td>Migos, Justin Bieber</td>\n",
       "      <td>301</td>\n",
       "      <td>301</td>\n",
       "      <td>301</td>\n",
       "      <td>301</td>\n",
       "      <td>301</td>\n",
       "      <td>301</td>\n",
       "      <td>98</td>\n",
       "      <td>272.000000</td>\n",
       "    </tr>\n",
       "    <tr>\n",
       "      <th>138</th>\n",
       "      <td>GNF (OKOKOK)</td>\n",
       "      <td>POLO G</td>\n",
       "      <td>301</td>\n",
       "      <td>301</td>\n",
       "      <td>301</td>\n",
       "      <td>301</td>\n",
       "      <td>301</td>\n",
       "      <td>301</td>\n",
       "      <td>99</td>\n",
       "      <td>272.142857</td>\n",
       "    </tr>\n",
       "    <tr>\n",
       "      <th>139</th>\n",
       "      <td>Egbon</td>\n",
       "      <td>Masterkraft, Phyno</td>\n",
       "      <td>301</td>\n",
       "      <td>301</td>\n",
       "      <td>301</td>\n",
       "      <td>99</td>\n",
       "      <td>301</td>\n",
       "      <td>301</td>\n",
       "      <td>301</td>\n",
       "      <td>272.142857</td>\n",
       "    </tr>\n",
       "  </tbody>\n",
       "</table>\n",
       "<p>139 rows × 10 columns</p>\n",
       "</div>"
      ],
      "text/plain": [
       "                              song                    artist   R1   R2   R3  \\\n",
       "rank                                                                          \n",
       "1                          Feeling             LADIPOE, Buju    1    1    1   \n",
       "2                           Bounce                     Ruger    3    2    2   \n",
       "3                             Rock                   Olamide    2    3    3   \n",
       "4     Bling (feat. Amaarae & Buju)  Blaqbonez, amaarae, Buju    5    4    5   \n",
       "5                          Outside                      Buju   11    6    4   \n",
       "...                            ...                       ...  ...  ...  ...   \n",
       "135                    Make It Out        Lil Baby, Lil Durk  301  301  301   \n",
       "136              Someone You Loved             Lewis Capaldi  301   97  301   \n",
       "137                   What You See      Migos, Justin Bieber  301  301  301   \n",
       "138                   GNF (OKOKOK)                    POLO G  301  301  301   \n",
       "139                          Egbon        Masterkraft, Phyno  301  301  301   \n",
       "\n",
       "       R4   R5   R6   R7          RT  \n",
       "rank                                  \n",
       "1       1    1    1    2    1.142857  \n",
       "2       3    2    3    3    2.571429  \n",
       "3       2    3    2    4    2.714286  \n",
       "4       4    5    5    6    4.857143  \n",
       "5       5    4    4    5    5.571429  \n",
       "...   ...  ...  ...  ...         ...  \n",
       "135   301  301   96  301  271.714286  \n",
       "136   301  301  301  301  271.857143  \n",
       "137   301  301  301   98  272.000000  \n",
       "138   301  301  301   99  272.142857  \n",
       "139    99  301  301  301  272.142857  \n",
       "\n",
       "[139 rows x 10 columns]"
      ]
     },
     "execution_count": 17,
     "metadata": {},
     "output_type": "execute_result"
    }
   ],
   "source": [
    "df"
   ]
  },
  {
   "cell_type": "code",
   "execution_count": 18,
   "id": "korean-alfred",
   "metadata": {},
   "outputs": [],
   "source": [
    "df.to_csv('deezer-week23.csv')"
   ]
  }
 ],
 "metadata": {
  "kernelspec": {
   "display_name": "Python 3",
   "language": "python",
   "name": "python3"
  },
  "language_info": {
   "codemirror_mode": {
    "name": "ipython",
    "version": 3
   },
   "file_extension": ".py",
   "mimetype": "text/x-python",
   "name": "python",
   "nbconvert_exporter": "python",
   "pygments_lexer": "ipython3",
   "version": "3.9.2"
  }
 },
 "nbformat": 4,
 "nbformat_minor": 5
}
