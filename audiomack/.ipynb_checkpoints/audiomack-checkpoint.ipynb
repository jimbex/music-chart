{
 "cells": [
  {
   "cell_type": "code",
   "execution_count": 2,
   "id": "chicken-thing",
   "metadata": {},
   "outputs": [],
   "source": [
    "with open('week22.txt') as file:\n",
    "    read = file.readlines()"
   ]
  },
  {
   "cell_type": "code",
   "execution_count": 4,
   "id": "stable-occasion",
   "metadata": {},
   "outputs": [],
   "source": [
    "x = 0\n",
    "while x < len(read):\n",
    "    read[x] = read[x].replace('\\n', '')\n",
    "    x += 1"
   ]
  },
  {
   "cell_type": "code",
   "execution_count": 8,
   "id": "personal-quebec",
   "metadata": {},
   "outputs": [],
   "source": [
    "while '' in read:\n",
    "    read.remove('')"
   ]
  },
  {
   "cell_type": "code",
   "execution_count": 14,
   "id": "invisible-think",
   "metadata": {},
   "outputs": [],
   "source": [
    "position = []\n",
    "artist = []\n",
    "song = []\n",
    "i = 0\n",
    "for x in read:\n",
    "    i += 1\n",
    "    if i == 1:\n",
    "        position.append(x)\n",
    "    elif i == 2:\n",
    "        song.append(x)\n",
    "    elif i == 3:\n",
    "        artist.append(x)\n",
    "    else:\n",
    "        i = 0"
   ]
  },
  {
   "cell_type": "code",
   "execution_count": 22,
   "id": "major-cooling",
   "metadata": {},
   "outputs": [],
   "source": [
    "data = {'Position': position ,'song': song, 'artist': artist}"
   ]
  },
  {
   "cell_type": "code",
   "execution_count": 27,
   "id": "direct-patrick",
   "metadata": {},
   "outputs": [],
   "source": [
    "import pandas as pd\n",
    "\n",
    "df = pd.DataFrame(data)\n",
    "df = df.set_index('Position')"
   ]
  },
  {
   "cell_type": "code",
   "execution_count": 29,
   "id": "noted-shield",
   "metadata": {},
   "outputs": [],
   "source": [
    "df.to_csv('week22.csv')"
   ]
  },
  {
   "cell_type": "code",
   "execution_count": null,
   "id": "accompanied-montgomery",
   "metadata": {},
   "outputs": [],
   "source": [
    "\n",
    "https://audiomack.com/albums"
   ]
  }
 ],
 "metadata": {
  "kernelspec": {
   "display_name": "Python 3",
   "language": "python",
   "name": "python3"
  },
  "language_info": {
   "codemirror_mode": {
    "name": "ipython",
    "version": 3
   },
   "file_extension": ".py",
   "mimetype": "text/x-python",
   "name": "python",
   "nbconvert_exporter": "python",
   "pygments_lexer": "ipython3",
   "version": "3.9.2"
  }
 },
 "nbformat": 4,
 "nbformat_minor": 5
}
