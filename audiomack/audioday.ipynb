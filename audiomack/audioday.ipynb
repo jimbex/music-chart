{
 "cells": [
  {
   "cell_type": "code",
   "execution_count": 1,
   "id": "analyzed-communist",
   "metadata": {},
   "outputs": [],
   "source": [
    "import pandas as pd\n",
    "from bs4 import BeautifulSoup as bs\n",
    "from selenium import webdriver\n",
    "from selenium.webdriver.common.keys import Keys\n",
    "import time\n",
    "from datetime import datetime\n",
    "m = datetime.today().strftime('%B')\n",
    "d = datetime.today().strftime('%d')\n",
    "d = int(d)\n"
   ]
  },
  {
   "cell_type": "code",
   "execution_count": 2,
   "id": "religious-serial",
   "metadata": {},
   "outputs": [],
   "source": [
    "driver = webdriver.Firefox()\n",
    "driver.get('https://audiomack.com/songs')\n",
    "for x in range(11):\n",
    "    driver.execute_script(\"window.scrollTo(0,document.body.scrollHeight)\")\n",
    "    time.sleep(5)\n",
    "content = driver.page_source\n",
    "soup = bs(content) \n",
    "driver.close()"
   ]
  },
  {
   "cell_type": "code",
   "execution_count": 3,
   "id": "manufactured-familiar",
   "metadata": {},
   "outputs": [],
   "source": [
    "song = []\n",
    "artist = []\n",
    "mydivs = soup.find_all(\"span\", {'class': 'music__heading--artist u-d-block u-trunc'})\n",
    "mydiv = soup.find_all(\"span\", {'class': 'music__heading--title'})\n",
    "for x in mydiv:\n",
    "    song.append(x.text)\n",
    "for x in mydivs:\n",
    "    artist.append(x.text)"
   ]
  },
  {
   "cell_type": "code",
   "execution_count": 4,
   "id": "downtown-perception",
   "metadata": {},
   "outputs": [],
   "source": [
    "if len(song) > len(artist):\n",
    "    del song[3:7]\n",
    "data = {'Position': [x for x in range(1, len(song) + 1)] ,'song': song, 'artist': artist}\n",
    "df = pd.DataFrame(data)\n",
    "df = df.set_index('Position')\n",
    "df.to_csv(f'{m}{d}.csv')"
   ]
  },
  {
   "cell_type": "code",
   "execution_count": 12,
   "id": "fourth-jesus",
   "metadata": {},
   "outputs": [],
   "source": [
    "driver = webdriver.Firefox()\n",
    "driver.get('https://audiomack.com/albums')\n",
    "for x in range(20):\n",
    "    driver.execute_script(\"window.scrollTo(0,document.body.scrollHeight)\")\n",
    "    time.sleep(5)\n",
    "content = driver.page_source\n",
    "soup = bs(content) \n",
    "driver.close()"
   ]
  },
  {
   "cell_type": "code",
   "execution_count": 13,
   "id": "capable-durham",
   "metadata": {},
   "outputs": [],
   "source": [
    "album = []\n",
    "artist = []\n",
    "mydivs = soup.find_all(\"span\", {'class': 'music__heading--artist u-d-block u-trunc'})\n",
    "mydiv = soup.find_all(\"span\", {'class': 'music__heading--title'})\n",
    "for x in mydiv:\n",
    "    album.append(x.text)\n",
    "for x in mydivs:\n",
    "    artist.append(x.text)"
   ]
  },
  {
   "cell_type": "code",
   "execution_count": 14,
   "id": "independent-nothing",
   "metadata": {},
   "outputs": [],
   "source": [
    "if len(album) > len(artist):\n",
    "    del album[3:7]\n",
    "data = {'Position': [x for x in range(1, len(album) + 1)] ,'album': album, 'artist': artist}\n",
    "df = pd.DataFrame(data)\n",
    "df = df.set_index('Position')\n",
    "df.to_csv(f'album-{m}{d}.csv')"
   ]
  },
  {
   "cell_type": "code",
   "execution_count": 3,
   "id": "royal-brunswick",
   "metadata": {},
   "outputs": [],
   "source": [
    "driver = webdriver.Firefox()\n",
    "driver.get('https://audiomack.com/audiomack-africa/playlist/afro-hip-hop')\n",
    "a = driver.find_element_by_tag_name('time')\n",
    "a = a.text.split(' ')\n",
    "b = int(a[1][:-1])\n",
    "if b == d and m == a[0]:\n",
    "    driver.execute_script(\"window.scrollTo(0, 600)\") \n",
    "    button = driver.find_element_by_class_name('button__arrow')\n",
    "    button.click()\n",
    "    content = driver.page_source\n",
    "    soup = bs(content, 'html') \n",
    "    song = []\n",
    "    artist = []\n",
    "    mydivs = soup.find_all(\"span\", {'class': 'tracklist__track-artist u-trunc'})\n",
    "    mydiv = soup.find_all(\"span\", {'class': 'u-d-block u-trunc'})\n",
    "    for x in mydiv:\n",
    "        song.append(x.text)\n",
    "    for x in mydivs:\n",
    "        artist.append(x.text)\n",
    "    data = {'Position': [x for x in range(1, len(song) + 1)] ,'song': song, 'artist': artist}\n",
    "    df = pd.DataFrame(data)\n",
    "    df = df.set_index('Position')\n",
    "    df.to_csv(f'afrohiphop-{m}{d}.csv')\n",
    "driver.close()"
   ]
  },
  {
   "cell_type": "code",
   "execution_count": 9,
   "id": "standard-package",
   "metadata": {},
   "outputs": [],
   "source": [
    "driver = webdriver.Firefox()\n",
    "driver.get('https://audiomack.com/audiomack-africa/playlist/verified-afrobeats')\n",
    "a = driver.find_element_by_tag_name('time')\n",
    "a = a.text.split(' ')\n",
    "b = int(a[1][:-1])\n",
    "if b == d and m == a[0]:\n",
    "    driver.execute_script(\"window.scrollTo(0, 600)\") \n",
    "    button = driver.find_element_by_class_name('button__arrow')\n",
    "    button.click()\n",
    "    content = driver.page_source\n",
    "    soup = bs(content) \n",
    "    song = []\n",
    "    artist = []\n",
    "    mydivs = soup.find_all(\"span\", {'class': 'tracklist__track-artist u-trunc'})\n",
    "    mydiv = soup.find_all(\"span\", {'class': 'u-d-block u-trunc'})\n",
    "    for x in mydiv:\n",
    "        song.append(x.text)\n",
    "    for x in mydivs:\n",
    "        artist.append(x.text)\n",
    "    data = {'Position': [x for x in range(1, len(song) + 1)] ,'song': song, 'artist': artist}\n",
    "    df = pd.DataFrame(data)\n",
    "    df = df.set_index('Position')\n",
    "    df.to_csv(f'afrobeat-{m}{d}.csv')\n",
    "driver.close()"
   ]
  },
  {
   "cell_type": "code",
   "execution_count": 10,
   "id": "interior-guyana",
   "metadata": {},
   "outputs": [],
   "source": [
    "driver = webdriver.Firefox()\n",
    "driver.get('https://audiomack.com/audiomack-africa/playlist/alte-sounds')\n",
    "a = driver.find_element_by_tag_name('time')\n",
    "a = a.text.split(' ')\n",
    "b = int(a[1][:-1])\n",
    "if b == d and m == a[0]:\n",
    "    driver.execute_script(\"window.scrollTo(0, 600)\") \n",
    "    button = driver.find_element_by_class_name('button__arrow')\n",
    "    button.click()\n",
    "    content = driver.page_source\n",
    "    soup = bs(content) \n",
    "    song = []\n",
    "    artist = []\n",
    "    mydivs = soup.find_all(\"span\", {'class': 'tracklist__track-artist u-trunc'})\n",
    "    mydiv = soup.find_all(\"span\", {'class': 'u-d-block u-trunc'})\n",
    "    for x in mydiv:\n",
    "        song.append(x.text)\n",
    "    for x in mydivs:\n",
    "        artist.append(x.text)\n",
    "    data = {'Position': [x for x in range(1, len(song) + 1)] ,'song': song, 'artist': artist}\n",
    "    df = pd.DataFrame(data)\n",
    "    df = df.set_index('Position')\n",
    "    df.to_csv(f'alte-{m}{d}.csv')\n",
    "driver.close()"
   ]
  },
  {
   "cell_type": "code",
   "execution_count": 11,
   "id": "swedish-means",
   "metadata": {},
   "outputs": [],
   "source": [
    "driver = webdriver.Firefox()\n",
    "driver.get('https://audiomack.com/audiomack-africa/playlist/afro-pop-hits')\n",
    "a = driver.find_element_by_tag_name('time')\n",
    "a = a.text.split(' ')\n",
    "b = int(a[1][:-1])\n",
    "if b == d and m == a[0]:\n",
    "    driver.execute_script(\"window.scrollTo(0, 600)\") \n",
    "    button = driver.find_element_by_class_name('button__arrow')\n",
    "    button.click()\n",
    "    content = driver.page_source\n",
    "    soup = bs(content) \n",
    "    song = []\n",
    "    artist = []\n",
    "    mydivs = soup.find_all(\"span\", {'class': 'tracklist__track-artist u-trunc'})\n",
    "    mydiv = soup.find_all(\"span\", {'class': 'u-d-block u-trunc'})\n",
    "    for x in mydiv:\n",
    "        song.append(x.text)\n",
    "    for x in mydivs:\n",
    "        artist.append(x.text)\n",
    "    data = {'Position': [x for x in range(1, len(song) + 1)] ,'song': song, 'artist': artist}\n",
    "    df = pd.DataFrame(data)\n",
    "    df = df.set_index('Position')\n",
    "    df.to_csv(f'afropop-{m}{d}.csv')\n",
    "driver.close()"
   ]
  },
  {
   "cell_type": "code",
   "execution_count": null,
   "id": "selected-oliver",
   "metadata": {},
   "outputs": [],
   "source": []
  }
 ],
 "metadata": {
  "kernelspec": {
   "display_name": "Python 3",
   "language": "python",
   "name": "python3"
  },
  "language_info": {
   "codemirror_mode": {
    "name": "ipython",
    "version": 3
   },
   "file_extension": ".py",
   "mimetype": "text/x-python",
   "name": "python",
   "nbconvert_exporter": "python",
   "pygments_lexer": "ipython3",
   "version": "3.9.2"
  }
 },
 "nbformat": 4,
 "nbformat_minor": 5
}
