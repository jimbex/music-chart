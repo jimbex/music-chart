{
 "cells": [
  {
   "cell_type": "code",
   "execution_count": 23,
   "id": "willing-unemployment",
   "metadata": {},
   "outputs": [],
   "source": [
    "import pandas as pd\n",
    "df1 = pd.read_csv('alte-july4.csv')\n",
    "df2 = pd.read_csv('alte-july7.csv')\n",
    "df3 = pd.read_csv('alte-july9.csv')"
   ]
  },
  {
   "cell_type": "code",
   "execution_count": 26,
   "id": "stupid-trigger",
   "metadata": {},
   "outputs": [
    {
     "data": {
      "text/plain": [
       "109"
      ]
     },
     "execution_count": 26,
     "metadata": {},
     "output_type": "execute_result"
    }
   ],
   "source": [
    "len(df1)"
   ]
  },
  {
   "cell_type": "code",
   "execution_count": 27,
   "id": "nervous-shoot",
   "metadata": {},
   "outputs": [],
   "source": [
    "df1['title'] = [df1['song'][x] + ' - ' + df1['artist'][x] for x in range(0,109)]\n",
    "df2['title'] = [df2['song'][x] + ' - ' + df2['artist'][x] for x in range(0,109)]\n",
    "df3['title'] = [df3['song'][x] + ' - ' + df3['artist'][x] for x in range(0,110)]"
   ]
  },
  {
   "cell_type": "code",
   "execution_count": 28,
   "id": "balanced-fellow",
   "metadata": {},
   "outputs": [],
   "source": [
    "songs = list(df1['title']) + list(df2['title']) + list(df3['title'])\n",
    "songs = set(songs)\n",
    "final = {}"
   ]
  },
  {
   "cell_type": "code",
   "execution_count": 29,
   "id": "naval-performance",
   "metadata": {},
   "outputs": [],
   "source": [
    "song = list(df1['title'])\n",
    "for x in songs:\n",
    "    if x in song:\n",
    "        final[x] = list(df1['Position'][df1['title'] == x])\n",
    "    else:\n",
    "        final[x] = [201]"
   ]
  },
  {
   "cell_type": "code",
   "execution_count": 30,
   "id": "sonic-protein",
   "metadata": {},
   "outputs": [],
   "source": [
    "song1 = list(df2['title'])\n",
    "for x in songs:\n",
    "    if x in song1:\n",
    "        final[x].append(int(df2['Position'][df2['title'] == x]))\n",
    "    else:\n",
    "        final[x].append(201)"
   ]
  },
  {
   "cell_type": "code",
   "execution_count": 31,
   "id": "guilty-logic",
   "metadata": {},
   "outputs": [],
   "source": [
    "song1 = list(df3['title'])\n",
    "for x in songs:\n",
    "    if x in song1:\n",
    "        final[x].append(int(df3['Position'][df3['title'] == x]))\n",
    "    else:\n",
    "        final[x].append(201)"
   ]
  },
  {
   "cell_type": "code",
   "execution_count": 32,
   "id": "second-database",
   "metadata": {},
   "outputs": [
    {
     "data": {
      "text/plain": [
       "110"
      ]
     },
     "execution_count": 32,
     "metadata": {},
     "output_type": "execute_result"
    }
   ],
   "source": [
    "len(final)"
   ]
  },
  {
   "cell_type": "code",
   "execution_count": 33,
   "id": "secondary-intention",
   "metadata": {},
   "outputs": [],
   "source": [
    "songs = [x[:x.index('-') - 1 ] for x in final.keys()]\n",
    "artists = [x[x.index('-') + 2:] for x in final.keys()]\n",
    "post1 = [x[0] for x in final.values()]\n",
    "post2 = [x[1] for x in final.values()]\n",
    "postT = [(post1[x] + post2[x])/2 for x in range(0, 110)]"
   ]
  },
  {
   "cell_type": "code",
   "execution_count": 34,
   "id": "adjacent-lambda",
   "metadata": {},
   "outputs": [],
   "source": [
    "data = {'song':songs,'artist':artists,'R1':post1,'R2':post2,'RT': postT}\n",
    "df = pd.DataFrame(data)"
   ]
  },
  {
   "cell_type": "code",
   "execution_count": 35,
   "id": "tutorial-frontier",
   "metadata": {},
   "outputs": [],
   "source": [
    "df.sort_values(by=['RT'], inplace=True)"
   ]
  },
  {
   "cell_type": "code",
   "execution_count": 36,
   "id": "passive-cooking",
   "metadata": {},
   "outputs": [],
   "source": [
    "df['rank'] = [x for x in range(1,111)]\n",
    "df = df.set_index('rank')"
   ]
  },
  {
   "cell_type": "code",
   "execution_count": 37,
   "id": "unlike-workshop",
   "metadata": {
    "scrolled": true
   },
   "outputs": [
    {
     "data": {
      "text/html": [
       "<div>\n",
       "<style scoped>\n",
       "    .dataframe tbody tr th:only-of-type {\n",
       "        vertical-align: middle;\n",
       "    }\n",
       "\n",
       "    .dataframe tbody tr th {\n",
       "        vertical-align: top;\n",
       "    }\n",
       "\n",
       "    .dataframe thead th {\n",
       "        text-align: right;\n",
       "    }\n",
       "</style>\n",
       "<table border=\"1\" class=\"dataframe\">\n",
       "  <thead>\n",
       "    <tr style=\"text-align: right;\">\n",
       "      <th></th>\n",
       "      <th>song</th>\n",
       "      <th>artist</th>\n",
       "      <th>R1</th>\n",
       "      <th>R2</th>\n",
       "      <th>RT</th>\n",
       "    </tr>\n",
       "    <tr>\n",
       "      <th>rank</th>\n",
       "      <th></th>\n",
       "      <th></th>\n",
       "      <th></th>\n",
       "      <th></th>\n",
       "      <th></th>\n",
       "    </tr>\n",
       "  </thead>\n",
       "  <tbody>\n",
       "    <tr>\n",
       "      <th>1</th>\n",
       "      <td>Pull Up</td>\n",
       "      <td>Gabzy</td>\n",
       "      <td>1</td>\n",
       "      <td>1</td>\n",
       "      <td>1.0</td>\n",
       "    </tr>\n",
       "    <tr>\n",
       "      <th>2</th>\n",
       "      <td>Let U Down (feat. CIll)</td>\n",
       "      <td>Sigag Lauren</td>\n",
       "      <td>2</td>\n",
       "      <td>2</td>\n",
       "      <td>2.0</td>\n",
       "    </tr>\n",
       "    <tr>\n",
       "      <th>3</th>\n",
       "      <td>PEAKING</td>\n",
       "      <td>Tay Iwar</td>\n",
       "      <td>3</td>\n",
       "      <td>3</td>\n",
       "      <td>3.0</td>\n",
       "    </tr>\n",
       "    <tr>\n",
       "      <th>4</th>\n",
       "      <td>Company</td>\n",
       "      <td>Twiss Tosin &amp; Zen Univrse</td>\n",
       "      <td>4</td>\n",
       "      <td>4</td>\n",
       "      <td>4.0</td>\n",
       "    </tr>\n",
       "    <tr>\n",
       "      <th>5</th>\n",
       "      <td>Essence (feat. Tems)</td>\n",
       "      <td>Wizkid</td>\n",
       "      <td>5</td>\n",
       "      <td>5</td>\n",
       "      <td>5.0</td>\n",
       "    </tr>\n",
       "    <tr>\n",
       "      <th>...</th>\n",
       "      <td>...</td>\n",
       "      <td>...</td>\n",
       "      <td>...</td>\n",
       "      <td>...</td>\n",
       "      <td>...</td>\n",
       "    </tr>\n",
       "    <tr>\n",
       "      <th>106</th>\n",
       "      <td>How Dare You</td>\n",
       "      <td>Joda Kgosi</td>\n",
       "      <td>106</td>\n",
       "      <td>106</td>\n",
       "      <td>106.0</td>\n",
       "    </tr>\n",
       "    <tr>\n",
       "      <th>107</th>\n",
       "      <td>Pull Up</td>\n",
       "      <td>Don Mappy</td>\n",
       "      <td>107</td>\n",
       "      <td>107</td>\n",
       "      <td>107.0</td>\n",
       "    </tr>\n",
       "    <tr>\n",
       "      <th>108</th>\n",
       "      <td>Where (Has the Time Gone)</td>\n",
       "      <td>Bey T</td>\n",
       "      <td>108</td>\n",
       "      <td>108</td>\n",
       "      <td>108.0</td>\n",
       "    </tr>\n",
       "    <tr>\n",
       "      <th>109</th>\n",
       "      <td>Wreckless Tactics</td>\n",
       "      <td>TRiPPY TRiPPY</td>\n",
       "      <td>109</td>\n",
       "      <td>109</td>\n",
       "      <td>109.0</td>\n",
       "    </tr>\n",
       "    <tr>\n",
       "      <th>110</th>\n",
       "      <td>Cakes (feat. PatricKxxLee &amp; KashCPT)</td>\n",
       "      <td>Straffitti featuring PatricKxxLee and KashCPT</td>\n",
       "      <td>201</td>\n",
       "      <td>201</td>\n",
       "      <td>201.0</td>\n",
       "    </tr>\n",
       "  </tbody>\n",
       "</table>\n",
       "<p>110 rows × 5 columns</p>\n",
       "</div>"
      ],
      "text/plain": [
       "                                      song  \\\n",
       "rank                                         \n",
       "1                                  Pull Up   \n",
       "2                  Let U Down (feat. CIll)   \n",
       "3                                  PEAKING   \n",
       "4                                  Company   \n",
       "5                     Essence (feat. Tems)   \n",
       "...                                    ...   \n",
       "106                           How Dare You   \n",
       "107                                Pull Up   \n",
       "108              Where (Has the Time Gone)   \n",
       "109                      Wreckless Tactics   \n",
       "110   Cakes (feat. PatricKxxLee & KashCPT)   \n",
       "\n",
       "                                             artist   R1   R2     RT  \n",
       "rank                                                                  \n",
       "1                                             Gabzy    1    1    1.0  \n",
       "2                                      Sigag Lauren    2    2    2.0  \n",
       "3                                          Tay Iwar    3    3    3.0  \n",
       "4                         Twiss Tosin & Zen Univrse    4    4    4.0  \n",
       "5                                            Wizkid    5    5    5.0  \n",
       "...                                             ...  ...  ...    ...  \n",
       "106                                      Joda Kgosi  106  106  106.0  \n",
       "107                                       Don Mappy  107  107  107.0  \n",
       "108                                           Bey T  108  108  108.0  \n",
       "109                                   TRiPPY TRiPPY  109  109  109.0  \n",
       "110   Straffitti featuring PatricKxxLee and KashCPT  201  201  201.0  \n",
       "\n",
       "[110 rows x 5 columns]"
      ]
     },
     "execution_count": 37,
     "metadata": {},
     "output_type": "execute_result"
    }
   ],
   "source": [
    "df"
   ]
  },
  {
   "cell_type": "code",
   "execution_count": 38,
   "id": "korean-alfred",
   "metadata": {},
   "outputs": [],
   "source": [
    "df.to_csv('alte-week27.csv')"
   ]
  }
 ],
 "metadata": {
  "kernelspec": {
   "display_name": "Python 3",
   "language": "python",
   "name": "python3"
  },
  "language_info": {
   "codemirror_mode": {
    "name": "ipython",
    "version": 3
   },
   "file_extension": ".py",
   "mimetype": "text/x-python",
   "name": "python",
   "nbconvert_exporter": "python",
   "pygments_lexer": "ipython3",
   "version": "3.9.2"
  }
 },
 "nbformat": 4,
 "nbformat_minor": 5
}
