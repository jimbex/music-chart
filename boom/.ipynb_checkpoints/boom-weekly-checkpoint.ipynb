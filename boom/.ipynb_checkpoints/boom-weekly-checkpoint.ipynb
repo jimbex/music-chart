{
 "cells": [
  {
   "cell_type": "code",
   "execution_count": 1,
   "id": "willing-unemployment",
   "metadata": {},
   "outputs": [],
   "source": [
    "import pandas as pd\n",
    "df1 = pd.read_csv('afropop-june20.csv')\n",
    "df2 = pd.read_csv('afropop-june21.csv')\n",
    "df3 = pd.read_csv('afropop-june22.csv')\n",
    "df4 = pd.read_csv('afropop-june23.csv')\n",
    "df5 = pd.read_csv('afropop-june24.csv')\n",
    "df6 = pd.read_csv('afropop-june25.csv')\n",
    "df7 = pd.read_csv('afropop-june26.csv')"
   ]
  },
  {
   "cell_type": "code",
   "execution_count": 2,
   "id": "nervous-shoot",
   "metadata": {},
   "outputs": [],
   "source": [
    "df7['title'] = [df7['song'][x] + ' - ' + df7['artist'][x] for x in range(0,50)]\n",
    "df6['title'] = [df6['song'][x] + ' - ' + df6['artist'][x] for x in range(0,50)]\n",
    "df5['title'] = [df5['song'][x] + ' - ' + df5['artist'][x] for x in range(0,50)]\n",
    "df4['title'] = [df4['song'][x] + ' - ' + df4['artist'][x] for x in range(0,50)]\n",
    "df3['title'] = [df3['song'][x] + ' - ' + df3['artist'][x] for x in range(0,50)]\n",
    "df2['title'] = [df2['song'][x] + ' - ' + df2['artist'][x] for x in range(0,50)]\n",
    "df1['title'] = [df1['song'][x] + ' - ' + df1['artist'][x] for x in range(0,50)]"
   ]
  },
  {
   "cell_type": "code",
   "execution_count": 3,
   "id": "balanced-fellow",
   "metadata": {},
   "outputs": [],
   "source": [
    "songs = list(df1['title']) + list(df2['title']) + list(df3['title']) + list(df4['title']) + list(df5['title']) + list(df6['title']) + list(df7['title'])\n",
    "songs = set(songs)\n",
    "final = {}"
   ]
  },
  {
   "cell_type": "code",
   "execution_count": 4,
   "id": "naval-performance",
   "metadata": {},
   "outputs": [
    {
     "ename": "KeyError",
     "evalue": "'Position'",
     "output_type": "error",
     "traceback": [
      "\u001b[1;31m---------------------------------------------------------------------------\u001b[0m",
      "\u001b[1;31mKeyError\u001b[0m                                  Traceback (most recent call last)",
      "\u001b[1;32mc:\\users\\faree\\appdata\\local\\programs\\python\\python39\\lib\\site-packages\\pandas\\core\\indexes\\base.py\u001b[0m in \u001b[0;36mget_loc\u001b[1;34m(self, key, method, tolerance)\u001b[0m\n\u001b[0;32m   3079\u001b[0m             \u001b[1;32mtry\u001b[0m\u001b[1;33m:\u001b[0m\u001b[1;33m\u001b[0m\u001b[1;33m\u001b[0m\u001b[0m\n\u001b[1;32m-> 3080\u001b[1;33m                 \u001b[1;32mreturn\u001b[0m \u001b[0mself\u001b[0m\u001b[1;33m.\u001b[0m\u001b[0m_engine\u001b[0m\u001b[1;33m.\u001b[0m\u001b[0mget_loc\u001b[0m\u001b[1;33m(\u001b[0m\u001b[0mcasted_key\u001b[0m\u001b[1;33m)\u001b[0m\u001b[1;33m\u001b[0m\u001b[1;33m\u001b[0m\u001b[0m\n\u001b[0m\u001b[0;32m   3081\u001b[0m             \u001b[1;32mexcept\u001b[0m \u001b[0mKeyError\u001b[0m \u001b[1;32mas\u001b[0m \u001b[0merr\u001b[0m\u001b[1;33m:\u001b[0m\u001b[1;33m\u001b[0m\u001b[1;33m\u001b[0m\u001b[0m\n",
      "\u001b[1;32mpandas\\_libs\\index.pyx\u001b[0m in \u001b[0;36mpandas._libs.index.IndexEngine.get_loc\u001b[1;34m()\u001b[0m\n",
      "\u001b[1;32mpandas\\_libs\\index.pyx\u001b[0m in \u001b[0;36mpandas._libs.index.IndexEngine.get_loc\u001b[1;34m()\u001b[0m\n",
      "\u001b[1;32mpandas\\_libs\\hashtable_class_helper.pxi\u001b[0m in \u001b[0;36mpandas._libs.hashtable.PyObjectHashTable.get_item\u001b[1;34m()\u001b[0m\n",
      "\u001b[1;32mpandas\\_libs\\hashtable_class_helper.pxi\u001b[0m in \u001b[0;36mpandas._libs.hashtable.PyObjectHashTable.get_item\u001b[1;34m()\u001b[0m\n",
      "\u001b[1;31mKeyError\u001b[0m: 'Position'",
      "\nThe above exception was the direct cause of the following exception:\n",
      "\u001b[1;31mKeyError\u001b[0m                                  Traceback (most recent call last)",
      "\u001b[1;32m<ipython-input-4-67898e377517>\u001b[0m in \u001b[0;36m<module>\u001b[1;34m\u001b[0m\n\u001b[0;32m      2\u001b[0m \u001b[1;32mfor\u001b[0m \u001b[0mx\u001b[0m \u001b[1;32min\u001b[0m \u001b[0msongs\u001b[0m\u001b[1;33m:\u001b[0m\u001b[1;33m\u001b[0m\u001b[1;33m\u001b[0m\u001b[0m\n\u001b[0;32m      3\u001b[0m     \u001b[1;32mif\u001b[0m \u001b[0mx\u001b[0m \u001b[1;32min\u001b[0m \u001b[0msong\u001b[0m\u001b[1;33m:\u001b[0m\u001b[1;33m\u001b[0m\u001b[1;33m\u001b[0m\u001b[0m\n\u001b[1;32m----> 4\u001b[1;33m         \u001b[0mfinal\u001b[0m\u001b[1;33m[\u001b[0m\u001b[0mx\u001b[0m\u001b[1;33m]\u001b[0m \u001b[1;33m=\u001b[0m \u001b[0mlist\u001b[0m\u001b[1;33m(\u001b[0m\u001b[0mdf1\u001b[0m\u001b[1;33m[\u001b[0m\u001b[1;34m'Position'\u001b[0m\u001b[1;33m]\u001b[0m\u001b[1;33m[\u001b[0m\u001b[0mdf1\u001b[0m\u001b[1;33m[\u001b[0m\u001b[1;34m'title'\u001b[0m\u001b[1;33m]\u001b[0m \u001b[1;33m==\u001b[0m \u001b[0mx\u001b[0m\u001b[1;33m]\u001b[0m\u001b[1;33m)\u001b[0m\u001b[1;33m\u001b[0m\u001b[1;33m\u001b[0m\u001b[0m\n\u001b[0m\u001b[0;32m      5\u001b[0m     \u001b[1;32melse\u001b[0m\u001b[1;33m:\u001b[0m\u001b[1;33m\u001b[0m\u001b[1;33m\u001b[0m\u001b[0m\n\u001b[0;32m      6\u001b[0m         \u001b[0mfinal\u001b[0m\u001b[1;33m[\u001b[0m\u001b[0mx\u001b[0m\u001b[1;33m]\u001b[0m \u001b[1;33m=\u001b[0m \u001b[1;33m[\u001b[0m\u001b[1;36m201\u001b[0m\u001b[1;33m]\u001b[0m\u001b[1;33m\u001b[0m\u001b[1;33m\u001b[0m\u001b[0m\n",
      "\u001b[1;32mc:\\users\\faree\\appdata\\local\\programs\\python\\python39\\lib\\site-packages\\pandas\\core\\frame.py\u001b[0m in \u001b[0;36m__getitem__\u001b[1;34m(self, key)\u001b[0m\n\u001b[0;32m   3022\u001b[0m             \u001b[1;32mif\u001b[0m \u001b[0mself\u001b[0m\u001b[1;33m.\u001b[0m\u001b[0mcolumns\u001b[0m\u001b[1;33m.\u001b[0m\u001b[0mnlevels\u001b[0m \u001b[1;33m>\u001b[0m \u001b[1;36m1\u001b[0m\u001b[1;33m:\u001b[0m\u001b[1;33m\u001b[0m\u001b[1;33m\u001b[0m\u001b[0m\n\u001b[0;32m   3023\u001b[0m                 \u001b[1;32mreturn\u001b[0m \u001b[0mself\u001b[0m\u001b[1;33m.\u001b[0m\u001b[0m_getitem_multilevel\u001b[0m\u001b[1;33m(\u001b[0m\u001b[0mkey\u001b[0m\u001b[1;33m)\u001b[0m\u001b[1;33m\u001b[0m\u001b[1;33m\u001b[0m\u001b[0m\n\u001b[1;32m-> 3024\u001b[1;33m             \u001b[0mindexer\u001b[0m \u001b[1;33m=\u001b[0m \u001b[0mself\u001b[0m\u001b[1;33m.\u001b[0m\u001b[0mcolumns\u001b[0m\u001b[1;33m.\u001b[0m\u001b[0mget_loc\u001b[0m\u001b[1;33m(\u001b[0m\u001b[0mkey\u001b[0m\u001b[1;33m)\u001b[0m\u001b[1;33m\u001b[0m\u001b[1;33m\u001b[0m\u001b[0m\n\u001b[0m\u001b[0;32m   3025\u001b[0m             \u001b[1;32mif\u001b[0m \u001b[0mis_integer\u001b[0m\u001b[1;33m(\u001b[0m\u001b[0mindexer\u001b[0m\u001b[1;33m)\u001b[0m\u001b[1;33m:\u001b[0m\u001b[1;33m\u001b[0m\u001b[1;33m\u001b[0m\u001b[0m\n\u001b[0;32m   3026\u001b[0m                 \u001b[0mindexer\u001b[0m \u001b[1;33m=\u001b[0m \u001b[1;33m[\u001b[0m\u001b[0mindexer\u001b[0m\u001b[1;33m]\u001b[0m\u001b[1;33m\u001b[0m\u001b[1;33m\u001b[0m\u001b[0m\n",
      "\u001b[1;32mc:\\users\\faree\\appdata\\local\\programs\\python\\python39\\lib\\site-packages\\pandas\\core\\indexes\\base.py\u001b[0m in \u001b[0;36mget_loc\u001b[1;34m(self, key, method, tolerance)\u001b[0m\n\u001b[0;32m   3080\u001b[0m                 \u001b[1;32mreturn\u001b[0m \u001b[0mself\u001b[0m\u001b[1;33m.\u001b[0m\u001b[0m_engine\u001b[0m\u001b[1;33m.\u001b[0m\u001b[0mget_loc\u001b[0m\u001b[1;33m(\u001b[0m\u001b[0mcasted_key\u001b[0m\u001b[1;33m)\u001b[0m\u001b[1;33m\u001b[0m\u001b[1;33m\u001b[0m\u001b[0m\n\u001b[0;32m   3081\u001b[0m             \u001b[1;32mexcept\u001b[0m \u001b[0mKeyError\u001b[0m \u001b[1;32mas\u001b[0m \u001b[0merr\u001b[0m\u001b[1;33m:\u001b[0m\u001b[1;33m\u001b[0m\u001b[1;33m\u001b[0m\u001b[0m\n\u001b[1;32m-> 3082\u001b[1;33m                 \u001b[1;32mraise\u001b[0m \u001b[0mKeyError\u001b[0m\u001b[1;33m(\u001b[0m\u001b[0mkey\u001b[0m\u001b[1;33m)\u001b[0m \u001b[1;32mfrom\u001b[0m \u001b[0merr\u001b[0m\u001b[1;33m\u001b[0m\u001b[1;33m\u001b[0m\u001b[0m\n\u001b[0m\u001b[0;32m   3083\u001b[0m \u001b[1;33m\u001b[0m\u001b[0m\n\u001b[0;32m   3084\u001b[0m         \u001b[1;32mif\u001b[0m \u001b[0mtolerance\u001b[0m \u001b[1;32mis\u001b[0m \u001b[1;32mnot\u001b[0m \u001b[1;32mNone\u001b[0m\u001b[1;33m:\u001b[0m\u001b[1;33m\u001b[0m\u001b[1;33m\u001b[0m\u001b[0m\n",
      "\u001b[1;31mKeyError\u001b[0m: 'Position'"
     ]
    }
   ],
   "source": [
    "song = list(df1['title'])\n",
    "for x in songs:\n",
    "    if x in song:\n",
    "        final[x] = list(df1['Position'][df1['title'] == x])\n",
    "    else:\n",
    "        final[x] = [201]"
   ]
  },
  {
   "cell_type": "code",
   "execution_count": 5,
   "id": "sonic-protein",
   "metadata": {},
   "outputs": [],
   "source": [
    "song1 = list(df2['title'])\n",
    "for x in songs:\n",
    "    if x in song1:\n",
    "        final[x].append(int(df2['Position'][df2['title'] == x]))\n",
    "    else:\n",
    "        final[x].append(301)"
   ]
  },
  {
   "cell_type": "code",
   "execution_count": 6,
   "id": "southern-repository",
   "metadata": {},
   "outputs": [],
   "source": [
    "song2 = list(df3['title'])\n",
    "for x in songs:\n",
    "    if x in song2:\n",
    "        final[x].append(int(df3['Position'][df3['title'] == x]))\n",
    "    else:\n",
    "        final[x].append(301)"
   ]
  },
  {
   "cell_type": "code",
   "execution_count": 7,
   "id": "extended-lightweight",
   "metadata": {},
   "outputs": [],
   "source": [
    "song3 = list(df4['title'])\n",
    "for x in songs:\n",
    "    if x in song3:\n",
    "        final[x].append(int(df4['Position'][df4['title'] == x]))\n",
    "    else:\n",
    "        final[x].append(301)"
   ]
  },
  {
   "cell_type": "code",
   "execution_count": 8,
   "id": "varied-notebook",
   "metadata": {},
   "outputs": [],
   "source": [
    "song4 = list(df5['title'])\n",
    "for x in songs:\n",
    "    if x in song4:\n",
    "        final[x].append(int(df5['Position'][df5['title'] == x]))\n",
    "    else:\n",
    "        final[x].append(301)"
   ]
  },
  {
   "cell_type": "code",
   "execution_count": 9,
   "id": "finished-southeast",
   "metadata": {},
   "outputs": [],
   "source": [
    "song5 = list(df6['title'])\n",
    "for x in songs:\n",
    "    if x in song5:\n",
    "        final[x].append(int(df6['Position'][df6['title'] == x]))\n",
    "    else:\n",
    "        final[x].append(301)"
   ]
  },
  {
   "cell_type": "code",
   "execution_count": 10,
   "id": "virgin-tracker",
   "metadata": {},
   "outputs": [],
   "source": [
    "song6 = list(df7['title'])\n",
    "for x in songs:\n",
    "    if x in song6:\n",
    "        final[x].append(int(df7['Position'][df7['title'] == x]))\n",
    "    else:\n",
    "        final[x].append(301)"
   ]
  },
  {
   "cell_type": "code",
   "execution_count": 11,
   "id": "second-database",
   "metadata": {},
   "outputs": [
    {
     "data": {
      "text/plain": [
       "124"
      ]
     },
     "execution_count": 11,
     "metadata": {},
     "output_type": "execute_result"
    }
   ],
   "source": [
    "len(final)"
   ]
  },
  {
   "cell_type": "code",
   "execution_count": 12,
   "id": "secondary-intention",
   "metadata": {},
   "outputs": [],
   "source": [
    "songs = [x[:x.index('-') - 1 ] for x in final.keys()]\n",
    "artists = [x[x.index('-') + 2:] for x in final.keys()]\n",
    "post1 = [x[0] for x in final.values()]\n",
    "post2 = [x[1] for x in final.values()]\n",
    "post3 = [x[2] for x in final.values()]\n",
    "post4 = [x[3] for x in final.values()]\n",
    "post5 = [x[4] for x in final.values()]\n",
    "post6 = [x[5] for x in final.values()]\n",
    "post7 = [x[6] for x in final.values()]\n",
    "postT = [(post1[x] + post2[x] + post3[x] + post4[x] + post5[x] + post6[x] + post7[x] )/7 for x in range(0, 124)]"
   ]
  },
  {
   "cell_type": "code",
   "execution_count": 13,
   "id": "adjacent-lambda",
   "metadata": {},
   "outputs": [],
   "source": [
    "data = {'song':songs,'artist':artists,'R1':post1,'R2':post2,'R3':post3,'R4':post4,'R5':post5,'R6':post6,'R7':post7,'RT': postT}\n",
    "df = pd.DataFrame(data)"
   ]
  },
  {
   "cell_type": "code",
   "execution_count": 14,
   "id": "tutorial-frontier",
   "metadata": {},
   "outputs": [],
   "source": [
    "df.sort_values(by=['RT'], inplace=True)"
   ]
  },
  {
   "cell_type": "code",
   "execution_count": 15,
   "id": "passive-cooking",
   "metadata": {},
   "outputs": [],
   "source": [
    "df['rank'] = [x for x in range(1,125)]\n",
    "df = df.set_index('rank')"
   ]
  },
  {
   "cell_type": "code",
   "execution_count": 16,
   "id": "unlike-workshop",
   "metadata": {},
   "outputs": [
    {
     "data": {
      "text/html": [
       "<div>\n",
       "<style scoped>\n",
       "    .dataframe tbody tr th:only-of-type {\n",
       "        vertical-align: middle;\n",
       "    }\n",
       "\n",
       "    .dataframe tbody tr th {\n",
       "        vertical-align: top;\n",
       "    }\n",
       "\n",
       "    .dataframe thead th {\n",
       "        text-align: right;\n",
       "    }\n",
       "</style>\n",
       "<table border=\"1\" class=\"dataframe\">\n",
       "  <thead>\n",
       "    <tr style=\"text-align: right;\">\n",
       "      <th></th>\n",
       "      <th>song</th>\n",
       "      <th>artist</th>\n",
       "      <th>R1</th>\n",
       "      <th>R2</th>\n",
       "      <th>R3</th>\n",
       "      <th>R4</th>\n",
       "      <th>R5</th>\n",
       "      <th>R6</th>\n",
       "      <th>R7</th>\n",
       "      <th>RT</th>\n",
       "    </tr>\n",
       "    <tr>\n",
       "      <th>rank</th>\n",
       "      <th></th>\n",
       "      <th></th>\n",
       "      <th></th>\n",
       "      <th></th>\n",
       "      <th></th>\n",
       "      <th></th>\n",
       "      <th></th>\n",
       "      <th></th>\n",
       "      <th></th>\n",
       "      <th></th>\n",
       "    </tr>\n",
       "  </thead>\n",
       "  <tbody>\n",
       "    <tr>\n",
       "      <th>1</th>\n",
       "      <td>Rock</td>\n",
       "      <td>Olamide</td>\n",
       "      <td>1</td>\n",
       "      <td>1</td>\n",
       "      <td>1</td>\n",
       "      <td>1</td>\n",
       "      <td>1</td>\n",
       "      <td>2</td>\n",
       "      <td>2</td>\n",
       "      <td>1.285714</td>\n",
       "    </tr>\n",
       "    <tr>\n",
       "      <th>2</th>\n",
       "      <td>Feeling</td>\n",
       "      <td>LADIPOE, Buju</td>\n",
       "      <td>2</td>\n",
       "      <td>2</td>\n",
       "      <td>2</td>\n",
       "      <td>2</td>\n",
       "      <td>2</td>\n",
       "      <td>1</td>\n",
       "      <td>1</td>\n",
       "      <td>1.714286</td>\n",
       "    </tr>\n",
       "    <tr>\n",
       "      <th>3</th>\n",
       "      <td>Soundgasm</td>\n",
       "      <td>Rema</td>\n",
       "      <td>3</td>\n",
       "      <td>3</td>\n",
       "      <td>4</td>\n",
       "      <td>4</td>\n",
       "      <td>4</td>\n",
       "      <td>3</td>\n",
       "      <td>4</td>\n",
       "      <td>3.571429</td>\n",
       "    </tr>\n",
       "    <tr>\n",
       "      <th>4</th>\n",
       "      <td>Bounce</td>\n",
       "      <td>Ruger</td>\n",
       "      <td>5</td>\n",
       "      <td>4</td>\n",
       "      <td>3</td>\n",
       "      <td>3</td>\n",
       "      <td>3</td>\n",
       "      <td>4</td>\n",
       "      <td>3</td>\n",
       "      <td>3.571429</td>\n",
       "    </tr>\n",
       "    <tr>\n",
       "      <th>5</th>\n",
       "      <td>Outside</td>\n",
       "      <td>Buju</td>\n",
       "      <td>13</td>\n",
       "      <td>9</td>\n",
       "      <td>9</td>\n",
       "      <td>5</td>\n",
       "      <td>5</td>\n",
       "      <td>5</td>\n",
       "      <td>5</td>\n",
       "      <td>7.285714</td>\n",
       "    </tr>\n",
       "    <tr>\n",
       "      <th>...</th>\n",
       "      <td>...</td>\n",
       "      <td>...</td>\n",
       "      <td>...</td>\n",
       "      <td>...</td>\n",
       "      <td>...</td>\n",
       "      <td>...</td>\n",
       "      <td>...</td>\n",
       "      <td>...</td>\n",
       "      <td>...</td>\n",
       "      <td>...</td>\n",
       "    </tr>\n",
       "    <tr>\n",
       "      <th>120</th>\n",
       "      <td>Painting Pictures</td>\n",
       "      <td>POLO G</td>\n",
       "      <td>95</td>\n",
       "      <td>301</td>\n",
       "      <td>301</td>\n",
       "      <td>301</td>\n",
       "      <td>301</td>\n",
       "      <td>301</td>\n",
       "      <td>301</td>\n",
       "      <td>271.571429</td>\n",
       "    </tr>\n",
       "    <tr>\n",
       "      <th>121</th>\n",
       "      <td>Black Hearted</td>\n",
       "      <td>POLO G</td>\n",
       "      <td>97</td>\n",
       "      <td>301</td>\n",
       "      <td>301</td>\n",
       "      <td>301</td>\n",
       "      <td>301</td>\n",
       "      <td>301</td>\n",
       "      <td>301</td>\n",
       "      <td>271.857143</td>\n",
       "    </tr>\n",
       "    <tr>\n",
       "      <th>122</th>\n",
       "      <td>Verified</td>\n",
       "      <td>Laycon, Mayorkun</td>\n",
       "      <td>301</td>\n",
       "      <td>301</td>\n",
       "      <td>301</td>\n",
       "      <td>301</td>\n",
       "      <td>301</td>\n",
       "      <td>301</td>\n",
       "      <td>98</td>\n",
       "      <td>272.000000</td>\n",
       "    </tr>\n",
       "    <tr>\n",
       "      <th>123</th>\n",
       "      <td>Loco (feat. Mayorkun)</td>\n",
       "      <td>KDDO, Mayorkun</td>\n",
       "      <td>100</td>\n",
       "      <td>301</td>\n",
       "      <td>301</td>\n",
       "      <td>301</td>\n",
       "      <td>301</td>\n",
       "      <td>301</td>\n",
       "      <td>301</td>\n",
       "      <td>272.285714</td>\n",
       "    </tr>\n",
       "    <tr>\n",
       "      <th>124</th>\n",
       "      <td>Bad Habits</td>\n",
       "      <td>Ed Sheeran</td>\n",
       "      <td>301</td>\n",
       "      <td>301</td>\n",
       "      <td>301</td>\n",
       "      <td>301</td>\n",
       "      <td>301</td>\n",
       "      <td>301</td>\n",
       "      <td>100</td>\n",
       "      <td>272.285714</td>\n",
       "    </tr>\n",
       "  </tbody>\n",
       "</table>\n",
       "<p>124 rows × 10 columns</p>\n",
       "</div>"
      ],
      "text/plain": [
       "                       song            artist   R1   R2   R3   R4   R5   R6  \\\n",
       "rank                                                                          \n",
       "1                      Rock           Olamide    1    1    1    1    1    2   \n",
       "2                   Feeling     LADIPOE, Buju    2    2    2    2    2    1   \n",
       "3                 Soundgasm              Rema    3    3    4    4    4    3   \n",
       "4                    Bounce             Ruger    5    4    3    3    3    4   \n",
       "5                   Outside              Buju   13    9    9    5    5    5   \n",
       "...                     ...               ...  ...  ...  ...  ...  ...  ...   \n",
       "120       Painting Pictures            POLO G   95  301  301  301  301  301   \n",
       "121           Black Hearted            POLO G   97  301  301  301  301  301   \n",
       "122                Verified  Laycon, Mayorkun  301  301  301  301  301  301   \n",
       "123   Loco (feat. Mayorkun)    KDDO, Mayorkun  100  301  301  301  301  301   \n",
       "124              Bad Habits        Ed Sheeran  301  301  301  301  301  301   \n",
       "\n",
       "       R7          RT  \n",
       "rank                   \n",
       "1       2    1.285714  \n",
       "2       1    1.714286  \n",
       "3       4    3.571429  \n",
       "4       3    3.571429  \n",
       "5       5    7.285714  \n",
       "...   ...         ...  \n",
       "120   301  271.571429  \n",
       "121   301  271.857143  \n",
       "122    98  272.000000  \n",
       "123   301  272.285714  \n",
       "124   100  272.285714  \n",
       "\n",
       "[124 rows x 10 columns]"
      ]
     },
     "execution_count": 16,
     "metadata": {},
     "output_type": "execute_result"
    }
   ],
   "source": [
    "df"
   ]
  },
  {
   "cell_type": "code",
   "execution_count": 17,
   "id": "korean-alfred",
   "metadata": {},
   "outputs": [],
   "source": [
    "df.to_csv('deezer-week25.csv')"
   ]
  }
 ],
 "metadata": {
  "kernelspec": {
   "display_name": "Python 3",
   "language": "python",
   "name": "python3"
  },
  "language_info": {
   "codemirror_mode": {
    "name": "ipython",
    "version": 3
   },
   "file_extension": ".py",
   "mimetype": "text/x-python",
   "name": "python",
   "nbconvert_exporter": "python",
   "pygments_lexer": "ipython3",
   "version": "3.9.2"
  }
 },
 "nbformat": 4,
 "nbformat_minor": 5
}
