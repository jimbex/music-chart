{
 "cells": [
  {
   "cell_type": "code",
   "execution_count": 1,
   "id": "willing-unemployment",
   "metadata": {},
   "outputs": [],
   "source": [
    "from datetime import datetime\n",
    "m = datetime.today().strftime('%B')\n",
    "d = datetime.today().strftime('%d')\n",
    "d = int(d)\n",
    "w = datetime.today().strftime(\"%V\")"
   ]
  },
  {
   "cell_type": "code",
   "execution_count": 2,
   "id": "sexual-discharge",
   "metadata": {},
   "outputs": [],
   "source": [
    "import pandas as pd\n",
    "df1 = pd.read_csv(f'C:\\\\Users\\\\faree\\\\Desktop\\\\music charts\\\\boom\\\\afrobeat-{m}{d - 6}.csv')\n",
    "df2 = pd.read_csv(f'C:\\\\Users\\\\faree\\\\Desktop\\\\music charts\\\\boom\\\\afrobeat-{m}{d - 5}.csv')\n",
    "df3 = pd.read_csv(f'C:\\\\Users\\\\faree\\\\Desktop\\\\music charts\\\\boom\\\\afrobeat-{m}{d - 4}.csv')\n",
    "df4 = pd.read_csv(f'C:\\\\Users\\\\faree\\\\Desktop\\\\music charts\\\\boom\\\\afrobeat-{m}{d - 3}.csv')\n",
    "df5 = pd.read_csv(f'C:\\\\Users\\\\faree\\\\Desktop\\\\music charts\\\\boom\\\\afrobeat-{m}{d - 2}.csv')\n",
    "df6 = pd.read_csv(f'C:\\\\Users\\\\faree\\\\Desktop\\\\music charts\\\\boom\\\\afrobeat-{m}{d - 1}.csv')\n",
    "df7 = pd.read_csv(f'C:\\\\Users\\\\faree\\\\Desktop\\\\music charts\\\\boom\\\\afrobeat-{m}{d}.csv')"
   ]
  },
  {
   "cell_type": "code",
   "execution_count": 3,
   "id": "nervous-shoot",
   "metadata": {},
   "outputs": [],
   "source": [
    "df7['title'] = [df7['song'][x] + ' - ' + df7['artist'][x] for x in range(0,len(df7['song']))]\n",
    "df6['title'] = [df6['song'][x] + ' - ' + df6['artist'][x] for x in range(0,len(df6['song']))]\n",
    "df5['title'] = [df5['song'][x] + ' - ' + df5['artist'][x] for x in range(0,len(df5['song']))]\n",
    "df4['title'] = [df4['song'][x] + ' - ' + df4['artist'][x] for x in range(0,len(df4['song']))]\n",
    "df3['title'] = [df3['song'][x] + ' - ' + df3['artist'][x] for x in range(0,len(df3['song']))]\n",
    "df2['title'] = [df2['song'][x] + ' - ' + df2['artist'][x] for x in range(0,len(df2['song']))]\n",
    "df1['title'] = [df1['song'][x] + ' - ' + df1['artist'][x] for x in range(0,len(df1['song']))]"
   ]
  },
  {
   "cell_type": "code",
   "execution_count": 4,
   "id": "balanced-fellow",
   "metadata": {},
   "outputs": [],
   "source": [
    "songs = list(df1['title']) + list(df2['title']) + list(df3['title']) + list(df4['title']) + list(df5['title']) + list(df6['title']) + list(df7['title'])\n",
    "songs = set(songs)\n",
    "final = {}"
   ]
  },
  {
   "cell_type": "code",
   "execution_count": 5,
   "id": "naval-performance",
   "metadata": {},
   "outputs": [],
   "source": [
    "song = list(df1['title'])\n",
    "for x in songs:\n",
    "    if x in song:\n",
    "        final[x] = [song.index(x) + 1]\n",
    "    else:\n",
    "        final[x] = [201]"
   ]
  },
  {
   "cell_type": "code",
   "execution_count": 6,
   "id": "sonic-protein",
   "metadata": {},
   "outputs": [],
   "source": [
    "song1 = list(df2['title'])\n",
    "for x in songs:\n",
    "    if x in song1:\n",
    "        final[x].append(song1.index(x) + 1)\n",
    "    else:\n",
    "        final[x].append(201)"
   ]
  },
  {
   "cell_type": "code",
   "execution_count": 7,
   "id": "southern-repository",
   "metadata": {},
   "outputs": [],
   "source": [
    "song2 = list(df3['title'])\n",
    "for x in songs:\n",
    "    if x in song2:\n",
    "        final[x].append(song2.index(x) + 1)\n",
    "    else:\n",
    "        final[x].append(201)"
   ]
  },
  {
   "cell_type": "code",
   "execution_count": 8,
   "id": "extended-lightweight",
   "metadata": {},
   "outputs": [],
   "source": [
    "song3 = list(df4['title'])\n",
    "for x in songs:\n",
    "    if x in song3:\n",
    "        final[x].append(song3.index(x) + 1)\n",
    "    else:\n",
    "        final[x].append(201)"
   ]
  },
  {
   "cell_type": "code",
   "execution_count": 9,
   "id": "varied-notebook",
   "metadata": {},
   "outputs": [],
   "source": [
    "song4 = list(df5['title'])\n",
    "for x in songs:\n",
    "    if x in song4:\n",
    "        final[x].append(song4.index(x) + 1)\n",
    "    else:\n",
    "        final[x].append(201)"
   ]
  },
  {
   "cell_type": "code",
   "execution_count": 10,
   "id": "finished-southeast",
   "metadata": {},
   "outputs": [],
   "source": [
    "song5 = list(df6['title'])\n",
    "for x in songs:\n",
    "    if x in song5:\n",
    "        final[x].append(song5.index(x) + 1)\n",
    "    else:\n",
    "        final[x].append(201)"
   ]
  },
  {
   "cell_type": "code",
   "execution_count": 11,
   "id": "virgin-tracker",
   "metadata": {},
   "outputs": [],
   "source": [
    "song6 = list(df7['title'])\n",
    "for x in songs:\n",
    "    if x in song6:\n",
    "        final[x].append(song6.index(x) + 1)\n",
    "    else:\n",
    "        final[x].append(201)"
   ]
  },
  {
   "cell_type": "code",
   "execution_count": 12,
   "id": "secondary-intention",
   "metadata": {},
   "outputs": [],
   "source": [
    "songs = [x[:x.index('-') - 1 ] for x in final.keys()]\n",
    "artists = [x[x.index('-') + 2:] for x in final.keys()]\n",
    "post1 = [x[0] for x in final.values()]\n",
    "post2 = [x[1] for x in final.values()]\n",
    "post3 = [x[2] for x in final.values()]\n",
    "post4 = [x[3] for x in final.values()]\n",
    "post5 = [x[4] for x in final.values()]\n",
    "post6 = [x[5] for x in final.values()]\n",
    "post7 = [x[6] for x in final.values()]\n",
    "postT = [(post1[x] + post2[x] + post3[x] + post4[x] + post5[x] + post6[x] + post7[x] )/7 for x in range(0, len(final))]"
   ]
  },
  {
   "cell_type": "code",
   "execution_count": 13,
   "id": "adjacent-lambda",
   "metadata": {},
   "outputs": [],
   "source": [
    "data = {'song':songs,'artist':artists,'R1':post1,'R2':post2,'R3':post3,'R4':post4,'R5':post5,'R6':post6,'R7':post7,'RT': postT}\n",
    "df = pd.DataFrame(data)"
   ]
  },
  {
   "cell_type": "code",
   "execution_count": 14,
   "id": "tutorial-frontier",
   "metadata": {},
   "outputs": [],
   "source": [
    "df.sort_values(by=['RT'], inplace=True)"
   ]
  },
  {
   "cell_type": "code",
   "execution_count": 15,
   "id": "passive-cooking",
   "metadata": {},
   "outputs": [],
   "source": [
    "df['rank'] = [x for x in range(1,len(final) + 1)]\n",
    "df = df.set_index('rank')"
   ]
  },
  {
   "cell_type": "code",
   "execution_count": 16,
   "id": "korean-alfred",
   "metadata": {},
   "outputs": [],
   "source": [
    "df.to_csv(f'C:\\\\Users\\\\faree\\\\Desktop\\\\music charts\\\\boom\\\\boom_afrobeat-week{w}.csv')"
   ]
  }
 ],
 "metadata": {
  "kernelspec": {
   "display_name": "Python 3",
   "language": "python",
   "name": "python3"
  },
  "language_info": {
   "codemirror_mode": {
    "name": "ipython",
    "version": 3
   },
   "file_extension": ".py",
   "mimetype": "text/x-python",
   "name": "python",
   "nbconvert_exporter": "python",
   "pygments_lexer": "ipython3",
   "version": "3.9.2"
  }
 },
 "nbformat": 4,
 "nbformat_minor": 5
}
