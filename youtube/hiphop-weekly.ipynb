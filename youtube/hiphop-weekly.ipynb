{
 "cells": [
  {
   "cell_type": "code",
   "execution_count": 1,
   "id": "flying-growing",
   "metadata": {},
   "outputs": [],
   "source": [
    "from datetime import datetime\n",
    "m = datetime.today().strftime('%B')\n",
    "d = datetime.today().strftime('%d')\n",
    "d = int(d)\n",
    "w = datetime.today().strftime(\"%V\")"
   ]
  },
  {
   "cell_type": "code",
   "execution_count": 2,
   "id": "absent-aquatic",
   "metadata": {},
   "outputs": [],
   "source": [
    "import pandas as pd\n",
    "df1 = pd.read_csv(f'C:\\\\Users\\\\faree\\\\Desktop\\\\music charts\\\\youtube\\\\hiphop-{m}{d - 6}.csv')\n",
    "df2 = pd.read_csv(f'C:\\\\Users\\\\faree\\\\Desktop\\\\music charts\\\\youtube\\\\hiphop-{m}{d - 5}.csv')\n",
    "df3 = pd.read_csv(f'C:\\\\Users\\\\faree\\\\Desktop\\\\music charts\\\\youtube\\\\hiphop-{m}{d - 4}.csv')\n",
    "df4 = pd.read_csv(f'C:\\\\Users\\\\faree\\\\Desktop\\\\music charts\\\\youtube\\\\hiphop-{m}{d - 3}.csv')\n",
    "df5 = pd.read_csv(f'C:\\\\Users\\\\faree\\\\Desktop\\\\music charts\\\\youtube\\\\hiphop-{m}{d - 2}.csv')\n",
    "df6 = pd.read_csv(f'C:\\\\Users\\\\faree\\\\Desktop\\\\music charts\\\\youtube\\\\hiphop-{m}{d - 1}.csv')\n",
    "df7 = pd.read_csv(f'C:\\\\Users\\\\faree\\\\Desktop\\\\music charts\\\\youtube\\\\hiphop-{m}{d}.csv')"
   ]
  },
  {
   "cell_type": "code",
   "execution_count": 3,
   "id": "final-hundred",
   "metadata": {},
   "outputs": [],
   "source": [
    "df1 = df1[['song', 'artist']]\n",
    "df2 = df2[['song', 'artist']]\n",
    "df3 = df3[['song', 'artist']]\n",
    "df4 = df4[['song', 'artist']]\n",
    "df5 = df5[['song', 'artist']]\n",
    "df6 = df6[['song', 'artist']]\n",
    "df7 = df7[['song', 'artist']]"
   ]
  },
  {
   "cell_type": "code",
   "execution_count": 4,
   "id": "applied-nashville",
   "metadata": {},
   "outputs": [],
   "source": [
    "df7['position'] = [x for x in range(1,len(df7['song']) + 1)]\n",
    "df6['position'] = [x for x in range(1,len(df6['song']) + 1)]\n",
    "df5['position'] = [x for x in range(1,len(df5['song']) + 1)]\n",
    "df4['position'] = [x for x in range(1,len(df4['song']) + 1)]\n",
    "df3['position'] = [x for x in range(1,len(df3['song']) + 1)]\n",
    "df2['position'] = [x for x in range(1,len(df2['song']) + 1)]\n",
    "df1['position'] = [x for x in range(1,len(df1['song']) + 1)]"
   ]
  },
  {
   "cell_type": "code",
   "execution_count": 5,
   "id": "opponent-cleaner",
   "metadata": {},
   "outputs": [],
   "source": [
    "df7['title'] = [df7['song'][x] + ' - ' + df7['artist'][x] for x in range(0,len(df7['song']))]\n",
    "df6['title'] = [df6['song'][x] + ' - ' + df6['artist'][x] for x in range(0,len(df6['song']))]\n",
    "df5['title'] = [df5['song'][x] + ' - ' + df5['artist'][x] for x in range(0,len(df5['song']))]\n",
    "df4['title'] = [df4['song'][x] + ' - ' + df4['artist'][x] for x in range(0,len(df4['song']))]\n",
    "df3['title'] = [df3['song'][x] + ' - ' + df3['artist'][x] for x in range(0,len(df3['song']))]\n",
    "df2['title'] = [df2['song'][x] + ' - ' + df2['artist'][x] for x in range(0,len(df2['song']))]\n",
    "df1['title'] = [df1['song'][x] + ' - ' + df1['artist'][x] for x in range(0,len(df1['song']))]"
   ]
  },
  {
   "cell_type": "code",
   "execution_count": 6,
   "id": "related-radio",
   "metadata": {},
   "outputs": [],
   "source": [
    "songs = list(df1['title']) + list(df2['title']) + list(df3['title']) + list(df4['title']) + list(df5['title']) + list(df6['title']) + list(df7['title'])\n",
    "songs = set(songs)\n",
    "final = {}"
   ]
  },
  {
   "cell_type": "code",
   "execution_count": 7,
   "id": "abandoned-applicant",
   "metadata": {},
   "outputs": [],
   "source": [
    "song = list(df1['title'])\n",
    "for x in songs:\n",
    "    if x in song:\n",
    "        final[x] = list(df1['position'][df1['title'] == x])\n",
    "    else:\n",
    "        final[x] = [201]"
   ]
  },
  {
   "cell_type": "code",
   "execution_count": 8,
   "id": "unlike-microwave",
   "metadata": {},
   "outputs": [],
   "source": [
    "song1 = list(df2['title'])\n",
    "for x in songs:\n",
    "    if x in song1:\n",
    "        final[x].append(int(df2['position'][df2['title'] == x]))\n",
    "    else:\n",
    "        final[x].append(201)"
   ]
  },
  {
   "cell_type": "code",
   "execution_count": 9,
   "id": "major-conditioning",
   "metadata": {},
   "outputs": [],
   "source": [
    "artist1 = list(df1['artist'])\n",
    "artist2 = list(df2['artist'])\n",
    "artist3 = list(df3['artist'])\n",
    "artist4 = list(df4['artist'])\n",
    "artist5 = list(df5['artist'])\n",
    "artist6 = list(df6['artist'])\n",
    "artist7 = list(df7['artist'])"
   ]
  },
  {
   "cell_type": "code",
   "execution_count": 11,
   "id": "median-contemporary",
   "metadata": {},
   "outputs": [],
   "source": [
    "song2 = list(df3['title'])\n",
    "for x in songs:\n",
    "    if x in song2:\n",
    "        final[x].append(int(df3['position'][df3['title'] == x]))\n",
    "    else:\n",
    "        final[x].append(201)"
   ]
  },
  {
   "cell_type": "code",
   "execution_count": 12,
   "id": "joined-regard",
   "metadata": {},
   "outputs": [],
   "source": [
    "song3 = list(df4['title'])\n",
    "for x in songs:\n",
    "    if x in song3:\n",
    "        final[x].append(int(df4['position'][df4['title'] == x]))\n",
    "    else:\n",
    "        final[x].append(201)"
   ]
  },
  {
   "cell_type": "code",
   "execution_count": 13,
   "id": "organic-bosnia",
   "metadata": {},
   "outputs": [],
   "source": [
    "song4 = list(df5['title'])\n",
    "for x in songs:\n",
    "    if x in song4:\n",
    "        final[x].append(int(df5['position'][df5['title'] == x]))\n",
    "    else:\n",
    "        final[x].append(201)"
   ]
  },
  {
   "cell_type": "code",
   "execution_count": 14,
   "id": "dangerous-chick",
   "metadata": {},
   "outputs": [],
   "source": [
    "song5 = list(df6['title'])\n",
    "for x in songs:\n",
    "    if x in song5:\n",
    "        final[x].append(int(df6['position'][df6['title'] == x]))\n",
    "    else:\n",
    "        final[x].append(201)"
   ]
  },
  {
   "cell_type": "code",
   "execution_count": 15,
   "id": "fitting-squad",
   "metadata": {},
   "outputs": [],
   "source": [
    "song6 = list(df7['title'])\n",
    "for x in songs:\n",
    "    if x in song6:\n",
    "        final[x].append(int(df7['position'][df7['title'] == x]))\n",
    "    else:\n",
    "        final[x].append(201)"
   ]
  },
  {
   "cell_type": "code",
   "execution_count": 17,
   "id": "chicken-balloon",
   "metadata": {},
   "outputs": [],
   "source": [
    "songs = [x for x in final.keys()]\n",
    "artists = [x[x.index('-') + 2:] for x in final.keys()]\n",
    "post1 = [x[0] for x in final.values()]\n",
    "post2 = [x[1] for x in final.values()]\n",
    "post3 = [x[2] for x in final.values()]\n",
    "post4 = [x[3] for x in final.values()]\n",
    "post5 = [x[4] for x in final.values()]\n",
    "post6 = [x[5] for x in final.values()]\n",
    "post7 = [x[6] for x in final.values()]\n",
    "postT = [(post1[x] + post2[x] + post3[x] + post4[x] + post5[x] + post6[x] + post7[x] )/7 for x in range(0, len(final))]"
   ]
  },
  {
   "cell_type": "code",
   "execution_count": 18,
   "id": "collectible-prescription",
   "metadata": {},
   "outputs": [],
   "source": [
    "artist = []\n",
    "x = 0\n",
    "for i in songs:\n",
    "    if i in song:\n",
    "        artist.append(artist1[song.index(i)])\n",
    "    elif i in song1:\n",
    "        artist.append(artist2[song1.index(i)])\n",
    "    elif i in song2:\n",
    "        artist.append(artist3[song2.index(i)])\n",
    "    elif i in song3:\n",
    "        artist.append(artist4[song3.index(i)])\n",
    "    elif i in song5:\n",
    "        artist.append(artist6[song5.index(i)])\n",
    "    elif i in song6:\n",
    "        artist.append(artist7[song6.index(i)])\n",
    "    elif i in song4:\n",
    "        artist.append(artist5[song4.index(i)])\n",
    "    x += 1"
   ]
  },
  {
   "cell_type": "code",
   "execution_count": 19,
   "id": "heated-confirmation",
   "metadata": {},
   "outputs": [],
   "source": [
    "songs = [x[:x.index('-') - 1] for x in final.keys()]"
   ]
  },
  {
   "cell_type": "code",
   "execution_count": 21,
   "id": "mental-texture",
   "metadata": {},
   "outputs": [],
   "source": [
    "data = {'song':songs,'artist':artist,'R1':post1,'R2':post2,'R3':post3,'R4':post4,'R5':post5,'R6':post6,'R7':post7,'RT': postT}\n",
    "df = pd.DataFrame(data)"
   ]
  },
  {
   "cell_type": "code",
   "execution_count": 22,
   "id": "excellent-companion",
   "metadata": {},
   "outputs": [],
   "source": [
    "df.sort_values(by=['RT'], inplace=True)"
   ]
  },
  {
   "cell_type": "code",
   "execution_count": 23,
   "id": "detected-privacy",
   "metadata": {},
   "outputs": [],
   "source": [
    "df['rank'] = [x for x in range(1,len(final) + 1)]\n",
    "df = df.set_index('rank')"
   ]
  },
  {
   "cell_type": "code",
   "execution_count": 25,
   "id": "visible-rough",
   "metadata": {},
   "outputs": [],
   "source": [
    "df.to_csv(f'C:\\\\Users\\\\faree\\\\Desktop\\\\music charts\\\\youtube\\\\afrohiphop-week{w}.csv')"
   ]
  }
 ],
 "metadata": {
  "kernelspec": {
   "display_name": "Python 3",
   "language": "python",
   "name": "python3"
  },
  "language_info": {
   "codemirror_mode": {
    "name": "ipython",
    "version": 3
   },
   "file_extension": ".py",
   "mimetype": "text/x-python",
   "name": "python",
   "nbconvert_exporter": "python",
   "pygments_lexer": "ipython3",
   "version": "3.9.2"
  }
 },
 "nbformat": 4,
 "nbformat_minor": 5
}
