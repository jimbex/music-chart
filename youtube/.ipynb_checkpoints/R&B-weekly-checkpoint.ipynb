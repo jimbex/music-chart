{
 "cells": [
  {
   "cell_type": "code",
   "execution_count": 1,
   "id": "flying-growing",
   "metadata": {},
   "outputs": [
    {
     "ename": "FileNotFoundError",
     "evalue": "[Errno 2] No such file or directory: 'june27.csv'",
     "output_type": "error",
     "traceback": [
      "\u001b[1;31m---------------------------------------------------------------------------\u001b[0m",
      "\u001b[1;31mFileNotFoundError\u001b[0m                         Traceback (most recent call last)",
      "\u001b[1;32m<ipython-input-1-1a1cb8aba8e0>\u001b[0m in \u001b[0;36m<module>\u001b[1;34m\u001b[0m\n\u001b[0;32m      1\u001b[0m \u001b[1;32mimport\u001b[0m \u001b[0mpandas\u001b[0m \u001b[1;32mas\u001b[0m \u001b[0mpd\u001b[0m\u001b[1;33m\u001b[0m\u001b[1;33m\u001b[0m\u001b[0m\n\u001b[1;32m----> 2\u001b[1;33m \u001b[0mdf1\u001b[0m \u001b[1;33m=\u001b[0m \u001b[0mpd\u001b[0m\u001b[1;33m.\u001b[0m\u001b[0mread_csv\u001b[0m\u001b[1;33m(\u001b[0m\u001b[1;34m'june27.csv'\u001b[0m\u001b[1;33m)\u001b[0m\u001b[1;33m\u001b[0m\u001b[1;33m\u001b[0m\u001b[0m\n\u001b[0m\u001b[0;32m      3\u001b[0m \u001b[0mdf2\u001b[0m \u001b[1;33m=\u001b[0m \u001b[0mpd\u001b[0m\u001b[1;33m.\u001b[0m\u001b[0mread_csv\u001b[0m\u001b[1;33m(\u001b[0m\u001b[1;34m'june28.csv'\u001b[0m\u001b[1;33m)\u001b[0m\u001b[1;33m\u001b[0m\u001b[1;33m\u001b[0m\u001b[0m\n\u001b[0;32m      4\u001b[0m \u001b[0mdf3\u001b[0m \u001b[1;33m=\u001b[0m \u001b[0mpd\u001b[0m\u001b[1;33m.\u001b[0m\u001b[0mread_csv\u001b[0m\u001b[1;33m(\u001b[0m\u001b[1;34m'june29.csv'\u001b[0m\u001b[1;33m)\u001b[0m\u001b[1;33m\u001b[0m\u001b[1;33m\u001b[0m\u001b[0m\n\u001b[0;32m      5\u001b[0m \u001b[0mdf4\u001b[0m \u001b[1;33m=\u001b[0m \u001b[0mpd\u001b[0m\u001b[1;33m.\u001b[0m\u001b[0mread_csv\u001b[0m\u001b[1;33m(\u001b[0m\u001b[1;34m'june30.csv'\u001b[0m\u001b[1;33m)\u001b[0m\u001b[1;33m\u001b[0m\u001b[1;33m\u001b[0m\u001b[0m\n",
      "\u001b[1;32mc:\\users\\faree\\appdata\\local\\programs\\python\\python39\\lib\\site-packages\\pandas\\io\\parsers.py\u001b[0m in \u001b[0;36mread_csv\u001b[1;34m(filepath_or_buffer, sep, delimiter, header, names, index_col, usecols, squeeze, prefix, mangle_dupe_cols, dtype, engine, converters, true_values, false_values, skipinitialspace, skiprows, skipfooter, nrows, na_values, keep_default_na, na_filter, verbose, skip_blank_lines, parse_dates, infer_datetime_format, keep_date_col, date_parser, dayfirst, cache_dates, iterator, chunksize, compression, thousands, decimal, lineterminator, quotechar, quoting, doublequote, escapechar, comment, encoding, dialect, error_bad_lines, warn_bad_lines, delim_whitespace, low_memory, memory_map, float_precision, storage_options)\u001b[0m\n\u001b[0;32m    608\u001b[0m     \u001b[0mkwds\u001b[0m\u001b[1;33m.\u001b[0m\u001b[0mupdate\u001b[0m\u001b[1;33m(\u001b[0m\u001b[0mkwds_defaults\u001b[0m\u001b[1;33m)\u001b[0m\u001b[1;33m\u001b[0m\u001b[1;33m\u001b[0m\u001b[0m\n\u001b[0;32m    609\u001b[0m \u001b[1;33m\u001b[0m\u001b[0m\n\u001b[1;32m--> 610\u001b[1;33m     \u001b[1;32mreturn\u001b[0m \u001b[0m_read\u001b[0m\u001b[1;33m(\u001b[0m\u001b[0mfilepath_or_buffer\u001b[0m\u001b[1;33m,\u001b[0m \u001b[0mkwds\u001b[0m\u001b[1;33m)\u001b[0m\u001b[1;33m\u001b[0m\u001b[1;33m\u001b[0m\u001b[0m\n\u001b[0m\u001b[0;32m    611\u001b[0m \u001b[1;33m\u001b[0m\u001b[0m\n\u001b[0;32m    612\u001b[0m \u001b[1;33m\u001b[0m\u001b[0m\n",
      "\u001b[1;32mc:\\users\\faree\\appdata\\local\\programs\\python\\python39\\lib\\site-packages\\pandas\\io\\parsers.py\u001b[0m in \u001b[0;36m_read\u001b[1;34m(filepath_or_buffer, kwds)\u001b[0m\n\u001b[0;32m    460\u001b[0m \u001b[1;33m\u001b[0m\u001b[0m\n\u001b[0;32m    461\u001b[0m     \u001b[1;31m# Create the parser.\u001b[0m\u001b[1;33m\u001b[0m\u001b[1;33m\u001b[0m\u001b[1;33m\u001b[0m\u001b[0m\n\u001b[1;32m--> 462\u001b[1;33m     \u001b[0mparser\u001b[0m \u001b[1;33m=\u001b[0m \u001b[0mTextFileReader\u001b[0m\u001b[1;33m(\u001b[0m\u001b[0mfilepath_or_buffer\u001b[0m\u001b[1;33m,\u001b[0m \u001b[1;33m**\u001b[0m\u001b[0mkwds\u001b[0m\u001b[1;33m)\u001b[0m\u001b[1;33m\u001b[0m\u001b[1;33m\u001b[0m\u001b[0m\n\u001b[0m\u001b[0;32m    463\u001b[0m \u001b[1;33m\u001b[0m\u001b[0m\n\u001b[0;32m    464\u001b[0m     \u001b[1;32mif\u001b[0m \u001b[0mchunksize\u001b[0m \u001b[1;32mor\u001b[0m \u001b[0miterator\u001b[0m\u001b[1;33m:\u001b[0m\u001b[1;33m\u001b[0m\u001b[1;33m\u001b[0m\u001b[0m\n",
      "\u001b[1;32mc:\\users\\faree\\appdata\\local\\programs\\python\\python39\\lib\\site-packages\\pandas\\io\\parsers.py\u001b[0m in \u001b[0;36m__init__\u001b[1;34m(self, f, engine, **kwds)\u001b[0m\n\u001b[0;32m    817\u001b[0m             \u001b[0mself\u001b[0m\u001b[1;33m.\u001b[0m\u001b[0moptions\u001b[0m\u001b[1;33m[\u001b[0m\u001b[1;34m\"has_index_names\"\u001b[0m\u001b[1;33m]\u001b[0m \u001b[1;33m=\u001b[0m \u001b[0mkwds\u001b[0m\u001b[1;33m[\u001b[0m\u001b[1;34m\"has_index_names\"\u001b[0m\u001b[1;33m]\u001b[0m\u001b[1;33m\u001b[0m\u001b[1;33m\u001b[0m\u001b[0m\n\u001b[0;32m    818\u001b[0m \u001b[1;33m\u001b[0m\u001b[0m\n\u001b[1;32m--> 819\u001b[1;33m         \u001b[0mself\u001b[0m\u001b[1;33m.\u001b[0m\u001b[0m_engine\u001b[0m \u001b[1;33m=\u001b[0m \u001b[0mself\u001b[0m\u001b[1;33m.\u001b[0m\u001b[0m_make_engine\u001b[0m\u001b[1;33m(\u001b[0m\u001b[0mself\u001b[0m\u001b[1;33m.\u001b[0m\u001b[0mengine\u001b[0m\u001b[1;33m)\u001b[0m\u001b[1;33m\u001b[0m\u001b[1;33m\u001b[0m\u001b[0m\n\u001b[0m\u001b[0;32m    820\u001b[0m \u001b[1;33m\u001b[0m\u001b[0m\n\u001b[0;32m    821\u001b[0m     \u001b[1;32mdef\u001b[0m \u001b[0mclose\u001b[0m\u001b[1;33m(\u001b[0m\u001b[0mself\u001b[0m\u001b[1;33m)\u001b[0m\u001b[1;33m:\u001b[0m\u001b[1;33m\u001b[0m\u001b[1;33m\u001b[0m\u001b[0m\n",
      "\u001b[1;32mc:\\users\\faree\\appdata\\local\\programs\\python\\python39\\lib\\site-packages\\pandas\\io\\parsers.py\u001b[0m in \u001b[0;36m_make_engine\u001b[1;34m(self, engine)\u001b[0m\n\u001b[0;32m   1048\u001b[0m             )\n\u001b[0;32m   1049\u001b[0m         \u001b[1;31m# error: Too many arguments for \"ParserBase\"\u001b[0m\u001b[1;33m\u001b[0m\u001b[1;33m\u001b[0m\u001b[1;33m\u001b[0m\u001b[0m\n\u001b[1;32m-> 1050\u001b[1;33m         \u001b[1;32mreturn\u001b[0m \u001b[0mmapping\u001b[0m\u001b[1;33m[\u001b[0m\u001b[0mengine\u001b[0m\u001b[1;33m]\u001b[0m\u001b[1;33m(\u001b[0m\u001b[0mself\u001b[0m\u001b[1;33m.\u001b[0m\u001b[0mf\u001b[0m\u001b[1;33m,\u001b[0m \u001b[1;33m**\u001b[0m\u001b[0mself\u001b[0m\u001b[1;33m.\u001b[0m\u001b[0moptions\u001b[0m\u001b[1;33m)\u001b[0m  \u001b[1;31m# type: ignore[call-arg]\u001b[0m\u001b[1;33m\u001b[0m\u001b[1;33m\u001b[0m\u001b[0m\n\u001b[0m\u001b[0;32m   1051\u001b[0m \u001b[1;33m\u001b[0m\u001b[0m\n\u001b[0;32m   1052\u001b[0m     \u001b[1;32mdef\u001b[0m \u001b[0m_failover_to_python\u001b[0m\u001b[1;33m(\u001b[0m\u001b[0mself\u001b[0m\u001b[1;33m)\u001b[0m\u001b[1;33m:\u001b[0m\u001b[1;33m\u001b[0m\u001b[1;33m\u001b[0m\u001b[0m\n",
      "\u001b[1;32mc:\\users\\faree\\appdata\\local\\programs\\python\\python39\\lib\\site-packages\\pandas\\io\\parsers.py\u001b[0m in \u001b[0;36m__init__\u001b[1;34m(self, src, **kwds)\u001b[0m\n\u001b[0;32m   1865\u001b[0m \u001b[1;33m\u001b[0m\u001b[0m\n\u001b[0;32m   1866\u001b[0m         \u001b[1;31m# open handles\u001b[0m\u001b[1;33m\u001b[0m\u001b[1;33m\u001b[0m\u001b[1;33m\u001b[0m\u001b[0m\n\u001b[1;32m-> 1867\u001b[1;33m         \u001b[0mself\u001b[0m\u001b[1;33m.\u001b[0m\u001b[0m_open_handles\u001b[0m\u001b[1;33m(\u001b[0m\u001b[0msrc\u001b[0m\u001b[1;33m,\u001b[0m \u001b[0mkwds\u001b[0m\u001b[1;33m)\u001b[0m\u001b[1;33m\u001b[0m\u001b[1;33m\u001b[0m\u001b[0m\n\u001b[0m\u001b[0;32m   1868\u001b[0m         \u001b[1;32massert\u001b[0m \u001b[0mself\u001b[0m\u001b[1;33m.\u001b[0m\u001b[0mhandles\u001b[0m \u001b[1;32mis\u001b[0m \u001b[1;32mnot\u001b[0m \u001b[1;32mNone\u001b[0m\u001b[1;33m\u001b[0m\u001b[1;33m\u001b[0m\u001b[0m\n\u001b[0;32m   1869\u001b[0m         \u001b[1;32mfor\u001b[0m \u001b[0mkey\u001b[0m \u001b[1;32min\u001b[0m \u001b[1;33m(\u001b[0m\u001b[1;34m\"storage_options\"\u001b[0m\u001b[1;33m,\u001b[0m \u001b[1;34m\"encoding\"\u001b[0m\u001b[1;33m,\u001b[0m \u001b[1;34m\"memory_map\"\u001b[0m\u001b[1;33m,\u001b[0m \u001b[1;34m\"compression\"\u001b[0m\u001b[1;33m)\u001b[0m\u001b[1;33m:\u001b[0m\u001b[1;33m\u001b[0m\u001b[1;33m\u001b[0m\u001b[0m\n",
      "\u001b[1;32mc:\\users\\faree\\appdata\\local\\programs\\python\\python39\\lib\\site-packages\\pandas\\io\\parsers.py\u001b[0m in \u001b[0;36m_open_handles\u001b[1;34m(self, src, kwds)\u001b[0m\n\u001b[0;32m   1360\u001b[0m         \u001b[0mLet\u001b[0m \u001b[0mthe\u001b[0m \u001b[0mreaders\u001b[0m \u001b[0mopen\u001b[0m \u001b[0mIOHanldes\u001b[0m \u001b[0mafter\u001b[0m \u001b[0mthey\u001b[0m \u001b[0mare\u001b[0m \u001b[0mdone\u001b[0m \u001b[1;32mwith\u001b[0m \u001b[0mtheir\u001b[0m \u001b[0mpotential\u001b[0m \u001b[0mraises\u001b[0m\u001b[1;33m.\u001b[0m\u001b[1;33m\u001b[0m\u001b[1;33m\u001b[0m\u001b[0m\n\u001b[0;32m   1361\u001b[0m         \"\"\"\n\u001b[1;32m-> 1362\u001b[1;33m         self.handles = get_handle(\n\u001b[0m\u001b[0;32m   1363\u001b[0m             \u001b[0msrc\u001b[0m\u001b[1;33m,\u001b[0m\u001b[1;33m\u001b[0m\u001b[1;33m\u001b[0m\u001b[0m\n\u001b[0;32m   1364\u001b[0m             \u001b[1;34m\"r\"\u001b[0m\u001b[1;33m,\u001b[0m\u001b[1;33m\u001b[0m\u001b[1;33m\u001b[0m\u001b[0m\n",
      "\u001b[1;32mc:\\users\\faree\\appdata\\local\\programs\\python\\python39\\lib\\site-packages\\pandas\\io\\common.py\u001b[0m in \u001b[0;36mget_handle\u001b[1;34m(path_or_buf, mode, encoding, compression, memory_map, is_text, errors, storage_options)\u001b[0m\n\u001b[0;32m    640\u001b[0m                 \u001b[0merrors\u001b[0m \u001b[1;33m=\u001b[0m \u001b[1;34m\"replace\"\u001b[0m\u001b[1;33m\u001b[0m\u001b[1;33m\u001b[0m\u001b[0m\n\u001b[0;32m    641\u001b[0m             \u001b[1;31m# Encoding\u001b[0m\u001b[1;33m\u001b[0m\u001b[1;33m\u001b[0m\u001b[1;33m\u001b[0m\u001b[0m\n\u001b[1;32m--> 642\u001b[1;33m             handle = open(\n\u001b[0m\u001b[0;32m    643\u001b[0m                 \u001b[0mhandle\u001b[0m\u001b[1;33m,\u001b[0m\u001b[1;33m\u001b[0m\u001b[1;33m\u001b[0m\u001b[0m\n\u001b[0;32m    644\u001b[0m                 \u001b[0mioargs\u001b[0m\u001b[1;33m.\u001b[0m\u001b[0mmode\u001b[0m\u001b[1;33m,\u001b[0m\u001b[1;33m\u001b[0m\u001b[1;33m\u001b[0m\u001b[0m\n",
      "\u001b[1;31mFileNotFoundError\u001b[0m: [Errno 2] No such file or directory: 'june27.csv'"
     ]
    }
   ],
   "source": [
    "import pandas as pd\n",
    "df1 = pd.read_csv('june27.csv')\n",
    "df2 = pd.read_csv('june28.csv')\n",
    "df3 = pd.read_csv('june29.csv')\n",
    "df4 = pd.read_csv('june30.csv')\n",
    "df5 = pd.read_csv('july1.csv')\n",
    "df6 = pd.read_csv('july2.csv')\n",
    "df7 = pd.read_csv('july3.csv')"
   ]
  },
  {
   "cell_type": "code",
   "execution_count": 2,
   "id": "final-hundred",
   "metadata": {},
   "outputs": [
    {
     "ename": "NameError",
     "evalue": "name 'df1' is not defined",
     "output_type": "error",
     "traceback": [
      "\u001b[1;31m---------------------------------------------------------------------------\u001b[0m",
      "\u001b[1;31mNameError\u001b[0m                                 Traceback (most recent call last)",
      "\u001b[1;32m<ipython-input-2-665c23e4b7c9>\u001b[0m in \u001b[0;36m<module>\u001b[1;34m\u001b[0m\n\u001b[1;32m----> 1\u001b[1;33m \u001b[0mdf1\u001b[0m \u001b[1;33m=\u001b[0m \u001b[0mdf1\u001b[0m\u001b[1;33m[\u001b[0m\u001b[1;33m[\u001b[0m\u001b[1;34m'song'\u001b[0m\u001b[1;33m,\u001b[0m \u001b[1;34m'artist'\u001b[0m\u001b[1;33m]\u001b[0m\u001b[1;33m]\u001b[0m\u001b[1;33m\u001b[0m\u001b[1;33m\u001b[0m\u001b[0m\n\u001b[0m\u001b[0;32m      2\u001b[0m \u001b[0mdf2\u001b[0m \u001b[1;33m=\u001b[0m \u001b[0mdf2\u001b[0m\u001b[1;33m[\u001b[0m\u001b[1;33m[\u001b[0m\u001b[1;34m'song'\u001b[0m\u001b[1;33m,\u001b[0m \u001b[1;34m'artist'\u001b[0m\u001b[1;33m]\u001b[0m\u001b[1;33m]\u001b[0m\u001b[1;33m\u001b[0m\u001b[1;33m\u001b[0m\u001b[0m\n\u001b[0;32m      3\u001b[0m \u001b[0mdf3\u001b[0m \u001b[1;33m=\u001b[0m \u001b[0mdf3\u001b[0m\u001b[1;33m[\u001b[0m\u001b[1;33m[\u001b[0m\u001b[1;34m'song'\u001b[0m\u001b[1;33m,\u001b[0m \u001b[1;34m'artist'\u001b[0m\u001b[1;33m]\u001b[0m\u001b[1;33m]\u001b[0m\u001b[1;33m\u001b[0m\u001b[1;33m\u001b[0m\u001b[0m\n\u001b[0;32m      4\u001b[0m \u001b[0mdf4\u001b[0m \u001b[1;33m=\u001b[0m \u001b[0mdf4\u001b[0m\u001b[1;33m[\u001b[0m\u001b[1;33m[\u001b[0m\u001b[1;34m'song'\u001b[0m\u001b[1;33m,\u001b[0m \u001b[1;34m'artist'\u001b[0m\u001b[1;33m]\u001b[0m\u001b[1;33m]\u001b[0m\u001b[1;33m\u001b[0m\u001b[1;33m\u001b[0m\u001b[0m\n\u001b[0;32m      5\u001b[0m \u001b[0mdf5\u001b[0m \u001b[1;33m=\u001b[0m \u001b[0mdf5\u001b[0m\u001b[1;33m[\u001b[0m\u001b[1;33m[\u001b[0m\u001b[1;34m'song'\u001b[0m\u001b[1;33m,\u001b[0m \u001b[1;34m'artist'\u001b[0m\u001b[1;33m]\u001b[0m\u001b[1;33m]\u001b[0m\u001b[1;33m\u001b[0m\u001b[1;33m\u001b[0m\u001b[0m\n",
      "\u001b[1;31mNameError\u001b[0m: name 'df1' is not defined"
     ]
    }
   ],
   "source": [
    "df1 = df1[['song', 'artist']]\n",
    "df2 = df2[['song', 'artist']]\n",
    "df3 = df3[['song', 'artist']]\n",
    "df4 = df4[['song', 'artist']]\n",
    "df5 = df5[['song', 'artist']]\n",
    "df6 = df6[['song', 'artist']]\n",
    "df7 = df7[['song', 'artist']]"
   ]
  },
  {
   "cell_type": "code",
   "execution_count": 3,
   "id": "applied-nashville",
   "metadata": {},
   "outputs": [],
   "source": [
    "df7['position'] = [x for x in range(1,101)]\n",
    "df6['position'] = [x for x in range(1,101)]\n",
    "df5['position'] = [x for x in range(1,101)]\n",
    "df4['position'] = [x for x in range(1,101)]\n",
    "df3['position'] = [x for x in range(1,101)]\n",
    "df2['position'] = [x for x in range(1,101)]\n",
    "df1['position'] = [x for x in range(1,101)]"
   ]
  },
  {
   "cell_type": "code",
   "execution_count": 4,
   "id": "opponent-cleaner",
   "metadata": {},
   "outputs": [],
   "source": [
    "df7['title'] = [df7['song'][x] + ' - ' + df7['artist'][x] for x in range(0,100)]\n",
    "df6['title'] = [df6['song'][x] + ' - ' + df6['artist'][x] for x in range(0,100)]\n",
    "df5['title'] = [df5['song'][x] + ' - ' + df5['artist'][x] for x in range(0,100)]\n",
    "df4['title'] = [df4['song'][x] + ' - ' + df4['artist'][x] for x in range(0,100)]\n",
    "df3['title'] = [df3['song'][x] + ' - ' + df3['artist'][x] for x in range(0,100)]\n",
    "df2['title'] = [df2['song'][x] + ' - ' + df2['artist'][x] for x in range(0,100)]\n",
    "df1['title'] = [df1['song'][x] + ' - ' + df1['artist'][x] for x in range(0,100)]"
   ]
  },
  {
   "cell_type": "code",
   "execution_count": 5,
   "id": "related-radio",
   "metadata": {},
   "outputs": [],
   "source": [
    "songs = list(df1['title']) + list(df2['title']) + list(df3['title']) + list(df4['title']) + list(df5['title']) + list(df6['title']) + list(df7['title'])\n",
    "songs = set(songs)\n",
    "final = {}"
   ]
  },
  {
   "cell_type": "code",
   "execution_count": 6,
   "id": "abandoned-applicant",
   "metadata": {},
   "outputs": [],
   "source": [
    "song = list(df1['title'])\n",
    "for x in songs:\n",
    "    if x in song:\n",
    "        final[x] = list(df1['position'][df1['title'] == x])\n",
    "    else:\n",
    "        final[x] = [301]"
   ]
  },
  {
   "cell_type": "code",
   "execution_count": 7,
   "id": "unlike-microwave",
   "metadata": {},
   "outputs": [],
   "source": [
    "song1 = list(df2['title'])\n",
    "for x in songs:\n",
    "    if x in song1:\n",
    "        final[x].append(int(df2['position'][df2['title'] == x]))\n",
    "    else:\n",
    "        final[x].append(301)"
   ]
  },
  {
   "cell_type": "code",
   "execution_count": 8,
   "id": "major-conditioning",
   "metadata": {},
   "outputs": [],
   "source": [
    "artist1 = list(df1['artist'])\n",
    "artist2 = list(df2['artist'])\n",
    "artist3 = list(df3['artist'])\n",
    "artist4 = list(df4['artist'])\n",
    "artist5 = list(df5['artist'])\n",
    "artist6 = list(df6['artist'])\n",
    "artist7 = list(df7['artist'])"
   ]
  },
  {
   "cell_type": "code",
   "execution_count": 9,
   "id": "electric-reverse",
   "metadata": {},
   "outputs": [
    {
     "data": {
      "text/plain": [
       "{'Late At Night - Roddy Ricch': [34, 34],\n",
       " 'Coming - Naira Marley, Busiswa': [20, 20],\n",
       " 'Abu Dhabi - Ruger': [47, 45],\n",
       " 'Rough Up (feat. Layydoe) - Olamide': [10, 10],\n",
       " 'Hats Off - Lil Baby, Lil Durk, Travis Scott': [67, 67],\n",
       " 'Kilofeshe - Zinoleesky': [64, 61],\n",
       " 'Damages - Tems': [301, 301],\n",
       " 'World - Dangbana Republik, Bella Shmurda': [54, 50],\n",
       " 'Music Messiah - DJ Neptune, Wande Coal': [100, 99],\n",
       " 'So Much More - Olamide': [14, 14],\n",
       " 'Confident - Savage, Buju': [21, 17],\n",
       " 'Bounce - Ruger': [7, 3],\n",
       " 'GANG GANG - Polo G, Lil Wayne': [95, 92],\n",
       " 'Feeling - LADIPOE, Buju': [2, 2],\n",
       " 'Peaches (Masterkraft Remix) [feat. Alpha P & Omah Lay] - Justin Bieber': [301,\n",
       "  301],\n",
       " 'Early Momo (feat. GoodGirl LA) - Vector': [42, 42],\n",
       " 'Straightenin - Migos': [59, 64],\n",
       " 'Ayewada - Barry Jhay': [75, 76],\n",
       " 'PEPE - L.A.X, Davido': [52, 55],\n",
       " 'Bad Influence - Omah Lay': [83, 84],\n",
       " 'Jailer (feat. Jaywillz) - Olamide': [5, 7],\n",
       " 'Naira Marley - Zinoleesky': [301, 301],\n",
       " 'Loved By You (feat. Burna Boy) - Justin Bieber': [43, 39],\n",
       " 'Holy Ground (feat. Nicki Minaj) - Davido': [85, 87],\n",
       " '23 - Burna Boy': [49, 47],\n",
       " 'Cash App - Bella Shmurda, Zlatan, Lincoln': [69, 70],\n",
       " 'RAPSTAR - Polo G': [37, 36],\n",
       " 'Reckless - Wizkid': [60, 56],\n",
       " 'No Stress - Wizkid': [74, 68],\n",
       " 'Way Too Big - Burna Boy': [61, 60],\n",
       " 'Essence (feat. Tems) - Wizkid': [16, 15],\n",
       " 'Godly - Omah Lay': [58, 57],\n",
       " 'Oliver Twist - ArrDee': [68, 69],\n",
       " 'Need For Speed - Olamide': [3, 5],\n",
       " 'Somebody (feat. Phyno) - Olamide': [9, 301],\n",
       " 'Yaba Buluku (feat. Preck & Nelson Tivane) [Remix] - DJ Tarico, Burna Boy': [301,\n",
       "  301],\n",
       " 'For the Love of New York - Polo G, Nicki Minaj': [89, 91],\n",
       " 'Rush - Dangbana Republik, Bella Shmurda': [53, 51],\n",
       " 'Sweet One - Wizkid': [77, 74],\n",
       " 'Mighty Wine - Wizkid': [80, 78],\n",
       " 'Having Our Way (feat. Drake) - Migos': [51, 54],\n",
       " 'Monalisa - Lojay, Sarz': [32, 24],\n",
       " 'Julie - Olamide': [4, 6],\n",
       " 'Commitment Issues - Central Cee': [78, 81],\n",
       " 'LV N ATTN feat. Wizkid - Lojay, Sarz': [17, 18],\n",
       " 'Want (feat. Fave) - Olamide': [12, 12],\n",
       " 'Avalanche - Migos': [72, 82],\n",
       " 'Gyrate - Wizkid': [301, 301],\n",
       " 'INJURE ME - Teni': [63, 62],\n",
       " 'Kilometre - Burna Boy': [22, 21],\n",
       " 'Kpk (Ko Por Ke) - Rexxie, MohBad': [71, 75],\n",
       " 'Real Life (feat. Stormzy) - Burna Boy': [82, 77],\n",
       " 'Bounce - Rema': [40, 40],\n",
       " 'Somebody Baby - Davido, Peruzzi': [41, 43],\n",
       " 'Hallelu (feat. Bella Shmurda & Zlatan) - Masterkraft': [56, 53],\n",
       " 'Forever (Remix) - Gyakie, Omah Lay': [33, 32],\n",
       " 'All (feat. Davido) - Rexxie': [301, 301],\n",
       " 'Tonongo - Lojay, Sarz': [28, 26],\n",
       " 'La La (feat. CKay) - Davido': [30, 31],\n",
       " 'Peaches (feat. Daniel Caesar & GIV\\\\xc4\\\\x92ON) - Justin Bieber': [57, 52],\n",
       " 'Epidemic - Polo G': [65, 63],\n",
       " 'Calling My Phone - Lil Tjay, 6LACK': [301, 97],\n",
       " 'Dimension (feat. Skepta & Rema) - JAE5': [18, 16],\n",
       " 'Felony - CKay': [25, 25],\n",
       " 'Fame & Riches (feat. Roddy Ricch) - Polo G': [97, 96],\n",
       " 'History - Cheque, Fireboy DML': [27, 28],\n",
       " 'Rock - Olamide': [1, 1],\n",
       " 'FOR YOU (feat. Davido) - Teni': [50, 49],\n",
       " 'PonPon (feat. Fave) - Olamide': [8, 8],\n",
       " 'Longtime (feat. Skepta) - Wizkid': [76, 72],\n",
       " 'Bank On It - Burna Boy': [46, 46],\n",
       " 'Ginger (feat. Burna Boy) - Wizkid': [31, 29],\n",
       " 'Korope - Lil Kesh, Naira Marley': [301, 301],\n",
       " 'Jowo - Davido': [66, 66],\n",
       " 'Focus - Joeboy': [38, 35],\n",
       " 'Kiss Me More (feat. SZA) - Doja Cat': [301, 301],\n",
       " 'Big Thug Boys - AV': [93, 65],\n",
       " 'The Best (feat. Mayorkun) - Davido': [48, 48],\n",
       " 'It Is What It Is - Adekunle Gold': [24, 23],\n",
       " 'Cup of Tea - Olamide': [11, 11],\n",
       " 'HEARTBREAK ANNIVERSARY - GIV\\\\xc4\\\\x92ON': [90, 86],\n",
       " 'Ruger - Ruger': [88, 85],\n",
       " 'Southy Love (feat. Fireboy DML) - Peruzzi': [36, 37],\n",
       " 'Ke Star (feat. Virgo Deep) [Remix] - Focalistic, Davido': [26, 27],\n",
       " 'Antisocial (feat. Juice WRLD) - Migos': [87, 89],\n",
       " 'You Right - Doja Cat, The Weeknd': [301, 301],\n",
       " 'Celebrate Me - Patoranking': [45, 41],\n",
       " 'Smile (feat. H.E.R.) - Wizkid': [91, 90],\n",
       " 'Show Me - Joeboy': [19, 19],\n",
       " 'Voice of the Heroes - Lil Baby, Lil Durk': [62, 59],\n",
       " 'Survive (feat. Olamide) - Jaido P': [301, 301],\n",
       " 'Running (To You) - Chike, Simi': [44, 44],\n",
       " 'Omo X 100 (feat. Olamide) - Reminisce': [301, 301],\n",
       " 'Ameno - Era': [301, 98],\n",
       " 'Infinity (feat. Omah Lay) - Olamide': [70, 73],\n",
       " 'Okwaraji - Blaqbonez': [92, 93],\n",
       " 'Painting Pictures - Polo G': [99, 301],\n",
       " 'Body (Remix) [feat. ArrDee, E1 (3x3), ZT (3x3), Bugzy Malone, Buni, Fivio Foreign & Darkoo] - Tion Wayne, Russ Millions': [23,\n",
       "  22],\n",
       " 'Soundgasm - Rema': [6, 4],\n",
       " 'High Way - DJ Kaywise, Phyno': [55, 58],\n",
       " 'Piece of Me (feat. Ella Mai) - Wizkid': [84, 83],\n",
       " 'Park O X3 - Lojay, Sarz': [86, 88],\n",
       " 'Rich Off Pain - Lil Baby, Lil Durk, Rod Wave': [81, 80],\n",
       " 'KOLO (feat. Oxlade) - Ice Prince': [39, 38],\n",
       " 'Pronto - Ajebo Hustlers, Omah Lay': [29, 30],\n",
       " 'Outside - Buju': [13, 9],\n",
       " 'Too Correct - Crayon, Rema': [73, 71],\n",
       " 'Bling (feat. Amaarae & Buju) - Blaqbonez': [15, 13],\n",
       " 'Blessed (feat. Damian \"Jr. Gong\" Marley) - Wizkid': [35, 33],\n",
       " 'True Love (feat. Tay Iwar & Projexx) - Wizkid': [79, 79],\n",
       " 'Panty! - Lojay, Sarz': [94, 94],\n",
       " 'Malibu (feat. Polo G) - Migos': [96, 100],\n",
       " 'Kilofese (feat. Mayorkun & Busiswa) [Remix] - Zinoleesky': [98, 95]}"
      ]
     },
     "execution_count": 9,
     "metadata": {},
     "output_type": "execute_result"
    }
   ],
   "source": [
    "final"
   ]
  },
  {
   "cell_type": "code",
   "execution_count": 10,
   "id": "median-contemporary",
   "metadata": {},
   "outputs": [],
   "source": [
    "song2 = list(df3['title'])\n",
    "for x in songs:\n",
    "    if x in song2:\n",
    "        final[x].append(int(df3['position'][df3['title'] == x]))\n",
    "    else:\n",
    "        final[x].append(301)"
   ]
  },
  {
   "cell_type": "code",
   "execution_count": 11,
   "id": "joined-regard",
   "metadata": {},
   "outputs": [],
   "source": [
    "song3 = list(df4['title'])\n",
    "for x in songs:\n",
    "    if x in song3:\n",
    "        final[x].append(int(df4['position'][df4['title'] == x]))\n",
    "    else:\n",
    "        final[x].append(301)"
   ]
  },
  {
   "cell_type": "code",
   "execution_count": 12,
   "id": "organic-bosnia",
   "metadata": {},
   "outputs": [],
   "source": [
    "song4 = list(df5['title'])\n",
    "for x in songs:\n",
    "    if x in song4:\n",
    "        final[x].append(int(df5['position'][df5['title'] == x]))\n",
    "    else:\n",
    "        final[x].append(301)"
   ]
  },
  {
   "cell_type": "code",
   "execution_count": 13,
   "id": "dangerous-chick",
   "metadata": {},
   "outputs": [],
   "source": [
    "song5 = list(df6['title'])\n",
    "for x in songs:\n",
    "    if x in song5:\n",
    "        final[x].append(int(df6['position'][df6['title'] == x]))\n",
    "    else:\n",
    "        final[x].append(301)"
   ]
  },
  {
   "cell_type": "code",
   "execution_count": 14,
   "id": "fitting-squad",
   "metadata": {},
   "outputs": [],
   "source": [
    "song6 = list(df7['title'])\n",
    "for x in songs:\n",
    "    if x in song6:\n",
    "        final[x].append(int(df7['position'][df7['title'] == x]))\n",
    "    else:\n",
    "        final[x].append(301)"
   ]
  },
  {
   "cell_type": "code",
   "execution_count": 15,
   "id": "expected-scholar",
   "metadata": {},
   "outputs": [
    {
     "data": {
      "text/plain": [
       "113"
      ]
     },
     "execution_count": 15,
     "metadata": {},
     "output_type": "execute_result"
    }
   ],
   "source": [
    "len(final)"
   ]
  },
  {
   "cell_type": "code",
   "execution_count": 16,
   "id": "chicken-balloon",
   "metadata": {},
   "outputs": [],
   "source": [
    "songs = [x for x in final.keys()]\n",
    "artists = [x[x.index('-') + 2:] for x in final.keys()]\n",
    "post1 = [x[0] for x in final.values()]\n",
    "post2 = [x[1] for x in final.values()]\n",
    "post3 = [x[2] for x in final.values()]\n",
    "post4 = [x[3] for x in final.values()]\n",
    "post5 = [x[4] for x in final.values()]\n",
    "post6 = [x[5] for x in final.values()]\n",
    "post7 = [x[6] for x in final.values()]\n",
    "postT = [(post1[x] + post2[x] + post3[x] + post4[x] + post5[x] + post6[x] + post7[x] )/7 for x in range(0, 113)]"
   ]
  },
  {
   "cell_type": "code",
   "execution_count": 17,
   "id": "collectible-prescription",
   "metadata": {},
   "outputs": [],
   "source": [
    "artist = []\n",
    "x = 0\n",
    "for i in songs:\n",
    "    if i in song:\n",
    "        artist.append(artist1[song.index(i)])\n",
    "    elif i in song1:\n",
    "        artist.append(artist2[song1.index(i)])\n",
    "    elif i in song2:\n",
    "        artist.append(artist3[song2.index(i)])\n",
    "    elif i in song3:\n",
    "        artist.append(artist4[song3.index(i)])\n",
    "    elif i in song5:\n",
    "        artist.append(artist6[song5.index(i)])\n",
    "    elif i in song6:\n",
    "        artist.append(artist7[song6.index(i)])\n",
    "    elif i in song4:\n",
    "        artist.append(artist5[song4.index(i)])\n",
    "    x += 1"
   ]
  },
  {
   "cell_type": "code",
   "execution_count": 18,
   "id": "heated-confirmation",
   "metadata": {},
   "outputs": [],
   "source": [
    "songs = [x[:x.index('-') - 1] for x in final.keys()]"
   ]
  },
  {
   "cell_type": "code",
   "execution_count": 19,
   "id": "excess-technology",
   "metadata": {},
   "outputs": [
    {
     "data": {
      "text/plain": [
       "113"
      ]
     },
     "execution_count": 19,
     "metadata": {},
     "output_type": "execute_result"
    }
   ],
   "source": [
    "len(artist)"
   ]
  },
  {
   "cell_type": "code",
   "execution_count": 20,
   "id": "mental-texture",
   "metadata": {},
   "outputs": [],
   "source": [
    "data = {'song':songs,'artist':artist,'R1':post1,'R2':post2,'R3':post3,'R4':post4,'R5':post5,'R6':post6,'R7':post7,'RT': postT}\n",
    "df = pd.DataFrame(data)"
   ]
  },
  {
   "cell_type": "code",
   "execution_count": 21,
   "id": "excellent-companion",
   "metadata": {},
   "outputs": [],
   "source": [
    "df.sort_values(by=['RT'], inplace=True)"
   ]
  },
  {
   "cell_type": "code",
   "execution_count": 22,
   "id": "detected-privacy",
   "metadata": {},
   "outputs": [],
   "source": [
    "df['rank'] = [x for x in range(1,114)]\n",
    "df = df.set_index('rank')"
   ]
  },
  {
   "cell_type": "code",
   "execution_count": 23,
   "id": "pursuant-geology",
   "metadata": {},
   "outputs": [
    {
     "data": {
      "text/html": [
       "<div>\n",
       "<style scoped>\n",
       "    .dataframe tbody tr th:only-of-type {\n",
       "        vertical-align: middle;\n",
       "    }\n",
       "\n",
       "    .dataframe tbody tr th {\n",
       "        vertical-align: top;\n",
       "    }\n",
       "\n",
       "    .dataframe thead th {\n",
       "        text-align: right;\n",
       "    }\n",
       "</style>\n",
       "<table border=\"1\" class=\"dataframe\">\n",
       "  <thead>\n",
       "    <tr style=\"text-align: right;\">\n",
       "      <th></th>\n",
       "      <th>song</th>\n",
       "      <th>artist</th>\n",
       "      <th>R1</th>\n",
       "      <th>R2</th>\n",
       "      <th>R3</th>\n",
       "      <th>R4</th>\n",
       "      <th>R5</th>\n",
       "      <th>R6</th>\n",
       "      <th>R7</th>\n",
       "      <th>RT</th>\n",
       "    </tr>\n",
       "    <tr>\n",
       "      <th>rank</th>\n",
       "      <th></th>\n",
       "      <th></th>\n",
       "      <th></th>\n",
       "      <th></th>\n",
       "      <th></th>\n",
       "      <th></th>\n",
       "      <th></th>\n",
       "      <th></th>\n",
       "      <th></th>\n",
       "      <th></th>\n",
       "    </tr>\n",
       "  </thead>\n",
       "  <tbody>\n",
       "    <tr>\n",
       "      <th>1</th>\n",
       "      <td>Rock</td>\n",
       "      <td>Olamide</td>\n",
       "      <td>1</td>\n",
       "      <td>1</td>\n",
       "      <td>1</td>\n",
       "      <td>1</td>\n",
       "      <td>1</td>\n",
       "      <td>2</td>\n",
       "      <td>2</td>\n",
       "      <td>1.285714</td>\n",
       "    </tr>\n",
       "    <tr>\n",
       "      <th>2</th>\n",
       "      <td>Feeling</td>\n",
       "      <td>LADIPOE, Buju</td>\n",
       "      <td>2</td>\n",
       "      <td>2</td>\n",
       "      <td>2</td>\n",
       "      <td>2</td>\n",
       "      <td>2</td>\n",
       "      <td>1</td>\n",
       "      <td>1</td>\n",
       "      <td>1.714286</td>\n",
       "    </tr>\n",
       "    <tr>\n",
       "      <th>3</th>\n",
       "      <td>Soundgasm</td>\n",
       "      <td>Rema</td>\n",
       "      <td>6</td>\n",
       "      <td>4</td>\n",
       "      <td>3</td>\n",
       "      <td>3</td>\n",
       "      <td>4</td>\n",
       "      <td>4</td>\n",
       "      <td>4</td>\n",
       "      <td>4.000000</td>\n",
       "    </tr>\n",
       "    <tr>\n",
       "      <th>4</th>\n",
       "      <td>Need For Speed</td>\n",
       "      <td>Olamide</td>\n",
       "      <td>3</td>\n",
       "      <td>5</td>\n",
       "      <td>4</td>\n",
       "      <td>6</td>\n",
       "      <td>6</td>\n",
       "      <td>7</td>\n",
       "      <td>9</td>\n",
       "      <td>5.714286</td>\n",
       "    </tr>\n",
       "    <tr>\n",
       "      <th>5</th>\n",
       "      <td>Outside</td>\n",
       "      <td>Buju</td>\n",
       "      <td>13</td>\n",
       "      <td>9</td>\n",
       "      <td>7</td>\n",
       "      <td>5</td>\n",
       "      <td>5</td>\n",
       "      <td>5</td>\n",
       "      <td>5</td>\n",
       "      <td>7.000000</td>\n",
       "    </tr>\n",
       "    <tr>\n",
       "      <th>...</th>\n",
       "      <td>...</td>\n",
       "      <td>...</td>\n",
       "      <td>...</td>\n",
       "      <td>...</td>\n",
       "      <td>...</td>\n",
       "      <td>...</td>\n",
       "      <td>...</td>\n",
       "      <td>...</td>\n",
       "      <td>...</td>\n",
       "      <td>...</td>\n",
       "    </tr>\n",
       "    <tr>\n",
       "      <th>109</th>\n",
       "      <td>Peaches (Masterkraft Remix) [feat. Alpha P &amp; O...</td>\n",
       "      <td>Justin Bieber</td>\n",
       "      <td>301</td>\n",
       "      <td>301</td>\n",
       "      <td>301</td>\n",
       "      <td>301</td>\n",
       "      <td>301</td>\n",
       "      <td>301</td>\n",
       "      <td>39</td>\n",
       "      <td>263.571429</td>\n",
       "    </tr>\n",
       "    <tr>\n",
       "      <th>110</th>\n",
       "      <td>Korope</td>\n",
       "      <td>Lil Kesh, Naira Marley</td>\n",
       "      <td>301</td>\n",
       "      <td>301</td>\n",
       "      <td>301</td>\n",
       "      <td>301</td>\n",
       "      <td>301</td>\n",
       "      <td>301</td>\n",
       "      <td>56</td>\n",
       "      <td>266.000000</td>\n",
       "    </tr>\n",
       "    <tr>\n",
       "      <th>111</th>\n",
       "      <td>Kiss Me More (feat. SZA)</td>\n",
       "      <td>Doja Cat</td>\n",
       "      <td>301</td>\n",
       "      <td>301</td>\n",
       "      <td>301</td>\n",
       "      <td>301</td>\n",
       "      <td>301</td>\n",
       "      <td>301</td>\n",
       "      <td>82</td>\n",
       "      <td>269.714286</td>\n",
       "    </tr>\n",
       "    <tr>\n",
       "      <th>112</th>\n",
       "      <td>Painting Pictures</td>\n",
       "      <td>Polo G</td>\n",
       "      <td>99</td>\n",
       "      <td>301</td>\n",
       "      <td>301</td>\n",
       "      <td>301</td>\n",
       "      <td>301</td>\n",
       "      <td>301</td>\n",
       "      <td>301</td>\n",
       "      <td>272.142857</td>\n",
       "    </tr>\n",
       "    <tr>\n",
       "      <th>113</th>\n",
       "      <td>You Right</td>\n",
       "      <td>Doja Cat, The Weeknd</td>\n",
       "      <td>301</td>\n",
       "      <td>301</td>\n",
       "      <td>301</td>\n",
       "      <td>301</td>\n",
       "      <td>301</td>\n",
       "      <td>301</td>\n",
       "      <td>100</td>\n",
       "      <td>272.285714</td>\n",
       "    </tr>\n",
       "  </tbody>\n",
       "</table>\n",
       "<p>113 rows × 10 columns</p>\n",
       "</div>"
      ],
      "text/plain": [
       "                                                   song  \\\n",
       "rank                                                      \n",
       "1                                                  Rock   \n",
       "2                                               Feeling   \n",
       "3                                             Soundgasm   \n",
       "4                                        Need For Speed   \n",
       "5                                               Outside   \n",
       "...                                                 ...   \n",
       "109   Peaches (Masterkraft Remix) [feat. Alpha P & O...   \n",
       "110                                              Korope   \n",
       "111                            Kiss Me More (feat. SZA)   \n",
       "112                                   Painting Pictures   \n",
       "113                                           You Right   \n",
       "\n",
       "                      artist   R1   R2   R3   R4   R5   R6   R7          RT  \n",
       "rank                                                                         \n",
       "1                    Olamide    1    1    1    1    1    2    2    1.285714  \n",
       "2              LADIPOE, Buju    2    2    2    2    2    1    1    1.714286  \n",
       "3                       Rema    6    4    3    3    4    4    4    4.000000  \n",
       "4                    Olamide    3    5    4    6    6    7    9    5.714286  \n",
       "5                       Buju   13    9    7    5    5    5    5    7.000000  \n",
       "...                      ...  ...  ...  ...  ...  ...  ...  ...         ...  \n",
       "109            Justin Bieber  301  301  301  301  301  301   39  263.571429  \n",
       "110   Lil Kesh, Naira Marley  301  301  301  301  301  301   56  266.000000  \n",
       "111                 Doja Cat  301  301  301  301  301  301   82  269.714286  \n",
       "112                   Polo G   99  301  301  301  301  301  301  272.142857  \n",
       "113     Doja Cat, The Weeknd  301  301  301  301  301  301  100  272.285714  \n",
       "\n",
       "[113 rows x 10 columns]"
      ]
     },
     "execution_count": 23,
     "metadata": {},
     "output_type": "execute_result"
    }
   ],
   "source": [
    "df"
   ]
  },
  {
   "cell_type": "code",
   "execution_count": 24,
   "id": "visible-rough",
   "metadata": {},
   "outputs": [],
   "source": [
    "df.to_csv('C:\\\\Users\\\\faree\\\\Desktop\\\\music charts\\\\apple\\\\apple-week25.csv')"
   ]
  }
 ],
 "metadata": {
  "kernelspec": {
   "display_name": "Python 3",
   "language": "python",
   "name": "python3"
  },
  "language_info": {
   "codemirror_mode": {
    "name": "ipython",
    "version": 3
   },
   "file_extension": ".py",
   "mimetype": "text/x-python",
   "name": "python",
   "nbconvert_exporter": "python",
   "pygments_lexer": "ipython3",
   "version": "3.9.2"
  }
 },
 "nbformat": 4,
 "nbformat_minor": 5
}
