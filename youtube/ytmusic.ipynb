{
 "cells": [
  {
   "cell_type": "code",
   "execution_count": 1,
   "id": "weird-customer",
   "metadata": {},
   "outputs": [],
   "source": [
    "from ytmusicapi import YTMusic\n",
    "import pandas as pd\n",
    "\n",
    "ytmusic = YTMusic()"
   ]
  },
  {
   "cell_type": "code",
   "execution_count": 2,
   "id": "governing-prediction",
   "metadata": {},
   "outputs": [],
   "source": [
    "from datetime import datetime\n",
    "m = datetime.today().strftime('%B')\n",
    "d = datetime.today().strftime('%d')\n",
    "d = int(d)"
   ]
  },
  {
   "cell_type": "code",
   "execution_count": 3,
   "id": "amino-accident",
   "metadata": {},
   "outputs": [],
   "source": [
    "song = []\n",
    "artist = []\n",
    "street = ytmusic.get_playlist('RDCLAK5uy_lE4Fbjb8nOw2qxSeZds9mfpTTS37k9Pxs')\n",
    "for x in street['tracks']:\n",
    "    song.append(x['title'])\n",
    "    artist.append(x['artists'][0]['name'])\n",
    "    \n",
    "data = {'Position': [x for x in range(1,len(song) + 1)] ,'song': song, 'artist': artist}\n",
    "\n",
    "df = pd.DataFrame(data)\n",
    "df = df.set_index('Position')\n",
    "df.to_csv(f'street-{m}{d}.csv')"
   ]
  },
  {
   "cell_type": "code",
   "execution_count": 4,
   "id": "incredible-still",
   "metadata": {},
   "outputs": [],
   "source": [
    "song = []\n",
    "artist = []\n",
    "beats = ytmusic.get_playlist('RDCLAK5uy_kmq8ZD0NbHbKkZZ6frtlEjd8khfeZrAd0')\n",
    "for x in beats['tracks']:\n",
    "    song.append(x['title'])\n",
    "    artist.append(x['artists'][0]['name'])\n",
    "    \n",
    "data = {'Position': [x for x in range(1,len(song) + 1)] ,'song': song, 'artist': artist}\n",
    "\n",
    "df = pd.DataFrame(data)\n",
    "df = df.set_index('Position')\n",
    "df.to_csv(f'afrobeats-{m}{d}.csv')"
   ]
  },
  {
   "cell_type": "code",
   "execution_count": 5,
   "id": "concrete-atlanta",
   "metadata": {},
   "outputs": [],
   "source": [
    "song = []\n",
    "artist = []\n",
    "pop = ytmusic.get_playlist('RDCLAK5uy_nKKDoXkBvkqq7jfjQSUUCUeDk5tWTgqIw')\n",
    "for x in pop['tracks']:\n",
    "    song.append(x['title'])\n",
    "    artist.append(x['artists'][0]['name'])\n",
    "    \n",
    "data = {'Position': [x for x in range(1,len(song) + 1)] ,'song': song, 'artist': artist}\n",
    "\n",
    "df = pd.DataFrame(data)\n",
    "df = df.set_index('Position')\n",
    "df.to_csv(f'afropop-{m}{d}.csv')"
   ]
  },
  {
   "cell_type": "code",
   "execution_count": 6,
   "id": "assisted-currency",
   "metadata": {},
   "outputs": [],
   "source": [
    "song = []\n",
    "artist = []\n",
    "gospel = ytmusic.get_playlist('RDCLAK5uy_nt_rV4HSIclVcjSe9sOdwr279gx-seLQs')\n",
    "for x in gospel['tracks']:\n",
    "    song.append(x['title'])\n",
    "    artist.append(x['artists'][0]['name'])\n",
    "    \n",
    "data = {'Position': [x for x in range(1,len(song) + 1)] ,'song': song, 'artist': artist}\n",
    "\n",
    "df = pd.DataFrame(data)\n",
    "df = df.set_index('Position')\n",
    "df.to_csv(f'gospel-{m}{d}.csv')"
   ]
  },
  {
   "cell_type": "code",
   "execution_count": 7,
   "id": "southern-newcastle",
   "metadata": {},
   "outputs": [],
   "source": [
    "song = []\n",
    "artist = []\n",
    "hiphop = ytmusic.get_playlist('RDCLAK5uy_kGgoKYMbZN3uiYZL0dtWaDkLrVPvrxwPg')\n",
    "for x in hiphop['tracks']:\n",
    "    song.append(x['title'])\n",
    "    artist.append(x['artists'][0]['name'])\n",
    "    \n",
    "data = {'Position': [x for x in range(1,len(song) + 1)] ,'song': song, 'artist': artist}\n",
    "\n",
    "df = pd.DataFrame(data)\n",
    "df = df.set_index('Position')\n",
    "df.to_csv(f'hiphop-{m}{d}.csv')"
   ]
  },
  {
   "cell_type": "code",
   "execution_count": 8,
   "id": "democratic-sunday",
   "metadata": {},
   "outputs": [],
   "source": [
    "song = []\n",
    "artist = []\n",
    "r_b = ytmusic.get_playlist('RDCLAK5uy_n3qkemHBD9k_a0B_pX2VWB0RPvebkR7uU')\n",
    "for x in r_b['tracks']:\n",
    "    song.append(x['title'])\n",
    "    artist.append(x['artists'][0]['name'])\n",
    "    \n",
    "data = {'Position': [x for x in range(1,len(song) + 1)] ,'song': song, 'artist': artist}\n",
    "\n",
    "df = pd.DataFrame(data)\n",
    "df = df.set_index('Position')\n",
    "df.to_csv(f'R&B-{m}{d}.csv')"
   ]
  }
 ],
 "metadata": {
  "kernelspec": {
   "display_name": "Python 3",
   "language": "python",
   "name": "python3"
  },
  "language_info": {
   "codemirror_mode": {
    "name": "ipython",
    "version": 3
   },
   "file_extension": ".py",
   "mimetype": "text/x-python",
   "name": "python",
   "nbconvert_exporter": "python",
   "pygments_lexer": "ipython3",
   "version": "3.9.2"
  }
 },
 "nbformat": 4,
 "nbformat_minor": 5
}
